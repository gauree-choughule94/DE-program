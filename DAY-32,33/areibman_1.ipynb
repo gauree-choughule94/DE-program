{
 "cells": [
  {
   "cell_type": "code",
   "execution_count": 0,
   "metadata": {
    "application/vnd.databricks.v1+cell": {
     "cellMetadata": {
      "byteLimit": 2048000,
      "rowLimit": 10000
     },
     "inputWidgets": {},
     "nuid": "d9a8b177-6bd2-4419-97cc-7e9931a203dc",
     "showTitle": false,
     "tableResultSettingsMap": {},
     "title": ""
    }
   },
   "outputs": [],
   "source": [
    "import requests\n",
    "from pyspark.sql import SparkSession\n",
    "from pyspark.sql.types import StructType, StructField, IntegerType, StringType\n",
    "\n",
    "def fetch_api_data(limit=100, page=None, table_name=\"api_comments_table\"):\n",
    "    spark = SparkSession.builder.getOrCreate()\n",
    "\n",
    "    base_url = \"https://jsonplaceholder.typicode.com/comments\"\n",
    "    \n",
    "    schema = StructType([\n",
    "        StructField(\"postId\", IntegerType(), True),\n",
    "        StructField(\"id\", IntegerType(), True),\n",
    "        StructField(\"name\", StringType(), True),\n",
    "        StructField(\"email\", StringType(), True),\n",
    "        StructField(\"body\", StringType(), True),\n",
    "    ])\n",
    "    \n",
    "    try:\n",
    "        if page is not None:\n",
    "            response = requests.get(base_url, params={\"_limit\": limit, \"_page\": page})\n",
    "            response.raise_for_status()        # Raises HTTPError if status is 4xx or 5xx\n",
    "\n",
    "            data = response.json()\n",
    "            if not data:\n",
    "                # Empty page response, return all data from table as DataFrame\n",
    "                if page > 5:\n",
    "                    print(f\"No data found on page {page}. Pagination complete. Returning collected data.\")\n",
    "                return spark.table(table_name)\n",
    "\n",
    "            return spark.createDataFrame(data, schema) # If data is present, it creates df\n",
    "\n",
    "        # No page provided, fetch all pages\n",
    "        all_data = []\n",
    "        current_page = 1\n",
    "\n",
    "        while True:\n",
    "            response = requests.get(base_url, params={\"_limit\": limit, \"_page\": current_page})\n",
    "            response.raise_for_status()\n",
    "            # if response.status_code != 200:\n",
    "            #     print(\"No response from API\")\n",
    "            #     return None\n",
    "\n",
    "            pages_data = response.json()\n",
    "\n",
    "            if current_page == 1 and not pages_data:\n",
    "                # Case 2: Empty first page response, return all data from table\n",
    "                return spark.table(table_name)\n",
    "\n",
    "            if not pages_data:\n",
    "                break\n",
    "\n",
    "            all_data.extend(pages_data)\n",
    "            current_page += 1\n",
    "\n",
    "        # return all collected data as DataFrame\n",
    "        return spark.createDataFrame(all_data, schema)\n",
    "\n",
    "    except requests.RequestException:\n",
    "        print(\"No response from API\")\n",
    "        return None\n",
    " \n",
    "def save_all_data_to_table(limit=100, table_name=\"api_comments_table\"):\n",
    "    spark = SparkSession.builder.getOrCreate()\n",
    "\n",
    "    # Fetch all data (all pages)\n",
    "    df = fetch_api_data(limit=limit, page=None, table_name=table_name)\n",
    "    if df is None:\n",
    "        print(\"No data found to save.\")\n",
    "        return\n",
    "\n",
    "    df.write.mode(\"overwrite\").saveAsTable(table_name)\n",
    "    print(f\" Data saved to table '{table_name}' (records: {df.count()})\")\n",
    "\n",
    "def test_source_destination_count(api_url: str, table_name: str) -> str:\n",
    "    \"\"\"\n",
    "    Test if the count of API data matches the count of data in Spark table.\n",
    "\n",
    "    Returns:\n",
    "    - \"PASS\" if counts match\n",
    "    - \"FAIL\" if counts differ\n",
    "    - Or error message string if something goes wrong\n",
    "    \"\"\"\n",
    "    spark = SparkSession.builder.getOrCreate()\n",
    "\n",
    "    try:\n",
    "        # Fetch all API data in a single call (if supported)\n",
    "        api_data = requests.get(api_url).json()\n",
    "\n",
    "        if not api_data:\n",
    "            return \"FAIL: API returned empty data\"\n",
    "\n",
    "        api_count = len(api_data)\n",
    "        dest_count = spark.table(table_name).count()\n",
    "        # Compare counts\n",
    "        if api_count == dest_count:\n",
    "            print(f\" Test Passed: API count ({api_count}) == Table count ({dest_count})\")\n",
    "            return \"PASS\"\n",
    "        else:\n",
    "            print(f\" Test Failed: API count ({api_count}) != Table count ({dest_count})\")\n",
    "            return \"FAIL\"\n",
    "\n",
    "    except requests.RequestException as e:\n",
    "        return f\"FAIL: API request error: {e}\""
   ]
  },
  {
   "cell_type": "code",
   "execution_count": 0,
   "metadata": {
    "application/vnd.databricks.v1+cell": {
     "cellMetadata": {
      "byteLimit": 2048000,
      "rowLimit": 10000
     },
     "inputWidgets": {},
     "nuid": "bf928a02-fdeb-4852-abc7-f388743937e0",
     "showTitle": false,
     "tableResultSettingsMap": {},
     "title": ""
    }
   },
   "outputs": [
    {
     "output_type": "stream",
     "name": "stdout",
     "output_type": "stream",
     "text": [
      "+------+---+--------------------+-----------------+--------------------+\n|postId| id|                name|            email|                body|\n+------+---+--------------------+-----------------+--------------------+\n|    41|201|et adipisci aliqu...|   Cleve@royal.us|est officiis plac...|\n|    41|202|blanditiis vel fu...|Donnell@polly.net|sequi expedita qu...|\n|    41|203|ab enim adipisci ...|  Bonita@karl.biz|eum voluptates id...|\n|    41|204|autem voluptates ...|Shea@angelina.biz|voluptatibus pari...|\n|    41|205|et reiciendis ull...|Omari@veronica.us|voluptatem accusa...|\n+------+---+--------------------+-----------------+--------------------+\nonly showing top 5 rows\n\n100\n Data saved to table 'api_comments_table' (records: 500)\n Test Passed: API count (500) == Table count (500)\nTest result: PASS\n"
     ]
    }
   ],
   "source": [
    "data1 = fetch_api_data(limit=100, page=3, table_name=\"api_comments_table\")\n",
    "data1.show(5)\n",
    "print(data1.count())\n",
    "# fetch_api_data(limit=100, table_name=\"api_comments_table1\").show(5)\n",
    "\n",
    "save_all_data_to_table(limit=100, table_name=\"api_comments_table\")\n",
    "\n",
    "result = test_source_destination_count(api_url=\"https://jsonplaceholder.typicode.com/comments\", table_name=\"api_comments_table\")\n",
    "print(\"Test result:\", result)"
   ]
  },
  {
   "cell_type": "code",
   "execution_count": 0,
   "metadata": {
    "application/vnd.databricks.v1+cell": {
     "cellMetadata": {},
     "inputWidgets": {},
     "nuid": "e81ee6c4-da7d-4427-bb96-1c7d1724dca0",
     "showTitle": false,
     "tableResultSettingsMap": {},
     "title": ""
    }
   },
   "outputs": [],
   "source": []
  },
  {
   "cell_type": "code",
   "execution_count": 0,
   "metadata": {
    "application/vnd.databricks.v1+cell": {
     "cellMetadata": {},
     "inputWidgets": {},
     "nuid": "67904d22-70b8-4b38-8cb0-07624724d2fc",
     "showTitle": false,
     "tableResultSettingsMap": {},
     "title": ""
    }
   },
   "outputs": [],
   "source": []
  },
  {
   "cell_type": "code",
   "execution_count": 0,
   "metadata": {
    "application/vnd.databricks.v1+cell": {
     "cellMetadata": {
      "byteLimit": 2048000,
      "rowLimit": 10000
     },
     "inputWidgets": {},
     "nuid": "0eaff111-9cd9-49d8-a227-8f9ec67fca26",
     "showTitle": false,
     "tableResultSettingsMap": {},
     "title": ""
    }
   },
   "outputs": [
    {
     "output_type": "stream",
     "name": "stdout",
     "output_type": "stream",
     "text": [
      "+------+---+--------------------+--------------------+--------------------+\n|postId| id|                name|               email|                body|\n+------+---+--------------------+--------------------+--------------------+\n|     1|  1|id labore ex et q...|  Eliseo@gardner.biz|laudantium enim q...|\n|     1|  2|quo vero reiciend...|Jayne_Kuhic@sydne...|est natus enim ni...|\n|     1|  3|odio adipisci rer...| Nikita@garfield.biz|quia molestiae re...|\n|     1|  4|      alias odio sit|       Lew@alysha.tv|non et atque\\nocc...|\n|     1|  5|vero eaque aliqui...|   Hayden@althea.biz|harum non quasi e...|\n+------+---+--------------------+--------------------+--------------------+\nonly showing top 5 rows\n\n"
     ]
    }
   ],
   "source": [
    "spark.sql(\"SELECT * FROM api_comments_table\").show(5)"
   ]
  },
  {
   "cell_type": "code",
   "execution_count": 0,
   "metadata": {
    "application/vnd.databricks.v1+cell": {
     "cellMetadata": {
      "byteLimit": 2048000,
      "rowLimit": 10000
     },
     "inputWidgets": {},
     "nuid": "23001fcc-12ff-44d7-8e6e-c8b6f989a8b8",
     "showTitle": false,
     "tableResultSettingsMap": {},
     "title": ""
    }
   },
   "outputs": [
    {
     "output_type": "stream",
     "name": "stdout",
     "output_type": "stream",
     "text": [
      "+------+---+--------------------+--------------------+--------------------+\n|postId| id|                name|               email|                body|\n+------+---+--------------------+--------------------+--------------------+\n|     1|  1|id labore ex et q...|  Eliseo@gardner.biz|laudantium enim q...|\n|     1|  2|quo vero reiciend...|Jayne_Kuhic@sydne...|est natus enim ni...|\n|     1|  3|odio adipisci rer...| Nikita@garfield.biz|quia molestiae re...|\n|     1|  4|      alias odio sit|       Lew@alysha.tv|non et atque\\nocc...|\n|     1|  5|vero eaque aliqui...|   Hayden@althea.biz|harum non quasi e...|\n|     2|  6|et fugit eligendi...|Presley.Mueller@m...|doloribus at sed ...|\n+------+---+--------------------+--------------------+--------------------+\n\n"
     ]
    }
   ],
   "source": [
    "spark.sql(\"SELECT * FROM api_comments_table LIMIT 6\").show()"
   ]
  },
  {
   "cell_type": "code",
   "execution_count": 0,
   "metadata": {
    "application/vnd.databricks.v1+cell": {
     "cellMetadata": {
      "byteLimit": 2048000,
      "implicitDf": true,
      "rowLimit": 10000
     },
     "inputWidgets": {},
     "nuid": "204a56f6-5de4-4381-9f5d-7a607942728a",
     "showTitle": false,
     "tableResultSettingsMap": {},
     "title": ""
    }
   },
   "outputs": [
    {
     "output_type": "display_data",
     "data": {
      "text/html": [
       "<style scoped>\n",
       "  .table-result-container {\n",
       "    max-height: 300px;\n",
       "    overflow: auto;\n",
       "  }\n",
       "  table, th, td {\n",
       "    border: 1px solid black;\n",
       "    border-collapse: collapse;\n",
       "  }\n",
       "  th, td {\n",
       "    padding: 5px;\n",
       "  }\n",
       "  th {\n",
       "    text-align: left;\n",
       "  }\n",
       "</style><div class='table-result-container'><table class='table-result'><thead style='background-color: white'><tr><th>postId</th><th>id</th><th>name</th><th>email</th><th>body</th></tr></thead><tbody><tr><td>1</td><td>1</td><td>id labore ex et quam laborum</td><td>Eliseo@gardner.biz</td><td>laudantium enim quasi est quidem magnam voluptate ipsam eos\n",
       "tempora quo necessitatibus\n",
       "dolor quam autem quasi\n",
       "reiciendis et nam sapiente accusantium</td></tr><tr><td>1</td><td>2</td><td>quo vero reiciendis velit similique earum</td><td>Jayne_Kuhic@sydney.com</td><td>est natus enim nihil est dolore omnis voluptatem numquam\n",
       "et omnis occaecati quod ullam at\n",
       "voluptatem error expedita pariatur\n",
       "nihil sint nostrum voluptatem reiciendis et</td></tr><tr><td>1</td><td>3</td><td>odio adipisci rerum aut animi</td><td>Nikita@garfield.biz</td><td>quia molestiae reprehenderit quasi aspernatur\n",
       "aut expedita occaecati aliquam eveniet laudantium\n",
       "omnis quibusdam delectus saepe quia accusamus maiores nam est\n",
       "cum et ducimus et vero voluptates excepturi deleniti ratione</td></tr><tr><td>1</td><td>4</td><td>alias odio sit</td><td>Lew@alysha.tv</td><td>non et atque\n",
       "occaecati deserunt quas accusantium unde odit nobis qui voluptatem\n",
       "quia voluptas consequuntur itaque dolor\n",
       "et qui rerum deleniti ut occaecati</td></tr><tr><td>1</td><td>5</td><td>vero eaque aliquid doloribus et culpa</td><td>Hayden@althea.biz</td><td>harum non quasi et ratione\n",
       "tempore iure ex voluptates in ratione\n",
       "harum architecto fugit inventore cupiditate\n",
       "voluptates magni quo et</td></tr></tbody></table></div>"
      ]
     },
     "metadata": {
      "application/vnd.databricks.v1+output": {
       "addedWidgets": {},
       "aggData": [],
       "aggError": "",
       "aggOverflow": false,
       "aggSchema": [],
       "aggSeriesLimitReached": false,
       "aggType": "",
       "arguments": {},
       "columnCustomDisplayInfos": {},
       "data": [
        [
         1,
         1,
         "id labore ex et quam laborum",
         "Eliseo@gardner.biz",
         "laudantium enim quasi est quidem magnam voluptate ipsam eos\ntempora quo necessitatibus\ndolor quam autem quasi\nreiciendis et nam sapiente accusantium"
        ],
        [
         1,
         2,
         "quo vero reiciendis velit similique earum",
         "Jayne_Kuhic@sydney.com",
         "est natus enim nihil est dolore omnis voluptatem numquam\net omnis occaecati quod ullam at\nvoluptatem error expedita pariatur\nnihil sint nostrum voluptatem reiciendis et"
        ],
        [
         1,
         3,
         "odio adipisci rerum aut animi",
         "Nikita@garfield.biz",
         "quia molestiae reprehenderit quasi aspernatur\naut expedita occaecati aliquam eveniet laudantium\nomnis quibusdam delectus saepe quia accusamus maiores nam est\ncum et ducimus et vero voluptates excepturi deleniti ratione"
        ],
        [
         1,
         4,
         "alias odio sit",
         "Lew@alysha.tv",
         "non et atque\noccaecati deserunt quas accusantium unde odit nobis qui voluptatem\nquia voluptas consequuntur itaque dolor\net qui rerum deleniti ut occaecati"
        ],
        [
         1,
         5,
         "vero eaque aliquid doloribus et culpa",
         "Hayden@althea.biz",
         "harum non quasi et ratione\ntempore iure ex voluptates in ratione\nharum architecto fugit inventore cupiditate\nvoluptates magni quo et"
        ]
       ],
       "datasetInfos": [],
       "dbfsResultPath": null,
       "isJsonSchema": true,
       "metadata": {},
       "overflow": false,
       "plotOptions": {
        "customPlotOptions": {},
        "displayType": "table",
        "pivotAggregation": null,
        "pivotColumns": null,
        "xColumns": null,
        "yColumns": null
       },
       "removedWidgets": [],
       "schema": [
        {
         "metadata": "{}",
         "name": "postId",
         "type": "\"integer\""
        },
        {
         "metadata": "{}",
         "name": "id",
         "type": "\"integer\""
        },
        {
         "metadata": "{}",
         "name": "name",
         "type": "\"string\""
        },
        {
         "metadata": "{}",
         "name": "email",
         "type": "\"string\""
        },
        {
         "metadata": "{}",
         "name": "body",
         "type": "\"string\""
        }
       ],
       "type": "table"
      }
     },
     "output_type": "display_data"
    }
   ],
   "source": [
    "%sql\n",
    "SELECT * FROM api_comments_table LIMIT 5"
   ]
  }
 ],
 "metadata": {
  "application/vnd.databricks.v1+notebook": {
   "computePreferences": null,
   "dashboards": [],
   "environmentMetadata": {
    "base_environment": "",
    "environment_version": "1"
   },
   "inputWidgetPreferences": null,
   "language": "python",
   "notebookMetadata": {
    "mostRecentlyExecutedCommandWithImplicitDF": {
     "commandId": 3024272849169699,
     "dataframes": [
      "_sqldf"
     ]
    },
    "pythonIndentUnit": 4
   },
   "notebookName": "areibman_1",
   "widgets": {}
  }
 },
 "nbformat": 4,
 "nbformat_minor": 0
}