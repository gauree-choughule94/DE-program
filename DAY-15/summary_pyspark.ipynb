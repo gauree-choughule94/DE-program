{
 "cells": [
  {
   "cell_type": "code",
   "execution_count": 0,
   "metadata": {
    "application/vnd.databricks.v1+cell": {
     "cellMetadata": {
      "byteLimit": 2048000,
      "rowLimit": 10000
     },
     "inputWidgets": {},
     "nuid": "97001161-4f3c-4487-a626-6fce6b112c71",
     "showTitle": false,
     "tableResultSettingsMap": {},
     "title": ""
    }
   },
   "outputs": [
    {
     "output_type": "stream",
     "name": "stdout",
     "output_type": "stream",
     "text": [
      "root\n |-- DEST_COUNTRY_NAME: string (nullable = true)\n |-- ORIGIN_COUNTRY_NAME: string (nullable = true)\n |-- count: integer (nullable = true)\n\n"
     ]
    }
   ],
   "source": [
    "read_csv_data = spark.read.format('csv')\\\n",
    "    .option('header', 'true')\\\n",
    "        .option('inferSchema', 'true')\\\n",
    "            .option('mode', 'permissive')\\\n",
    "                .load('/FileStore/tables/flight_data.csv')\n",
    "\n",
    "read_csv_data.printSchema()"
   ]
  },
  {
   "cell_type": "code",
   "execution_count": 0,
   "metadata": {
    "application/vnd.databricks.v1+cell": {
     "cellMetadata": {
      "byteLimit": 2048000,
      "rowLimit": 10000
     },
     "inputWidgets": {},
     "nuid": "eb53358b-a9b3-48d8-8e8c-2a399408ef28",
     "showTitle": false,
     "tableResultSettingsMap": {},
     "title": ""
    }
   },
   "outputs": [
    {
     "output_type": "display_data",
     "data": {
      "text/html": [
       "<style scoped>\n",
       "  .table-result-container {\n",
       "    max-height: 300px;\n",
       "    overflow: auto;\n",
       "  }\n",
       "  table, th, td {\n",
       "    border: 1px solid black;\n",
       "    border-collapse: collapse;\n",
       "  }\n",
       "  th, td {\n",
       "    padding: 5px;\n",
       "  }\n",
       "  th {\n",
       "    text-align: left;\n",
       "  }\n",
       "</style><div class='table-result-container'><table class='table-result'><thead style='background-color: white'><tr><th>path</th><th>name</th><th>size</th><th>modificationTime</th></tr></thead><tbody><tr><td>dbfs:/FileStore/tables/corrupted_json.json</td><td>corrupted_json.json</td><td>214</td><td>1745986381000</td></tr><tr><td>dbfs:/FileStore/tables/disk_part.csv</td><td>disk_part.csv</td><td>429</td><td>1745986381000</td></tr><tr><td>dbfs:/FileStore/tables/employee.csv</td><td>employee.csv</td><td>225</td><td>1745986369000</td></tr><tr><td>dbfs:/FileStore/tables/flight_data.csv</td><td>flight_data.csv</td><td>7120</td><td>1745986369000</td></tr><tr><td>dbfs:/FileStore/tables/line_deli_extra_fields.json</td><td>line_deli_extra_fields.json</td><td>228</td><td>1745986382000</td></tr><tr><td>dbfs:/FileStore/tables/line_delimited_json.json</td><td>line_delimited_json.json</td><td>215</td><td>1745986382000</td></tr><tr><td>dbfs:/FileStore/tables/multi_line_incorrect.json</td><td>multi_line_incorrect.json</td><td>328</td><td>1745986382000</td></tr><tr><td>dbfs:/FileStore/tables/multiline_correct.json</td><td>multiline_correct.json</td><td>388</td><td>1745986382000</td></tr><tr><td>dbfs:/FileStore/tables/resturant_json_data.json</td><td>resturant_json_data.json</td><td>669503</td><td>1745986404000</td></tr></tbody></table></div>"
      ]
     },
     "metadata": {
      "application/vnd.databricks.v1+output": {
       "addedWidgets": {},
       "aggData": [],
       "aggError": "",
       "aggOverflow": false,
       "aggSchema": [],
       "aggSeriesLimitReached": false,
       "aggType": "",
       "arguments": {},
       "columnCustomDisplayInfos": {},
       "data": [
        [
         "dbfs:/FileStore/tables/corrupted_json.json",
         "corrupted_json.json",
         214,
         1745986381000
        ],
        [
         "dbfs:/FileStore/tables/disk_part.csv",
         "disk_part.csv",
         429,
         1745986381000
        ],
        [
         "dbfs:/FileStore/tables/employee.csv",
         "employee.csv",
         225,
         1745986369000
        ],
        [
         "dbfs:/FileStore/tables/flight_data.csv",
         "flight_data.csv",
         7120,
         1745986369000
        ],
        [
         "dbfs:/FileStore/tables/line_deli_extra_fields.json",
         "line_deli_extra_fields.json",
         228,
         1745986382000
        ],
        [
         "dbfs:/FileStore/tables/line_delimited_json.json",
         "line_delimited_json.json",
         215,
         1745986382000
        ],
        [
         "dbfs:/FileStore/tables/multi_line_incorrect.json",
         "multi_line_incorrect.json",
         328,
         1745986382000
        ],
        [
         "dbfs:/FileStore/tables/multiline_correct.json",
         "multiline_correct.json",
         388,
         1745986382000
        ],
        [
         "dbfs:/FileStore/tables/resturant_json_data.json",
         "resturant_json_data.json",
         669503,
         1745986404000
        ]
       ],
       "datasetInfos": [],
       "dbfsResultPath": null,
       "isJsonSchema": true,
       "metadata": {
        "isDbfsCommandResult": false
       },
       "overflow": false,
       "plotOptions": {
        "customPlotOptions": {},
        "displayType": "table",
        "pivotAggregation": null,
        "pivotColumns": null,
        "xColumns": null,
        "yColumns": null
       },
       "removedWidgets": [],
       "schema": [
        {
         "metadata": "{}",
         "name": "path",
         "type": "\"string\""
        },
        {
         "metadata": "{}",
         "name": "name",
         "type": "\"string\""
        },
        {
         "metadata": "{}",
         "name": "size",
         "type": "\"long\""
        },
        {
         "metadata": "{}",
         "name": "modificationTime",
         "type": "\"long\""
        }
       ],
       "type": "table"
      }
     },
     "output_type": "display_data"
    }
   ],
   "source": [
    "%fs\n",
    "ls /FileStore/tables/"
   ]
  },
  {
   "cell_type": "code",
   "execution_count": 0,
   "metadata": {
    "application/vnd.databricks.v1+cell": {
     "cellMetadata": {
      "byteLimit": 2048000,
      "rowLimit": 10000
     },
     "inputWidgets": {},
     "nuid": "95fae9a4-c24a-43d0-b849-fd480d36c2cc",
     "showTitle": false,
     "tableResultSettingsMap": {},
     "title": ""
    }
   },
   "outputs": [
    {
     "output_type": "stream",
     "name": "stdout",
     "output_type": "stream",
     "text": [
      "Out[7]: ['DEST_COUNTRY_NAME', 'ORIGIN_COUNTRY_NAME', 'count']"
     ]
    }
   ],
   "source": [
    "read_csv_data.columns"
   ]
  },
  {
   "cell_type": "code",
   "execution_count": 0,
   "metadata": {
    "application/vnd.databricks.v1+cell": {
     "cellMetadata": {
      "byteLimit": 2048000,
      "rowLimit": 10000
     },
     "inputWidgets": {},
     "nuid": "b090437c-2555-44b4-9041-fdeaa697a536",
     "showTitle": false,
     "tableResultSettingsMap": {},
     "title": ""
    }
   },
   "outputs": [
    {
     "output_type": "stream",
     "name": "stdout",
     "output_type": "stream",
     "text": [
      "+-----------------+-------------------+-----+\n|DEST_COUNTRY_NAME|ORIGIN_COUNTRY_NAME|count|\n+-----------------+-------------------+-----+\n|    United States|            Romania|    1|\n|    United States|            Ireland|  264|\n|    United States|              India|   69|\n|            Egypt|      United States|   24|\n|Equatorial Guinea|      United States|    1|\n|    United States|          Singapore|   25|\n|    United States|            Grenada|   54|\n|       Costa Rica|      United States|  477|\n|          Senegal|      United States|   29|\n|    United States|   Marshall Islands|   44|\n+-----------------+-------------------+-----+\nonly showing top 10 rows\n\n"
     ]
    }
   ],
   "source": [
    "read_csv_data.show(10)"
   ]
  },
  {
   "cell_type": "code",
   "execution_count": 0,
   "metadata": {
    "application/vnd.databricks.v1+cell": {
     "cellMetadata": {
      "byteLimit": 2048000,
      "rowLimit": 10000
     },
     "inputWidgets": {},
     "nuid": "83d93ef8-fed0-4b7f-bc36-6a7cf40f6901",
     "showTitle": false,
     "tableResultSettingsMap": {},
     "title": ""
    }
   },
   "outputs": [
    {
     "output_type": "stream",
     "name": "stdout",
     "output_type": "stream",
     "text": [
      "2025-04-30 04:14:28.061290\n4\nApril\nWednesday\n"
     ]
    }
   ],
   "source": [
    "from datetime import datetime\n",
    "\n",
    "data1 = datetime.now()        # today\n",
    "print(data1)\n",
    "\n",
    "month1 = data1.month\n",
    "print(month1)\n",
    "\n",
    "m1 = data1.strftime('%B')\n",
    "print(m1)\n",
    "\n",
    "day_name = data1.strftime('%A')\n",
    "print(day_name)"
   ]
  },
  {
   "cell_type": "code",
   "execution_count": 0,
   "metadata": {
    "application/vnd.databricks.v1+cell": {
     "cellMetadata": {
      "byteLimit": 2048000,
      "rowLimit": 10000
     },
     "inputWidgets": {},
     "nuid": "28f7a76a-b49f-4dc1-b228-5bad4899c955",
     "showTitle": false,
     "tableResultSettingsMap": {},
     "title": ""
    }
   },
   "outputs": [
    {
     "output_type": "stream",
     "name": "stdout",
     "output_type": "stream",
     "text": [
      "+---+-----------------------+\n|id |current_time           |\n+---+-----------------------+\n|1  |2025-04-30 04:14:28.454|\n+---+-----------------------+\n\n"
     ]
    }
   ],
   "source": [
    "from pyspark.sql.functions import *\n",
    "\n",
    "df = spark.createDataFrame(data=[(1, )], schema=['id']).withColumn('current_time', current_timestamp())\n",
    "df.show(truncate=False)"
   ]
  },
  {
   "cell_type": "code",
   "execution_count": 0,
   "metadata": {
    "application/vnd.databricks.v1+cell": {
     "cellMetadata": {
      "byteLimit": 2048000,
      "rowLimit": 10000
     },
     "inputWidgets": {},
     "nuid": "c18019c8-fabc-48f8-861a-c7ce8881b1ad",
     "showTitle": false,
     "tableResultSettingsMap": {},
     "title": ""
    }
   },
   "outputs": [
    {
     "output_type": "display_data",
     "data": {
      "text/html": [
       "<style scoped>\n",
       "  .table-result-container {\n",
       "    max-height: 300px;\n",
       "    overflow: auto;\n",
       "  }\n",
       "  table, th, td {\n",
       "    border: 1px solid black;\n",
       "    border-collapse: collapse;\n",
       "  }\n",
       "  th, td {\n",
       "    padding: 5px;\n",
       "  }\n",
       "  th {\n",
       "    text-align: left;\n",
       "  }\n",
       "</style><div class='table-result-container'><table class='table-result'><thead style='background-color: white'><tr><th>id</th><th>current_time</th><th>month</th><th>month_name</th><th>day_name</th></tr></thead><tbody><tr><td>1</td><td>2025-04-30T04:14:31.288+0000</td><td>4</td><td>April</td><td>Wednesday</td></tr></tbody></table></div>"
      ]
     },
     "metadata": {
      "application/vnd.databricks.v1+output": {
       "addedWidgets": {},
       "aggData": [],
       "aggError": "",
       "aggOverflow": false,
       "aggSchema": [],
       "aggSeriesLimitReached": false,
       "aggType": "",
       "arguments": {},
       "columnCustomDisplayInfos": {},
       "data": [
        [
         1,
         "2025-04-30T04:14:31.288+0000",
         4,
         "April",
         "Wednesday"
        ]
       ],
       "datasetInfos": [],
       "dbfsResultPath": null,
       "isJsonSchema": true,
       "metadata": {},
       "overflow": false,
       "plotOptions": {
        "customPlotOptions": {},
        "displayType": "table",
        "pivotAggregation": null,
        "pivotColumns": null,
        "xColumns": null,
        "yColumns": null
       },
       "removedWidgets": [],
       "schema": [
        {
         "metadata": "{}",
         "name": "id",
         "type": "\"long\""
        },
        {
         "metadata": "{}",
         "name": "current_time",
         "type": "\"timestamp\""
        },
        {
         "metadata": "{}",
         "name": "month",
         "type": "\"integer\""
        },
        {
         "metadata": "{}",
         "name": "month_name",
         "type": "\"string\""
        },
        {
         "metadata": "{}",
         "name": "day_name",
         "type": "\"string\""
        }
       ],
       "type": "table"
      }
     },
     "output_type": "display_data"
    }
   ],
   "source": [
    "from pyspark.sql.functions import date_format\n",
    "\n",
    "df2 = df.withColumn(\"month\", month(\"current_time\")) \\\n",
    "    .withColumn(\"month_name\", date_format(\"current_time\", \"MMMM\")) \\\n",
    "        .withColumn(\"day_name\", date_format(\"current_time\", \"EEEE\"))\n",
    "\n",
    "display(df2)"
   ]
  },
  {
   "cell_type": "code",
   "execution_count": 0,
   "metadata": {
    "application/vnd.databricks.v1+cell": {
     "cellMetadata": {
      "byteLimit": 2048000,
      "rowLimit": 10000
     },
     "inputWidgets": {},
     "nuid": "0208cc97-e720-496d-b17a-30eae89b4da8",
     "showTitle": false,
     "tableResultSettingsMap": {},
     "title": ""
    }
   },
   "outputs": [
    {
     "output_type": "display_data",
     "data": {
      "text/html": [
       "<style scoped>\n",
       "  .table-result-container {\n",
       "    max-height: 300px;\n",
       "    overflow: auto;\n",
       "  }\n",
       "  table, th, td {\n",
       "    border: 1px solid black;\n",
       "    border-collapse: collapse;\n",
       "  }\n",
       "  th, td {\n",
       "    padding: 5px;\n",
       "  }\n",
       "  th {\n",
       "    text-align: left;\n",
       "  }\n",
       "</style><div class='table-result-container'><table class='table-result'><thead style='background-color: white'><tr><th>id</th><th>today</th><th>month_name</th><th>year</th><th>month</th></tr></thead><tbody><tr><td>1</td><td>2025-04-30</td><td>April</td><td>2025</td><td>4</td></tr></tbody></table></div>"
      ]
     },
     "metadata": {
      "application/vnd.databricks.v1+output": {
       "addedWidgets": {},
       "aggData": [],
       "aggError": "",
       "aggOverflow": false,
       "aggSchema": [],
       "aggSeriesLimitReached": false,
       "aggType": "",
       "arguments": {},
       "columnCustomDisplayInfos": {},
       "data": [
        [
         1,
         "2025-04-30",
         "April",
         2025,
         4
        ]
       ],
       "datasetInfos": [],
       "dbfsResultPath": null,
       "isJsonSchema": true,
       "metadata": {},
       "overflow": false,
       "plotOptions": {
        "customPlotOptions": {},
        "displayType": "table",
        "pivotAggregation": null,
        "pivotColumns": null,
        "xColumns": null,
        "yColumns": null
       },
       "removedWidgets": [],
       "schema": [
        {
         "metadata": "{}",
         "name": "id",
         "type": "\"long\""
        },
        {
         "metadata": "{}",
         "name": "today",
         "type": "\"date\""
        },
        {
         "metadata": "{}",
         "name": "month_name",
         "type": "\"string\""
        },
        {
         "metadata": "{}",
         "name": "year",
         "type": "\"integer\""
        },
        {
         "metadata": "{}",
         "name": "month",
         "type": "\"integer\""
        }
       ],
       "type": "table"
      }
     },
     "output_type": "display_data"
    }
   ],
   "source": [
    "from pyspark.sql.functions import current_date    # \"*\"\n",
    "\n",
    "df1 = spark.createDataFrame(data=[(1, )], schema=['id']).withColumn('today', current_date())\n",
    "# display(df1)\n",
    "\n",
    "df_m_y = df1.withColumn('month_name', date_format('today', 'MMMM'))\\\n",
    "    .withColumn('year', year('today'))\\\n",
    "        .withColumn('month', month('today'))\n",
    "display(df_m_y)"
   ]
  },
  {
   "cell_type": "code",
   "execution_count": 0,
   "metadata": {
    "application/vnd.databricks.v1+cell": {
     "cellMetadata": {
      "byteLimit": 2048000,
      "rowLimit": 10000
     },
     "inputWidgets": {},
     "nuid": "648611f8-8afc-4e97-98c8-3f85d0b5f5e8",
     "showTitle": false,
     "tableResultSettingsMap": {},
     "title": ""
    }
   },
   "outputs": [
    {
     "output_type": "stream",
     "name": "stdout",
     "output_type": "stream",
     "text": [
      "Python interpreter will be restarted.\nRequirement already satisfied: requests in /databricks/python3/lib/python3.9/site-packages (2.27.1)\nRequirement already satisfied: charset-normalizer~=2.0.0 in /databricks/python3/lib/python3.9/site-packages (from requests) (2.0.4)\nRequirement already satisfied: idna<4,>=2.5 in /databricks/python3/lib/python3.9/site-packages (from requests) (3.3)\nRequirement already satisfied: certifi>=2017.4.17 in /databricks/python3/lib/python3.9/site-packages (from requests) (2021.10.8)\nRequirement already satisfied: urllib3<1.27,>=1.21.1 in /databricks/python3/lib/python3.9/site-packages (from requests) (1.26.9)\nPython interpreter will be restarted.\n"
     ]
    }
   ],
   "source": [
    "%pip install requests"
   ]
  },
  {
   "cell_type": "code",
   "execution_count": 0,
   "metadata": {
    "application/vnd.databricks.v1+cell": {
     "cellMetadata": {
      "byteLimit": 2048000,
      "rowLimit": 10000
     },
     "inputWidgets": {},
     "nuid": "97561dce-ace5-4ada-80be-e91d7c037307",
     "showTitle": false,
     "tableResultSettingsMap": {},
     "title": ""
    }
   },
   "outputs": [],
   "source": [
    "import requests\n",
    "from pyspark.sql import SparkSession\n",
    "\n",
    "# spark = SparkSession.builder.appName(\"API_Post\").getOrCreate()   # already available in Databricks\n",
    "BEARER_TOKEN = \"dc4cff04-06d4-4549-ac19-b456b49c5586\"\n",
    "HEADERS = {\n",
    "    \"Authorization\": f\"Bearer {BEARER_TOKEN}\",\n",
    "    \"Accept\": \"application/json\",\n",
    "}\n",
    "\n",
    "response = requests.get('https://fabricate.mockaroo.com/api/v1/databases/report/api/users', headers=HEADERS)\n",
    "\n",
    "res1 = requests.get(\"https://fabricate.mockaroo.com/api/v1/databases/report/api/products\", headers=HEADERS)\n",
    "\n",
    "data = response.json() \n",
    "data1 = res1.json() "
   ]
  },
  {
   "cell_type": "code",
   "execution_count": 0,
   "metadata": {
    "application/vnd.databricks.v1+cell": {
     "cellMetadata": {
      "byteLimit": 2048000,
      "rowLimit": 10000
     },
     "inputWidgets": {},
     "nuid": "3c6857a8-3022-417b-9800-d88caed8e614",
     "showTitle": false,
     "tableResultSettingsMap": {},
     "title": ""
    }
   },
   "outputs": [
    {
     "output_type": "stream",
     "name": "stdout",
     "output_type": "stream",
     "text": [
      "+--------------------+------+---+--------------+----------------+\n|               email|gender| id|      location|            name|\n+--------------------+------+---+--------------+----------------+\n|arabele.jeskin@ho...|Female|  1|      Staxigoe|  Arabele Jeskin|\n|saul.pantone@aol.com|  Male|  2|   Cluj-Napoca|    Saul Pantone|\n|brand.baudic@plan...|  Male|  3|  Yeraganahlli|    Brand Baudic|\n|annemarie.jedrys@...|Female|  4|     Lynnfield|Annemarie Jedrys|\n|nelia.spafford@gm...|Female|  5|Mount Pleasant|  Nelia Spafford|\n+--------------------+------+---+--------------+----------------+\nonly showing top 5 rows\n\n"
     ]
    }
   ],
   "source": [
    "user_df = spark.createDataFrame(data)\n",
    "user_df.show(5)"
   ]
  },
  {
   "cell_type": "code",
   "execution_count": 0,
   "metadata": {
    "application/vnd.databricks.v1+cell": {
     "cellMetadata": {
      "byteLimit": 2048000,
      "rowLimit": 10000
     },
     "inputWidgets": {},
     "nuid": "d06697de-fedd-44ba-a927-c17110062cc8",
     "showTitle": false,
     "tableResultSettingsMap": {},
     "title": ""
    }
   },
   "outputs": [
    {
     "output_type": "stream",
     "name": "stdout",
     "output_type": "stream",
     "text": [
      "+---+----------------+--------------------+--------+-------+\n| id|product_category|        product_name|quantity|user_id|\n+---+----------------+--------------------+--------+-------+\n|  1|         Fitness|Stainless Steel W...|       1|     17|\n|  2|    Food - Dairy|Feta Cheese Crumbles|       2|     49|\n|  3|         Kitchen|      Coffee Grinder|       3|     84|\n|  4|    Food - Meats|Savory Breakfast ...|       4|     70|\n|  5|         Kitchen|Stainless Steel C...|       5|     73|\n+---+----------------+--------------------+--------+-------+\nonly showing top 5 rows\n\n"
     ]
    }
   ],
   "source": [
    "product_df = spark.createDataFrame(data1)\n",
    "product_df.show(5)"
   ]
  },
  {
   "cell_type": "code",
   "execution_count": 0,
   "metadata": {
    "application/vnd.databricks.v1+cell": {
     "cellMetadata": {
      "byteLimit": 2048000,
      "rowLimit": 10000
     },
     "inputWidgets": {},
     "nuid": "cae0d843-db7f-4f39-bab7-c1670810f1fa",
     "showTitle": false,
     "tableResultSettingsMap": {},
     "title": ""
    }
   },
   "outputs": [
    {
     "output_type": "stream",
     "name": "stdout",
     "output_type": "stream",
     "text": [
      "+--------------------+------+---+--------------------+------------------+---+--------------------+--------------------+--------+-------+\n|               email|gender| id|            location|              name| id|    product_category|        product_name|quantity|user_id|\n+--------------------+------+---+--------------------+------------------+---+--------------------+--------------------+--------+-------+\n|shandie.giacovett...|Female|  7|         Ptaszkowice|Shandie Giacovetti| 26|             Outdoor|   Portable Campfire|      26|      7|\n|merilee.alger@yah...|Female| 11|Воля (Новоселівська)|     Merilee Alger| 32|                Pets|Cat Tree with Scr...|      32|     11|\n|brand.baudic@plan...|  Male|  3|        Yeraganahlli|      Brand Baudic| 53|                Pets|Portable Pet Wate...|      53|      3|\n|sasha.nyssens@liv...|  Male|  8|     Wisconsin Dells|     Sasha Nyssens| 91| Food - Baking Goods|Sweetened Condens...|      91|      8|\n|nelia.spafford@gm...|Female|  5|      Mount Pleasant|    Nelia Spafford| 34|Food - Prepared F...|   Chicken Salad Kit|      34|      5|\n+--------------------+------+---+--------------------+------------------+---+--------------------+--------------------+--------+-------+\nonly showing top 5 rows\n\n"
     ]
    }
   ],
   "source": [
    "user_df.join(product_df, user_df['id']==product_df['user_id'], 'inner').show(5)"
   ]
  },
  {
   "cell_type": "code",
   "execution_count": 0,
   "metadata": {
    "application/vnd.databricks.v1+cell": {
     "cellMetadata": {
      "byteLimit": 2048000,
      "rowLimit": 10000
     },
     "inputWidgets": {},
     "nuid": "e0a5fbbf-4e12-4881-a324-f6db4705a26f",
     "showTitle": false,
     "tableResultSettingsMap": {},
     "title": ""
    }
   },
   "outputs": [],
   "source": [
    "customer_data = [(1,'manish','patna',\"30-05-2022\"),\n",
    "(2,'vikash','kolkata',\"12-03-2023\"),\n",
    "(3,'nikita','delhi',\"25-06-2023\"),\n",
    "(4,'rahul','ranchi',\"24-03-2023\"),\n",
    "(5,'mahesh','jaipur',\"22-03-2023\"),\n",
    "(6,'prantosh','kolkata',\"18-10-2022\"),\n",
    "(7,'raman','patna',\"30-12-2022\"),\n",
    "(8,'prakash','ranchi',\"24-02-2023\"),\n",
    "(9,'ragini','kolkata',\"03-03-2023\"),\n",
    "(10,'raushan','jaipur',\"05-02-2023\")]\n",
    "\n",
    "customer_schema=['customer_id','customer_name','address','date_of_joining']\n",
    "\n",
    "\n",
    "sales_data = [(1,22,10,\"01-06-2022\"),\n",
    "(1,27,5,\"03-02-2023\"),\n",
    "(2,5,3,\"01-06-2023\"),\n",
    "(5,22,1,\"22-03-2023\"),\n",
    "(7,22,4,\"03-02-2023\"),\n",
    "(9,5,6,\"03-03-2023\"),\n",
    "(2,1,12,\"15-06-2023\"),\n",
    "(1,56,2,\"25-06-2023\"),\n",
    "(5,12,5,\"15-04-2023\"),\n",
    "(11,12,76,\"12-03-2023\")]\n",
    "\n",
    "sales_schema=['customer_id','product_id','quantity','date_of_purchase']\n",
    "\n",
    "product_data = [(1, 'fanta',20),\n",
    "(2, 'dew',22),\n",
    "(5, 'sprite',40),\n",
    "(7, 'redbull',100),\n",
    "(12,'mazza',45),\n",
    "(22,'coke',27),\n",
    "(25,'limca',21),\n",
    "(27,'pepsi',14),\n",
    "(56,'sting',10)]\n",
    "\n",
    "product_schema=['id','name','price']\n",
    "\n",
    "cust_df = spark.createDataFrame(data=customer_data, schema=customer_schema)\n",
    "\n",
    "sales_df = spark.createDataFrame(data=sales_data, schema=sales_schema)\n",
    "\n",
    "product_df = spark.createDataFrame(data=product_data, schema=product_schema)"
   ]
  },
  {
   "cell_type": "code",
   "execution_count": 0,
   "metadata": {
    "application/vnd.databricks.v1+cell": {
     "cellMetadata": {
      "byteLimit": 2048000,
      "rowLimit": 10000
     },
     "inputWidgets": {},
     "nuid": "63d2722b-23f2-4a2f-b99a-075ef2518d1d",
     "showTitle": false,
     "tableResultSettingsMap": {},
     "title": ""
    }
   },
   "outputs": [
    {
     "output_type": "stream",
     "name": "stdout",
     "output_type": "stream",
     "text": [
      "+-----------+\n|customer_id|\n+-----------+\n|          1|\n|          1|\n|          1|\n|          2|\n|          2|\n|          5|\n|          5|\n|          7|\n|          9|\n+-----------+\n\n"
     ]
    }
   ],
   "source": [
    "cust_df.join(sales_df, cust_df['customer_id']==sales_df['customer_id'], 'inner').select(sales_df['customer_id']).show()"
   ]
  },
  {
   "cell_type": "code",
   "execution_count": 0,
   "metadata": {
    "application/vnd.databricks.v1+cell": {
     "cellMetadata": {
      "byteLimit": 2048000,
      "rowLimit": 10000
     },
     "inputWidgets": {},
     "nuid": "c7a2576d-2fe1-45c9-9f3d-10c0a55d32ab",
     "showTitle": false,
     "tableResultSettingsMap": {},
     "title": ""
    }
   },
   "outputs": [
    {
     "output_type": "stream",
     "name": "stdout",
     "output_type": "stream",
     "text": [
      "+-----------+-------------+-------+---------------+-----------+----------+--------+----------------+\n|customer_id|customer_name|address|date_of_joining|customer_id|product_id|quantity|date_of_purchase|\n+-----------+-------------+-------+---------------+-----------+----------+--------+----------------+\n|          1|       manish|  patna|     30-05-2022|          1|        22|      10|      01-06-2022|\n|          1|       manish|  patna|     30-05-2022|          1|        27|       5|      03-02-2023|\n|          1|       manish|  patna|     30-05-2022|          1|        56|       2|      25-06-2023|\n|          2|       vikash|kolkata|     12-03-2023|          2|         5|       3|      01-06-2023|\n|          2|       vikash|kolkata|     12-03-2023|          2|         1|      12|      15-06-2023|\n|          3|       nikita|  delhi|     25-06-2023|       null|      null|    null|            null|\n|          4|        rahul| ranchi|     24-03-2023|       null|      null|    null|            null|\n|          5|       mahesh| jaipur|     22-03-2023|          5|        22|       1|      22-03-2023|\n|          5|       mahesh| jaipur|     22-03-2023|          5|        12|       5|      15-04-2023|\n|          6|     prantosh|kolkata|     18-10-2022|       null|      null|    null|            null|\n|          7|        raman|  patna|     30-12-2022|          7|        22|       4|      03-02-2023|\n|          8|      prakash| ranchi|     24-02-2023|       null|      null|    null|            null|\n|          9|       ragini|kolkata|     03-03-2023|          9|         5|       6|      03-03-2023|\n|         10|      raushan| jaipur|     05-02-2023|       null|      null|    null|            null|\n|       null|         null|   null|           null|         11|        12|      76|      12-03-2023|\n+-----------+-------------+-------+---------------+-----------+----------+--------+----------------+\n\n"
     ]
    }
   ],
   "source": [
    "cust_df.join(sales_df, cust_df['customer_id']==sales_df['customer_id'], 'outer').show()"
   ]
  },
  {
   "cell_type": "code",
   "execution_count": 0,
   "metadata": {
    "application/vnd.databricks.v1+cell": {
     "cellMetadata": {
      "byteLimit": 2048000,
      "rowLimit": 10000
     },
     "inputWidgets": {},
     "nuid": "8edb3738-1a0f-4ecf-a133-c49f074cb4a4",
     "showTitle": false,
     "tableResultSettingsMap": {},
     "title": ""
    }
   },
   "outputs": [
    {
     "output_type": "stream",
     "name": "stdout",
     "output_type": "stream",
     "text": [
      "+-----------+-------------+-------+---------------+-----------+----------+--------+----------------+\n|customer_id|customer_name|address|date_of_joining|customer_id|product_id|quantity|date_of_purchase|\n+-----------+-------------+-------+---------------+-----------+----------+--------+----------------+\n|          3|       nikita|  delhi|     25-06-2023|       null|      null|    null|            null|\n|          4|        rahul| ranchi|     24-03-2023|       null|      null|    null|            null|\n|          6|     prantosh|kolkata|     18-10-2022|       null|      null|    null|            null|\n|          8|      prakash| ranchi|     24-02-2023|       null|      null|    null|            null|\n|         10|      raushan| jaipur|     05-02-2023|       null|      null|    null|            null|\n+-----------+-------------+-------+---------------+-----------+----------+--------+----------------+\n\n"
     ]
    }
   ],
   "source": [
    "cust_df.join(sales_df, cust_df['customer_id']==sales_df['customer_id'], 'left').where(sales_df['product_id'].isNull()).show()"
   ]
  },
  {
   "cell_type": "code",
   "execution_count": 0,
   "metadata": {
    "application/vnd.databricks.v1+cell": {
     "cellMetadata": {
      "byteLimit": 2048000,
      "rowLimit": 10000
     },
     "inputWidgets": {},
     "nuid": "ad81af05-3bba-4920-8636-ac81d4ebcb84",
     "showTitle": false,
     "tableResultSettingsMap": {},
     "title": ""
    }
   },
   "outputs": [
    {
     "output_type": "stream",
     "name": "stdout",
     "output_type": "stream",
     "text": [
      "+-----------+-------------+-------+---------------+\n|customer_id|customer_name|address|date_of_joining|\n+-----------+-------------+-------+---------------+\n|          1|       manish|  patna|     30-05-2022|\n|          2|       vikash|kolkata|     12-03-2023|\n|          5|       mahesh| jaipur|     22-03-2023|\n|          7|        raman|  patna|     30-12-2022|\n|          9|       ragini|kolkata|     03-03-2023|\n+-----------+-------------+-------+---------------+\n\n"
     ]
    }
   ],
   "source": [
    "cust_df.join(sales_df, cust_df['customer_id']==sales_df['customer_id'], 'left_semi').show()"
   ]
  },
  {
   "cell_type": "code",
   "execution_count": 0,
   "metadata": {
    "application/vnd.databricks.v1+cell": {
     "cellMetadata": {
      "byteLimit": 2048000,
      "rowLimit": 10000
     },
     "inputWidgets": {},
     "nuid": "6c19d880-6697-4e4b-8624-47469be4efb6",
     "showTitle": false,
     "tableResultSettingsMap": {},
     "title": ""
    }
   },
   "outputs": [
    {
     "output_type": "stream",
     "name": "stdout",
     "output_type": "stream",
     "text": [
      "+-----------+-------------+-------+---------------+\n|customer_id|customer_name|address|date_of_joining|\n+-----------+-------------+-------+---------------+\n|          3|       nikita|  delhi|     25-06-2023|\n|          4|        rahul| ranchi|     24-03-2023|\n|          6|     prantosh|kolkata|     18-10-2022|\n|          8|      prakash| ranchi|     24-02-2023|\n|         10|      raushan| jaipur|     05-02-2023|\n+-----------+-------------+-------+---------------+\n\n"
     ]
    }
   ],
   "source": [
    "cust_df.join(sales_df, cust_df['customer_id']==sales_df['customer_id'], 'left_anti').show()"
   ]
  },
  {
   "cell_type": "code",
   "execution_count": 0,
   "metadata": {
    "application/vnd.databricks.v1+cell": {
     "cellMetadata": {
      "byteLimit": 2048000,
      "rowLimit": 10000
     },
     "inputWidgets": {},
     "nuid": "7a18c091-1ec0-43c0-929c-5567c685c6dd",
     "showTitle": false,
     "tableResultSettingsMap": {},
     "title": ""
    }
   },
   "outputs": [
    {
     "output_type": "stream",
     "name": "stdout",
     "output_type": "stream",
     "text": [
      "Out[11]: 90"
     ]
    }
   ],
   "source": [
    "sales_df.crossJoin(product_df).count()"
   ]
  },
  {
   "cell_type": "code",
   "execution_count": 0,
   "metadata": {
    "application/vnd.databricks.v1+cell": {
     "cellMetadata": {
      "byteLimit": 2048000,
      "rowLimit": 10000
     },
     "inputWidgets": {},
     "nuid": "43b466fc-ad92-47e6-bb40-35671c8354b8",
     "showTitle": false,
     "tableResultSettingsMap": {},
     "title": ""
    }
   },
   "outputs": [
    {
     "output_type": "stream",
     "name": "stdout",
     "output_type": "stream",
     "text": [
      "+---+--------+------+---------+------+\n| id|    name|salary|     dept|gender|\n+---+--------+------+---------+------+\n|  1|  manish| 50000|       IT|     m|\n|  2|  vikash| 60000|    sales|     m|\n|  3| raushan| 70000|marketing|     m|\n|  4|  mukesh| 80000|       IT|     m|\n|  5|   priti| 90000|    sales|     f|\n|  6|  nikita| 45000|marketing|     f|\n|  7|  ragini| 55000|marketing|     f|\n|  8|   rashi|100000|       IT|     f|\n|  9|  aditya| 65000|       IT|     m|\n| 10|   rahul| 50000|marketing|     m|\n| 11|   rakhi| 50000|       IT|     f|\n| 12|akhilesh| 90000|    sales|     m|\n+---+--------+------+---------+------+\n\n"
     ]
    }
   ],
   "source": [
    "emp_data = [(1,'manish',50000,'IT','m'),\n",
    "(2,'vikash',60000,'sales','m'),\n",
    "(3,'raushan',70000,'marketing','m'),\n",
    "(4,'mukesh',80000,'IT','m'),\n",
    "(5,'priti',90000,'sales','f'),\n",
    "(6,'nikita',45000,'marketing','f'),\n",
    "(7,'ragini',55000,'marketing','f'),\n",
    "(8,'rashi',100000,'IT','f'),\n",
    "(9,'aditya',65000,'IT','m'),\n",
    "(10,'rahul',50000,'marketing','m'),\n",
    "(11,'rakhi',50000,'IT','f'),\n",
    "(12,'akhilesh',90000,'sales','m')]\n",
    "\n",
    "emp_schema = ['id', 'name', 'salary', 'dept', 'gender']\n",
    "\n",
    "emp_df = spark.createDataFrame(data=emp_data, schema=emp_schema)\n",
    "emp_df.show()"
   ]
  },
  {
   "cell_type": "code",
   "execution_count": 0,
   "metadata": {
    "application/vnd.databricks.v1+cell": {
     "cellMetadata": {
      "byteLimit": 2048000,
      "rowLimit": 10000
     },
     "inputWidgets": {},
     "nuid": "381a0484-cef2-470d-92ea-ddda1f130fcc",
     "showTitle": false,
     "tableResultSettingsMap": {},
     "title": ""
    }
   },
   "outputs": [
    {
     "output_type": "stream",
     "name": "stdout",
     "output_type": "stream",
     "text": [
      "+---+--------+------+---------+------+---------+\n| id|    name|salary|     dept|gender|total_sal|\n+---+--------+------+---------+------+---------+\n|  1|  manish| 50000|       IT|     m|   345000|\n|  4|  mukesh| 80000|       IT|     m|   345000|\n|  8|   rashi|100000|       IT|     f|   345000|\n|  9|  aditya| 65000|       IT|     m|   345000|\n| 11|   rakhi| 50000|       IT|     f|   345000|\n|  3| raushan| 70000|marketing|     m|   220000|\n|  6|  nikita| 45000|marketing|     f|   220000|\n|  7|  ragini| 55000|marketing|     f|   220000|\n| 10|   rahul| 50000|marketing|     m|   220000|\n|  2|  vikash| 60000|    sales|     m|   240000|\n|  5|   priti| 90000|    sales|     f|   240000|\n| 12|akhilesh| 90000|    sales|     m|   240000|\n+---+--------+------+---------+------+---------+\n\n"
     ]
    }
   ],
   "source": [
    "from pyspark.sql.functions import *\n",
    "from pyspark.sql.types import *\n",
    "from pyspark.sql.window import Window\n",
    "\n",
    "window1 = Window.partitionBy('dept')\n",
    "\n",
    "emp_df.withColumn('total_sal', sum(col('salary')).over(window1)).show()"
   ]
  },
  {
   "cell_type": "code",
   "execution_count": 0,
   "metadata": {
    "application/vnd.databricks.v1+cell": {
     "cellMetadata": {
      "byteLimit": 2048000,
      "rowLimit": 10000
     },
     "inputWidgets": {},
     "nuid": "5529ba50-b795-4263-a9e1-04d8be93e83f",
     "showTitle": false,
     "tableResultSettingsMap": {},
     "title": ""
    }
   },
   "outputs": [
    {
     "output_type": "stream",
     "name": "stdout",
     "output_type": "stream",
     "text": [
      "+---+--------+------+---------+------+------+\n| id|    name|salary|     dept|gender|row_no|\n+---+--------+------+---------+------+------+\n| 11|   rakhi| 50000|       IT|     f|     1|\n|  8|   rashi|100000|       IT|     f|     2|\n|  1|  manish| 50000|       IT|     m|     1|\n|  9|  aditya| 65000|       IT|     m|     2|\n|  4|  mukesh| 80000|       IT|     m|     3|\n|  6|  nikita| 45000|marketing|     f|     1|\n|  7|  ragini| 55000|marketing|     f|     2|\n| 10|   rahul| 50000|marketing|     m|     1|\n|  3| raushan| 70000|marketing|     m|     2|\n|  5|   priti| 90000|    sales|     f|     1|\n|  2|  vikash| 60000|    sales|     m|     1|\n| 12|akhilesh| 90000|    sales|     m|     2|\n+---+--------+------+---------+------+------+\n\n"
     ]
    }
   ],
   "source": [
    "window1 = Window.partitionBy('dept', 'gender').orderBy('salary')\n",
    "\n",
    "emp_df.withColumn('row_no', row_number().over(window1)).show()"
   ]
  },
  {
   "cell_type": "code",
   "execution_count": 0,
   "metadata": {
    "application/vnd.databricks.v1+cell": {
     "cellMetadata": {
      "byteLimit": 2048000,
      "rowLimit": 10000
     },
     "inputWidgets": {},
     "nuid": "1af6eb73-484b-4df3-94cc-6e97d5bf59d0",
     "showTitle": false,
     "tableResultSettingsMap": {},
     "title": ""
    }
   },
   "outputs": [
    {
     "output_type": "stream",
     "name": "stdout",
     "output_type": "stream",
     "text": [
      "+---+--------+------+---------+------+------+----+----------+\n| id|    name|salary|     dept|gender|row_no|rank|dense_rank|\n+---+--------+------+---------+------+------+----+----------+\n| 11|   rakhi| 50000|       IT|     f|     1|   1|         1|\n|  8|   rashi|100000|       IT|     f|     2|   2|         2|\n|  1|  manish| 50000|       IT|     m|     1|   1|         1|\n|  9|  aditya| 65000|       IT|     m|     2|   2|         2|\n|  4|  mukesh| 80000|       IT|     m|     3|   3|         3|\n|  6|  nikita| 45000|marketing|     f|     1|   1|         1|\n|  7|  ragini| 55000|marketing|     f|     2|   2|         2|\n| 10|   rahul| 50000|marketing|     m|     1|   1|         1|\n|  3| raushan| 70000|marketing|     m|     2|   2|         2|\n|  5|   priti| 90000|    sales|     f|     1|   1|         1|\n|  2|  vikash| 60000|    sales|     m|     1|   1|         1|\n| 12|akhilesh| 90000|    sales|     m|     2|   2|         2|\n+---+--------+------+---------+------+------+----+----------+\n\n"
     ]
    }
   ],
   "source": [
    "window1 = Window.partitionBy('dept', 'gender').orderBy('salary')\n",
    "\n",
    "emp_df.withColumn('row_no', row_number().over(window1))\\\n",
    "    .withColumn('rank', rank().over(window1))\\\n",
    "        .withColumn('dense_rank', dense_rank().over(window1))\\\n",
    "            .show()"
   ]
  },
  {
   "cell_type": "code",
   "execution_count": 0,
   "metadata": {
    "application/vnd.databricks.v1+cell": {
     "cellMetadata": {
      "byteLimit": 2048000,
      "rowLimit": 10000
     },
     "inputWidgets": {},
     "nuid": "698d20b4-4240-4596-8364-23c0edee65fa",
     "showTitle": false,
     "tableResultSettingsMap": {},
     "title": ""
    }
   },
   "outputs": [
    {
     "output_type": "stream",
     "name": "stdout",
     "output_type": "stream",
     "text": [
      "+---+--------+------+---------+------+------+----+----------+\n| id|    name|salary|     dept|gender|row_no|rank|dense_rank|\n+---+--------+------+---------+------+------+----+----------+\n|  8|   rashi|100000|       IT|     f|     1|   1|         1|\n| 11|   rakhi| 50000|       IT|     f|     2|   2|         2|\n|  4|  mukesh| 80000|       IT|     m|     1|   1|         1|\n|  9|  aditya| 65000|       IT|     m|     2|   2|         2|\n|  7|  ragini| 55000|marketing|     f|     1|   1|         1|\n|  6|  nikita| 45000|marketing|     f|     2|   2|         2|\n|  3| raushan| 70000|marketing|     m|     1|   1|         1|\n| 10|   rahul| 50000|marketing|     m|     2|   2|         2|\n|  5|   priti| 90000|    sales|     f|     1|   1|         1|\n| 12|akhilesh| 90000|    sales|     m|     1|   1|         1|\n|  2|  vikash| 60000|    sales|     m|     2|   2|         2|\n+---+--------+------+---------+------+------+----+----------+\n\n"
     ]
    }
   ],
   "source": [
    "# want higher salary employees (gendewise) with dense_rank <= 2\n",
    "\n",
    "window1 = Window.partitionBy('dept', 'gender').orderBy(desc('salary'))\n",
    "\n",
    "emp_df.withColumn('row_no', row_number().over(window1))\\\n",
    "    .withColumn('rank', rank().over(window1))\\\n",
    "    .withColumn('dense_rank', dense_rank().over(window1)).filter(col('dense_rank')<=2)\\\n",
    "    .show() "
   ]
  },
  {
   "cell_type": "code",
   "execution_count": 0,
   "metadata": {
    "application/vnd.databricks.v1+cell": {
     "cellMetadata": {
      "byteLimit": 2048000,
      "rowLimit": 10000
     },
     "inputWidgets": {},
     "nuid": "4e08195d-ca36-4f82-ab0d-9e7693e67426",
     "showTitle": false,
     "tableResultSettingsMap": {},
     "title": ""
    }
   },
   "outputs": [
    {
     "output_type": "stream",
     "name": "stdout",
     "output_type": "stream",
     "text": [
      "+----------+------------+----------+-------+\n|product_id|product_name|sales_date|  sales|\n+----------+------------+----------+-------+\n|         1|      iphone|01-01-2023|1500000|\n|         2|     samsung|01-01-2023|1100000|\n|         3|     oneplus|01-01-2023|1100000|\n|         1|      iphone|01-02-2023|1300000|\n|         2|     samsung|01-02-2023|1120000|\n|         3|     oneplus|01-02-2023|1120000|\n|         1|      iphone|01-03-2023|1600000|\n|         2|     samsung|01-03-2023|1080000|\n|         3|     oneplus|01-03-2023|1160000|\n|         1|      iphone|01-04-2023|1700000|\n|         2|     samsung|01-04-2023|1800000|\n|         3|     oneplus|01-04-2023|1170000|\n|         1|      iphone|01-05-2023|1200000|\n|         2|     samsung|01-05-2023| 980000|\n|         3|     oneplus|01-05-2023|1175000|\n|         1|      iphone|01-06-2023|1100000|\n|         2|     samsung|01-06-2023|1100000|\n|         3|     oneplus|01-06-2023|1200000|\n+----------+------------+----------+-------+\n\n"
     ]
    }
   ],
   "source": [
    "product_data1 = [\n",
    "(1,\"iphone\",\"01-01-2023\",1500000),\n",
    "(2,\"samsung\",\"01-01-2023\",1100000),\n",
    "(3,\"oneplus\",\"01-01-2023\",1100000),\n",
    "(1,\"iphone\",\"01-02-2023\",1300000),\n",
    "(2,\"samsung\",\"01-02-2023\",1120000),\n",
    "(3,\"oneplus\",\"01-02-2023\",1120000),\n",
    "(1,\"iphone\",\"01-03-2023\",1600000),\n",
    "(2,\"samsung\",\"01-03-2023\",1080000),\n",
    "(3,\"oneplus\",\"01-03-2023\",1160000),\n",
    "(1,\"iphone\",\"01-04-2023\",1700000),\n",
    "(2,\"samsung\",\"01-04-2023\",1800000),\n",
    "(3,\"oneplus\",\"01-04-2023\",1170000),\n",
    "(1,\"iphone\",\"01-05-2023\",1200000),\n",
    "(2,\"samsung\",\"01-05-2023\",980000),\n",
    "(3,\"oneplus\",\"01-05-2023\",1175000),\n",
    "(1,\"iphone\",\"01-06-2023\",1100000),\n",
    "(2,\"samsung\",\"01-06-2023\",1100000),\n",
    "(3,\"oneplus\",\"01-06-2023\",1200000)\n",
    "]\n",
    "\n",
    "prod_schema1 = ['product_id', 'product_name', 'sales_date', 'sales']\n",
    "\n",
    "pr_df = spark.createDataFrame(data=product_data1, schema=prod_schema1)\n",
    "pr_df.show()"
   ]
  },
  {
   "cell_type": "code",
   "execution_count": 0,
   "metadata": {
    "application/vnd.databricks.v1+cell": {
     "cellMetadata": {
      "byteLimit": 2048000,
      "rowLimit": 10000
     },
     "inputWidgets": {},
     "nuid": "4a440a38-7283-4105-8d3d-3db3e2bd07bf",
     "showTitle": false,
     "tableResultSettingsMap": {},
     "title": ""
    }
   },
   "outputs": [
    {
     "output_type": "stream",
     "name": "stdout",
     "output_type": "stream",
     "text": [
      "+----------+------------+----------+-------+---------+\n|product_id|product_name|sales_date|  sales|prev_sale|\n+----------+------------+----------+-------+---------+\n|         1|      iphone|01-01-2023|1500000|     null|\n|         1|      iphone|01-02-2023|1300000|  1500000|\n|         1|      iphone|01-03-2023|1600000|  1300000|\n|         1|      iphone|01-04-2023|1700000|  1600000|\n|         1|      iphone|01-05-2023|1200000|  1700000|\n|         1|      iphone|01-06-2023|1100000|  1200000|\n|         2|     samsung|01-01-2023|1100000|     null|\n|         2|     samsung|01-02-2023|1120000|  1100000|\n|         2|     samsung|01-03-2023|1080000|  1120000|\n|         2|     samsung|01-04-2023|1800000|  1080000|\n+----------+------------+----------+-------+---------+\nonly showing top 10 rows\n\n"
     ]
    }
   ],
   "source": [
    "win1 = Window.partitionBy('product_id').orderBy('sales_date')\n",
    "\n",
    "prev_df = pr_df.withColumn('prev_sale', lag(col('sales')).over(win1))\n",
    "prev_df.show(10)"
   ]
  },
  {
   "cell_type": "code",
   "execution_count": 0,
   "metadata": {
    "application/vnd.databricks.v1+cell": {
     "cellMetadata": {
      "byteLimit": 2048000,
      "rowLimit": 10000
     },
     "inputWidgets": {},
     "nuid": "0bc39820-0800-42da-9c15-014d1307abb7",
     "showTitle": false,
     "tableResultSettingsMap": {},
     "title": ""
    }
   },
   "outputs": [
    {
     "output_type": "stream",
     "name": "stdout",
     "output_type": "stream",
     "text": [
      "+----------+------------+----------+-------+---------+\n|product_id|product_name|sales_date|  sales|next_sale|\n+----------+------------+----------+-------+---------+\n|         1|      iphone|01-01-2023|1500000|  1600000|\n|         1|      iphone|01-02-2023|1300000|  1700000|\n|         1|      iphone|01-03-2023|1600000|  1200000|\n|         1|      iphone|01-04-2023|1700000|  1100000|\n|         1|      iphone|01-05-2023|1200000|        0|\n|         1|      iphone|01-06-2023|1100000|        0|\n|         2|     samsung|01-01-2023|1100000|  1080000|\n|         2|     samsung|01-02-2023|1120000|  1800000|\n|         2|     samsung|01-03-2023|1080000|   980000|\n|         2|     samsung|01-04-2023|1800000|  1100000|\n|         2|     samsung|01-05-2023| 980000|        0|\n|         2|     samsung|01-06-2023|1100000|        0|\n|         3|     oneplus|01-01-2023|1100000|  1160000|\n|         3|     oneplus|01-02-2023|1120000|  1170000|\n|         3|     oneplus|01-03-2023|1160000|  1175000|\n|         3|     oneplus|01-04-2023|1170000|  1200000|\n|         3|     oneplus|01-05-2023|1175000|        0|\n|         3|     oneplus|01-06-2023|1200000|        0|\n+----------+------------+----------+-------+---------+\n\n"
     ]
    }
   ],
   "source": [
    "win1 = Window.partitionBy('product_id').orderBy('sales_date')\n",
    "\n",
    "pr_df.withColumn('next_sale', lead(col('sales'), 2, 0).over(win1)).show()"
   ]
  },
  {
   "cell_type": "code",
   "execution_count": 0,
   "metadata": {
    "application/vnd.databricks.v1+cell": {
     "cellMetadata": {
      "byteLimit": 2048000,
      "rowLimit": 10000
     },
     "inputWidgets": {},
     "nuid": "646c2974-144b-47e6-92a3-bc08f5deb8b1",
     "showTitle": false,
     "tableResultSettingsMap": {},
     "title": ""
    }
   },
   "outputs": [
    {
     "output_type": "stream",
     "name": "stdout",
     "output_type": "stream",
     "text": [
      "+----------+------------+----------+-------+---------+-------+\n|product_id|product_name|sales_date|  sales|prev_sale| losses|\n+----------+------------+----------+-------+---------+-------+\n|         1|      iphone|01-01-2023|1500000|     null|   null|\n|         1|      iphone|01-02-2023|1300000|  1500000|-200000|\n|         1|      iphone|01-03-2023|1600000|  1300000| 300000|\n|         1|      iphone|01-04-2023|1700000|  1600000| 100000|\n|         1|      iphone|01-05-2023|1200000|  1700000|-500000|\n|         1|      iphone|01-06-2023|1100000|  1200000|-100000|\n|         2|     samsung|01-01-2023|1100000|     null|   null|\n|         2|     samsung|01-02-2023|1120000|  1100000|  20000|\n|         2|     samsung|01-03-2023|1080000|  1120000| -40000|\n|         2|     samsung|01-04-2023|1800000|  1080000| 720000|\n|         2|     samsung|01-05-2023| 980000|  1800000|-820000|\n|         2|     samsung|01-06-2023|1100000|   980000| 120000|\n|         3|     oneplus|01-01-2023|1100000|     null|   null|\n|         3|     oneplus|01-02-2023|1120000|  1100000|  20000|\n|         3|     oneplus|01-03-2023|1160000|  1120000|  40000|\n|         3|     oneplus|01-04-2023|1170000|  1160000|  10000|\n|         3|     oneplus|01-05-2023|1175000|  1170000|   5000|\n|         3|     oneplus|01-06-2023|1200000|  1175000|  25000|\n+----------+------------+----------+-------+---------+-------+\n\n"
     ]
    }
   ],
   "source": [
    "prev_df.withColumn('losses', (col('sales')-col('prev_sale'))).show()  "
   ]
  },
  {
   "cell_type": "code",
   "execution_count": 0,
   "metadata": {
    "application/vnd.databricks.v1+cell": {
     "cellMetadata": {
      "byteLimit": 2048000,
      "rowLimit": 10000
     },
     "inputWidgets": {},
     "nuid": "8214609b-2702-41c5-9857-d341215346a5",
     "showTitle": false,
     "tableResultSettingsMap": {},
     "title": ""
    }
   },
   "outputs": [
    {
     "output_type": "stream",
     "name": "stdout",
     "output_type": "stream",
     "text": [
      "+----------+------------+----------+-------+---------+-------------------+\n|product_id|product_name|sales_date|  sales|prev_sale|     percent_losses|\n+----------+------------+----------+-------+---------+-------------------+\n|         1|      iphone|01-01-2023|1500000|     null|               null|\n|         1|      iphone|01-02-2023|1300000|  1500000|-15.384615384615385|\n|         1|      iphone|01-03-2023|1600000|  1300000|              18.75|\n|         1|      iphone|01-04-2023|1700000|  1600000|   5.88235294117647|\n|         1|      iphone|01-05-2023|1200000|  1700000| -41.66666666666667|\n|         1|      iphone|01-06-2023|1100000|  1200000| -9.090909090909092|\n|         2|     samsung|01-01-2023|1100000|     null|               null|\n|         2|     samsung|01-02-2023|1120000|  1100000| 1.7857142857142856|\n|         2|     samsung|01-03-2023|1080000|  1120000|-3.7037037037037033|\n|         2|     samsung|01-04-2023|1800000|  1080000|               40.0|\n|         2|     samsung|01-05-2023| 980000|  1800000|  -83.6734693877551|\n|         2|     samsung|01-06-2023|1100000|   980000| 10.909090909090908|\n|         3|     oneplus|01-01-2023|1100000|     null|               null|\n|         3|     oneplus|01-02-2023|1120000|  1100000| 1.7857142857142856|\n|         3|     oneplus|01-03-2023|1160000|  1120000| 3.4482758620689653|\n|         3|     oneplus|01-04-2023|1170000|  1160000| 0.8547008547008548|\n|         3|     oneplus|01-05-2023|1175000|  1170000|  0.425531914893617|\n|         3|     oneplus|01-06-2023|1200000|  1175000|  2.083333333333333|\n+----------+------------+----------+-------+---------+-------------------+\n\n"
     ]
    }
   ],
   "source": [
    "# percentage loss/gain based on previous month sales\n",
    "\n",
    "prev_df.withColumn('percent_losses', (col('sales')-col('prev_sale'))/ col('sales') *100).show()  "
   ]
  },
  {
   "cell_type": "code",
   "execution_count": 0,
   "metadata": {
    "application/vnd.databricks.v1+cell": {
     "cellMetadata": {
      "byteLimit": 2048000,
      "rowLimit": 10000
     },
     "inputWidgets": {},
     "nuid": "e1815a52-8862-4fce-9880-35a8d7407175",
     "showTitle": false,
     "tableResultSettingsMap": {},
     "title": ""
    }
   },
   "outputs": [
    {
     "output_type": "stream",
     "name": "stdout",
     "output_type": "stream",
     "text": [
      "+----------+------------+----------+-------+---------+--------------+\n|product_id|product_name|sales_date|  sales|prev_sale|percent_losses|\n+----------+------------+----------+-------+---------+--------------+\n|         1|      iphone|01-01-2023|1500000|     null|          null|\n|         1|      iphone|01-02-2023|1300000|  1500000|        -15.38|\n|         1|      iphone|01-03-2023|1600000|  1300000|         18.75|\n|         1|      iphone|01-04-2023|1700000|  1600000|          5.88|\n|         1|      iphone|01-05-2023|1200000|  1700000|        -41.67|\n|         1|      iphone|01-06-2023|1100000|  1200000|         -9.09|\n|         2|     samsung|01-01-2023|1100000|     null|          null|\n|         2|     samsung|01-02-2023|1120000|  1100000|          1.79|\n|         2|     samsung|01-03-2023|1080000|  1120000|          -3.7|\n|         2|     samsung|01-04-2023|1800000|  1080000|          40.0|\n+----------+------------+----------+-------+---------+--------------+\nonly showing top 10 rows\n\n"
     ]
    }
   ],
   "source": [
    "# percentage loss/gain based on previous month sales\n",
    "\n",
    "prev_df.withColumn('percent_losses', round((col('sales')-col('prev_sale'))/ col('sales') *100, 2)).show(10)  "
   ]
  },
  {
   "cell_type": "code",
   "execution_count": 0,
   "metadata": {
    "application/vnd.databricks.v1+cell": {
     "cellMetadata": {
      "byteLimit": 2048000,
      "rowLimit": 10000
     },
     "inputWidgets": {},
     "nuid": "099861fd-0004-454e-a446-84a3f4f02f97",
     "showTitle": false,
     "tableResultSettingsMap": {},
     "title": ""
    }
   },
   "outputs": [
    {
     "output_type": "stream",
     "name": "stdout",
     "output_type": "stream",
     "text": [
      "Out[34]: ['code',\n 'message',\n 'restaurants',\n 'results_found',\n 'results_shown',\n 'results_start',\n 'status']"
     ]
    }
   ],
   "source": [
    "res_json_data = spark.read.format('json').option('header', 'true').option('inferSchema', 'true').option('mode', 'permissive')\\\n",
    "    .load('/FileStore/tables/resturant_json_data.json')\n",
    "\n",
    "res_json_data.columns"
   ]
  },
  {
   "cell_type": "code",
   "execution_count": 0,
   "metadata": {
    "application/vnd.databricks.v1+cell": {
     "cellMetadata": {
      "byteLimit": 2048000,
      "rowLimit": 10000
     },
     "inputWidgets": {},
     "nuid": "9654c508-c9b6-4e16-90c3-f5dd98dd8caf",
     "showTitle": false,
     "tableResultSettingsMap": {},
     "title": ""
    }
   },
   "outputs": [
    {
     "output_type": "stream",
     "name": "stdout",
     "output_type": "stream",
     "text": [
      "root\n |-- code: long (nullable = true)\n |-- message: string (nullable = true)\n |-- restaurants: array (nullable = true)\n |    |-- element: struct (containsNull = true)\n |    |    |-- restaurant: struct (nullable = true)\n |    |    |    |-- R: struct (nullable = true)\n |    |    |    |    |-- res_id: long (nullable = true)\n |    |    |    |-- apikey: string (nullable = true)\n |    |    |    |-- average_cost_for_two: long (nullable = true)\n |    |    |    |-- cuisines: string (nullable = true)\n |    |    |    |-- currency: string (nullable = true)\n |    |    |    |-- deeplink: string (nullable = true)\n |    |    |    |-- establishment_types: array (nullable = true)\n |    |    |    |    |-- element: string (containsNull = true)\n |    |    |    |-- events_url: string (nullable = true)\n |    |    |    |-- featured_image: string (nullable = true)\n |    |    |    |-- has_online_delivery: long (nullable = true)\n |    |    |    |-- has_table_booking: long (nullable = true)\n |    |    |    |-- id: string (nullable = true)\n |    |    |    |-- is_delivering_now: long (nullable = true)\n |    |    |    |-- location: struct (nullable = true)\n |    |    |    |    |-- address: string (nullable = true)\n |    |    |    |    |-- city: string (nullable = true)\n |    |    |    |    |-- city_id: long (nullable = true)\n |    |    |    |    |-- country_id: long (nullable = true)\n |    |    |    |    |-- latitude: string (nullable = true)\n |    |    |    |    |-- locality: string (nullable = true)\n |    |    |    |    |-- locality_verbose: string (nullable = true)\n |    |    |    |    |-- longitude: string (nullable = true)\n |    |    |    |    |-- zipcode: string (nullable = true)\n |    |    |    |-- menu_url: string (nullable = true)\n |    |    |    |-- name: string (nullable = true)\n |    |    |    |-- offers: array (nullable = true)\n |    |    |    |    |-- element: string (containsNull = true)\n |    |    |    |-- photos_url: string (nullable = true)\n |    |    |    |-- price_range: long (nullable = true)\n |    |    |    |-- switch_to_order_menu: long (nullable = true)\n |    |    |    |-- thumb: string (nullable = true)\n |    |    |    |-- url: string (nullable = true)\n |    |    |    |-- user_rating: struct (nullable = true)\n |    |    |    |    |-- aggregate_rating: string (nullable = true)\n |    |    |    |    |-- rating_color: string (nullable = true)\n |    |    |    |    |-- rating_text: string (nullable = true)\n |    |    |    |    |-- votes: string (nullable = true)\n |-- results_found: long (nullable = true)\n |-- results_shown: long (nullable = true)\n |-- results_start: string (nullable = true)\n |-- status: string (nullable = true)\n\n"
     ]
    }
   ],
   "source": [
    "re1 = res_json_data\n",
    "re1.printSchema()"
   ]
  },
  {
   "cell_type": "code",
   "execution_count": 0,
   "metadata": {
    "application/vnd.databricks.v1+cell": {
     "cellMetadata": {
      "byteLimit": 2048000,
      "rowLimit": 10000
     },
     "inputWidgets": {},
     "nuid": "3cbabc9c-6d50-4349-bd4b-a76e8d671b58",
     "showTitle": false,
     "tableResultSettingsMap": {},
     "title": ""
    }
   },
   "outputs": [
    {
     "output_type": "stream",
     "name": "stdout",
     "output_type": "stream",
     "text": [
      "root\n |-- code: long (nullable = true)\n |-- message: string (nullable = true)\n |-- results_found: long (nullable = true)\n |-- results_shown: long (nullable = true)\n |-- results_start: string (nullable = true)\n |-- status: string (nullable = true)\n |-- new_restaurants: struct (nullable = true)\n |    |-- restaurant: struct (nullable = true)\n |    |    |-- R: struct (nullable = true)\n |    |    |    |-- res_id: long (nullable = true)\n |    |    |-- apikey: string (nullable = true)\n |    |    |-- average_cost_for_two: long (nullable = true)\n |    |    |-- cuisines: string (nullable = true)\n |    |    |-- currency: string (nullable = true)\n |    |    |-- deeplink: string (nullable = true)\n |    |    |-- establishment_types: array (nullable = true)\n |    |    |    |-- element: string (containsNull = true)\n |    |    |-- events_url: string (nullable = true)\n |    |    |-- featured_image: string (nullable = true)\n |    |    |-- has_online_delivery: long (nullable = true)\n |    |    |-- has_table_booking: long (nullable = true)\n |    |    |-- id: string (nullable = true)\n |    |    |-- is_delivering_now: long (nullable = true)\n |    |    |-- location: struct (nullable = true)\n |    |    |    |-- address: string (nullable = true)\n |    |    |    |-- city: string (nullable = true)\n |    |    |    |-- city_id: long (nullable = true)\n |    |    |    |-- country_id: long (nullable = true)\n |    |    |    |-- latitude: string (nullable = true)\n |    |    |    |-- locality: string (nullable = true)\n |    |    |    |-- locality_verbose: string (nullable = true)\n |    |    |    |-- longitude: string (nullable = true)\n |    |    |    |-- zipcode: string (nullable = true)\n |    |    |-- menu_url: string (nullable = true)\n |    |    |-- name: string (nullable = true)\n |    |    |-- offers: array (nullable = true)\n |    |    |    |-- element: string (containsNull = true)\n |    |    |-- photos_url: string (nullable = true)\n |    |    |-- price_range: long (nullable = true)\n |    |    |-- switch_to_order_menu: long (nullable = true)\n |    |    |-- thumb: string (nullable = true)\n |    |    |-- url: string (nullable = true)\n |    |    |-- user_rating: struct (nullable = true)\n |    |    |    |-- aggregate_rating: string (nullable = true)\n |    |    |    |-- rating_color: string (nullable = true)\n |    |    |    |-- rating_text: string (nullable = true)\n |    |    |    |-- votes: string (nullable = true)\n\n"
     ]
    }
   ],
   "source": [
    "ex_data = re1.select('*', explode('restaurants').alias('new_restaurants')).drop('restaurants')\n",
    "ex_data.printSchema()"
   ]
  },
  {
   "cell_type": "code",
   "execution_count": 0,
   "metadata": {
    "application/vnd.databricks.v1+cell": {
     "cellMetadata": {
      "byteLimit": 2048000,
      "rowLimit": 10000
     },
     "inputWidgets": {},
     "nuid": "564e18f7-0dde-4cb1-a836-1d293d709cda",
     "showTitle": false,
     "tableResultSettingsMap": {},
     "title": ""
    }
   },
   "outputs": [
    {
     "output_type": "stream",
     "name": "stdout",
     "output_type": "stream",
     "text": [
      "root\n |-- code: long (nullable = true)\n |-- results_shown: long (nullable = true)\n |-- results_start: string (nullable = true)\n |-- status: string (nullable = true)\n |-- res_id: long (nullable = true)\n |-- name: string (nullable = true)\n |-- new_establishment_types: string (nullable = true)\n\n"
     ]
    }
   ],
   "source": [
    "ex1 = ex_data.select('*', 'new_restaurants.restaurant.R.res_id', 'new_restaurants.restaurant.name', explode_outer('new_restaurants.restaurant.establishment_types').alias('new_establishment_types')).drop('new_restaurants').drop('message', 'results_found')\n",
    "ex1.printSchema()"
   ]
  },
  {
   "cell_type": "code",
   "execution_count": 0,
   "metadata": {
    "application/vnd.databricks.v1+cell": {
     "cellMetadata": {
      "byteLimit": 2048000,
      "rowLimit": 10000
     },
     "inputWidgets": {},
     "nuid": "c2d8813d-3ff6-4d24-aadd-0aacf79c568a",
     "showTitle": false,
     "tableResultSettingsMap": {},
     "title": ""
    }
   },
   "outputs": [
    {
     "output_type": "stream",
     "name": "stdout",
     "output_type": "stream",
     "text": [
      "+--------+\n|  res_id|\n+--------+\n|17066603|\n|17059541|\n|17064405|\n|17057797|\n|17057591|\n|17064266|\n+--------+\nonly showing top 6 rows\n\n"
     ]
    }
   ],
   "source": [
    "ex1.select('res_id').show(6)"
   ]
  },
  {
   "cell_type": "code",
   "execution_count": 0,
   "metadata": {
    "application/vnd.databricks.v1+cell": {
     "cellMetadata": {
      "byteLimit": 2048000,
      "rowLimit": 10000
     },
     "inputWidgets": {},
     "nuid": "5870eb9c-6199-4ca1-bfaa-dbd2bcf1b9ff",
     "showTitle": false,
     "tableResultSettingsMap": {},
     "title": ""
    }
   },
   "outputs": [
    {
     "output_type": "stream",
     "name": "stdout",
     "output_type": "stream",
     "text": [
      "+----+-------------+-------------+------+--------+--------------------+-----------------------+\n|code|results_shown|results_start|status|  res_id|                name|new_establishment_types|\n+----+-------------+-------------+------+--------+--------------------+-----------------------+\n|null|           20|            1|  null|17066603|            The Coop|                   null|\n|null|           20|            1|  null|17059541|Maggiano's Little...|                   null|\n|null|           20|            1|  null|17064405|Tako Cheena by Po...|                   null|\n|null|           20|            1|  null|17057797|Bosphorous Turkis...|                   null|\n|null|           20|            1|  null|17064266|Hawkers Asian Str...|                   null|\n|null|           20|            1|  null|17060516|Seasons 52 Fresh ...|                   null|\n+----+-------------+-------------+------+--------+--------------------+-----------------------+\nonly showing top 6 rows\n\n"
     ]
    }
   ],
   "source": [
    "ex1.filter((col('res_id')>= 17057797) & (col('results_shown') >= 20) | (col('code').isNotNull()) ).show(6)"
   ]
  },
  {
   "cell_type": "code",
   "execution_count": 0,
   "metadata": {
    "application/vnd.databricks.v1+cell": {
     "cellMetadata": {
      "byteLimit": 2048000,
      "rowLimit": 10000
     },
     "inputWidgets": {},
     "nuid": "ca173b7f-9310-45b7-a773-6c2f23c06b0e",
     "showTitle": false,
     "tableResultSettingsMap": {},
     "title": ""
    }
   },
   "outputs": [
    {
     "output_type": "stream",
     "name": "stdout",
     "output_type": "stream",
     "text": [
      "+---+--------+---+------+-------+------+\n| id|    name|age|salary|address|gender|\n+---+--------+---+------+-------+------+\n|  1|  Manish| 26| 75000|  INDIA|     m|\n|  2|  Nikita| 23|100000|    USA|     f|\n|  3|  Pritam| 22|150000|  INDIA|     m|\n|  4|Prantosh| 17|200000|  JAPAN|     m|\n|  5|  Vikash| 31|300000|    USA|     m|\n|  6|   Rahul| 55|300000|  INDIA|     m|\n|  7|    Raju| 67|540000|    USA|     m|\n|  8| Praveen| 28| 70000|  JAPAN|     m|\n|  9|     Dev| 32|150000|  JAPAN|     m|\n| 10|  Sherin| 16| 25000| RUSSIA|     f|\n| 11|    Ragu| 12| 35000|  INDIA|     f|\n| 12|   Sweta| 43|200000|  INDIA|     f|\n| 13| Raushan| 48|650000|    USA|     m|\n| 14|  Mukesh| 36| 95000| RUSSIA|     m|\n| 15| Prakash| 52|750000|  INDIA|     m|\n+---+--------+---+------+-------+------+\n\n"
     ]
    }
   ],
   "source": [
    "csv_df = spark.read.format(\"csv\").option(\"header\", 'true').option(\"inferSchema\", 'true').option(\"mode\", 'PERMISSIVE').load(\"/FileStore/tables/disk_part.csv\")\n",
    "\n",
    "csv_df.show()"
   ]
  },
  {
   "cell_type": "code",
   "execution_count": 0,
   "metadata": {
    "application/vnd.databricks.v1+cell": {
     "cellMetadata": {
      "byteLimit": 2048000,
      "rowLimit": 10000
     },
     "inputWidgets": {},
     "nuid": "371ba7e0-3880-4cf6-8494-8aaea33ecd45",
     "showTitle": false,
     "tableResultSettingsMap": {},
     "title": ""
    }
   },
   "outputs": [],
   "source": [
    "csv_df.write.format('csv')\\\n",
    "    .option('header', 'true')\\\n",
    "    .option('inferschhema', 'true')\\\n",
    "    .option('mode', 'overwrite')\\\n",
    "    .partitionBy('address', 'gender')\\\n",
    "    .option('path', '/FileStore/tables/address_gender_partition')\\\n",
    "    .save()"
   ]
  },
  {
   "cell_type": "code",
   "execution_count": 0,
   "metadata": {
    "application/vnd.databricks.v1+cell": {
     "cellMetadata": {
      "byteLimit": 2048000,
      "rowLimit": 10000
     },
     "inputWidgets": {},
     "nuid": "9f4169d2-ed40-4b46-8013-296d01e0fdbf",
     "showTitle": false,
     "tableResultSettingsMap": {},
     "title": ""
    }
   },
   "outputs": [
    {
     "output_type": "stream",
     "name": "stdout",
     "output_type": "stream",
     "text": [
      "Out[41]: [FileInfo(path='dbfs:/FileStore/tables/address_gender_partition/_SUCCESS', name='_SUCCESS', size=0, modificationTime=1745986997000),\n FileInfo(path='dbfs:/FileStore/tables/address_gender_partition/address=INDIA/', name='address=INDIA/', size=0, modificationTime=0),\n FileInfo(path='dbfs:/FileStore/tables/address_gender_partition/address=JAPAN/', name='address=JAPAN/', size=0, modificationTime=0),\n FileInfo(path='dbfs:/FileStore/tables/address_gender_partition/address=RUSSIA/', name='address=RUSSIA/', size=0, modificationTime=0),\n FileInfo(path='dbfs:/FileStore/tables/address_gender_partition/address=USA/', name='address=USA/', size=0, modificationTime=0)]"
     ]
    }
   ],
   "source": [
    "dbutils.fs.ls('/FileStore/tables/address_gender_partition')  "
   ]
  },
  {
   "cell_type": "code",
   "execution_count": 0,
   "metadata": {
    "application/vnd.databricks.v1+cell": {
     "cellMetadata": {
      "byteLimit": 2048000,
      "rowLimit": 10000
     },
     "inputWidgets": {},
     "nuid": "8caef68d-f79b-4860-9376-26bc8530a3d9",
     "showTitle": false,
     "tableResultSettingsMap": {},
     "title": ""
    }
   },
   "outputs": [
    {
     "output_type": "stream",
     "name": "stdout",
     "output_type": "stream",
     "text": [
      "Out[42]: [FileInfo(path='dbfs:/FileStore/tables/address_gender_partition/address=INDIA/gender=f/', name='gender=f/', size=0, modificationTime=0),\n FileInfo(path='dbfs:/FileStore/tables/address_gender_partition/address=INDIA/gender=m/', name='gender=m/', size=0, modificationTime=0)]"
     ]
    }
   ],
   "source": [
    "dbutils.fs.ls('dbfs:/FileStore/tables/address_gender_partition/address=INDIA/')  # inside address search for gender"
   ]
  },
  {
   "cell_type": "code",
   "execution_count": 0,
   "metadata": {
    "application/vnd.databricks.v1+cell": {
     "cellMetadata": {
      "byteLimit": 2048000,
      "rowLimit": 10000
     },
     "inputWidgets": {},
     "nuid": "f01d665e-265d-41ba-9f65-71be0da977fc",
     "showTitle": false,
     "tableResultSettingsMap": {},
     "title": ""
    }
   },
   "outputs": [],
   "source": [
    "csv_df.write.format('csv')\\\n",
    "    .option('header', 'true')\\\n",
    "    .option('inferschhema', 'true')\\\n",
    "    .option('mode', 'overwrite')\\\n",
    "    .bucketBy(4, 'id')\\\n",
    "    .option('path', '/FileStore/tables/bucket_id')\\\n",
    "    .saveAsTable('bucket_id_table')"
   ]
  },
  {
   "cell_type": "code",
   "execution_count": 0,
   "metadata": {
    "application/vnd.databricks.v1+cell": {
     "cellMetadata": {
      "byteLimit": 2048000,
      "rowLimit": 10000
     },
     "inputWidgets": {},
     "nuid": "cc02db88-8d66-4a1c-a4dd-c31b35e8269e",
     "showTitle": false,
     "tableResultSettingsMap": {},
     "title": ""
    }
   },
   "outputs": [
    {
     "output_type": "stream",
     "name": "stdout",
     "output_type": "stream",
     "text": [
      "Out[44]: [FileInfo(path='dbfs:/FileStore/tables/bucket_id/_SUCCESS', name='_SUCCESS', size=0, modificationTime=1745987059000),\n FileInfo(path='dbfs:/FileStore/tables/bucket_id/_committed_2027114794156935381', name='_committed_2027114794156935381', size=404, modificationTime=1745987059000),\n FileInfo(path='dbfs:/FileStore/tables/bucket_id/_started_2027114794156935381', name='_started_2027114794156935381', size=0, modificationTime=1745987058000),\n FileInfo(path='dbfs:/FileStore/tables/bucket_id/part-00000-tid-2027114794156935381-d19cf7a8-e4b5-428d-8819-0777a6ad7ac0-406-1_00000.c000.csv', name='part-00000-tid-2027114794156935381-d19cf7a8-e4b5-428d-8819-0777a6ad7ac0-406-1_00000.c000.csv', size=116, modificationTime=1745987058000),\n FileInfo(path='dbfs:/FileStore/tables/bucket_id/part-00000-tid-2027114794156935381-d19cf7a8-e4b5-428d-8819-0777a6ad7ac0-406-2_00001.c000.csv', name='part-00000-tid-2027114794156935381-d19cf7a8-e4b5-428d-8819-0777a6ad7ac0-406-2_00001.c000.csv', size=113, modificationTime=1745987059000),\n FileInfo(path='dbfs:/FileStore/tables/bucket_id/part-00000-tid-2027114794156935381-d19cf7a8-e4b5-428d-8819-0777a6ad7ac0-406-3_00002.c000.csv', name='part-00000-tid-2027114794156935381-d19cf7a8-e4b5-428d-8819-0777a6ad7ac0-406-3_00002.c000.csv', size=141, modificationTime=1745987059000),\n FileInfo(path='dbfs:/FileStore/tables/bucket_id/part-00000-tid-2027114794156935381-d19cf7a8-e4b5-428d-8819-0777a6ad7ac0-406-4_00003.c000.csv', name='part-00000-tid-2027114794156935381-d19cf7a8-e4b5-428d-8819-0777a6ad7ac0-406-4_00003.c000.csv', size=162, modificationTime=1745987059000)]"
     ]
    }
   ],
   "source": [
    "dbutils.fs.ls('/FileStore/tables/bucket_id')  "
   ]
  },
  {
   "cell_type": "code",
   "execution_count": 0,
   "metadata": {
    "application/vnd.databricks.v1+cell": {
     "cellMetadata": {
      "byteLimit": 2048000,
      "rowLimit": 10000
     },
     "inputWidgets": {},
     "nuid": "d5cc7816-7772-4ee0-bb5e-6205201b5a12",
     "showTitle": false,
     "tableResultSettingsMap": {},
     "title": ""
    }
   },
   "outputs": [
    {
     "output_type": "stream",
     "name": "stdout",
     "output_type": "stream",
     "text": [
      "+---+--------+---+------+------------+--------+\n| id|    name|age|salary|     address| nominee|\n+---+--------+---+------+------------+--------+\n|  1|  Manish| 26| 75000|       bihar|nominee1|\n|  2|  Nikita| 23|100000|uttarpradesh|nominee2|\n|  3|  Pritam| 22|150000|   Bangalore|   India|\n|  4|Prantosh| 17|200000|     Kolkata|   India|\n|  5|  Vikash| 31|300000|        null|nominee5|\n+---+--------+---+------+------------+--------+\n\n"
     ]
    }
   ],
   "source": [
    "emp_df = spark.read.format('csv').option('header', 'true').option('inferschema', 'true').option('mode', 'PERMISSIVE')\\\n",
    ".load(\"/FileStore/tables/employee.csv\")\n",
    "\n",
    "emp_df.show()"
   ]
  },
  {
   "cell_type": "code",
   "execution_count": 0,
   "metadata": {
    "application/vnd.databricks.v1+cell": {
     "cellMetadata": {
      "byteLimit": 2048000,
      "rowLimit": 10000
     },
     "inputWidgets": {},
     "nuid": "b51f3c1e-8372-4d51-88ca-bc2a02723dfa",
     "showTitle": false,
     "tableResultSettingsMap": {},
     "title": ""
    }
   },
   "outputs": [
    {
     "output_type": "stream",
     "name": "stdout",
     "output_type": "stream",
     "text": [
      "+---+--------+------+------------+\n| id|    name|salary|     address|\n+---+--------+------+------------+\n|  1|  Manish| 75000|       bihar|\n|  2|  Nikita|100000|uttarpradesh|\n|  3|  Pritam|150000|   Bangalore|\n|  4|Prantosh|200000|     Kolkata|\n|  5|  Vikash|300000|        null|\n+---+--------+------+------------+\n\n"
     ]
    }
   ],
   "source": [
    "emp_df.select(\"id\", col(\"name\"), emp_df[\"salary\"], emp_df.address).show()     "
   ]
  },
  {
   "cell_type": "code",
   "execution_count": 0,
   "metadata": {
    "application/vnd.databricks.v1+cell": {
     "cellMetadata": {
      "byteLimit": 2048000,
      "rowLimit": 10000
     },
     "inputWidgets": {},
     "nuid": "bea3a5d9-568c-4305-ad68-606f5453fa89",
     "showTitle": false,
     "tableResultSettingsMap": {},
     "title": ""
    }
   },
   "outputs": [
    {
     "output_type": "stream",
     "name": "stdout",
     "output_type": "stream",
     "text": [
      "+--------+\n|(id + 5)|\n+--------+\n|       6|\n|       7|\n|       8|\n|       9|\n|      10|\n+--------+\n\n"
     ]
    }
   ],
   "source": [
    "### use of expression => expr  =>   expr(\"\")\n",
    "\n",
    "emp_df.select(expr(\"id +5\")).show()"
   ]
  },
  {
   "cell_type": "code",
   "execution_count": 0,
   "metadata": {
    "application/vnd.databricks.v1+cell": {
     "cellMetadata": {
      "byteLimit": 2048000,
      "rowLimit": 10000
     },
     "inputWidgets": {},
     "nuid": "a08897a1-27b8-49da-bb3e-273f8fc879ab",
     "showTitle": false,
     "tableResultSettingsMap": {},
     "title": ""
    }
   },
   "outputs": [
    {
     "output_type": "stream",
     "name": "stdout",
     "output_type": "stream",
     "text": [
      "+------+--------+---------------------+\n|emp_id|emp_name|concat(name, address)|\n+------+--------+---------------------+\n|     1|  Manish|          Manishbihar|\n|     2|  Nikita|   Nikitauttarpradesh|\n|     3|  Pritam|      PritamBangalore|\n|     4|Prantosh|      PrantoshKolkata|\n|     5|  Vikash|                 null|\n+------+--------+---------------------+\n\n"
     ]
    }
   ],
   "source": [
    "emp_df.select(expr(\"id as emp_id\"), expr(\"name as emp_name\"), expr(\"concat(name, address)\")).show()"
   ]
  },
  {
   "cell_type": "code",
   "execution_count": 0,
   "metadata": {
    "application/vnd.databricks.v1+cell": {
     "cellMetadata": {
      "byteLimit": 2048000,
      "rowLimit": 10000
     },
     "inputWidgets": {},
     "nuid": "98fc9c7d-17ee-4094-8591-73d57af58128",
     "showTitle": false,
     "tableResultSettingsMap": {},
     "title": ""
    }
   },
   "outputs": [
    {
     "output_type": "stream",
     "name": "stdout",
     "output_type": "stream",
     "text": [
      "+-------+--------+---+\n|empl_id|    name|age|\n+-------+--------+---+\n|      1|  Manish| 26|\n|      2|  Nikita| 23|\n|      3|  Pritam| 22|\n|      4|Prantosh| 17|\n|      5|  Vikash| 31|\n+-------+--------+---+\n\n"
     ]
    }
   ],
   "source": [
    "emp_df.select(col('id').alias('empl_id'), 'name', 'age').show()"
   ]
  },
  {
   "cell_type": "code",
   "execution_count": 0,
   "metadata": {
    "application/vnd.databricks.v1+cell": {
     "cellMetadata": {
      "byteLimit": 2048000,
      "rowLimit": 10000
     },
     "inputWidgets": {},
     "nuid": "c5712750-f699-447a-bced-9dbe3b49a349",
     "showTitle": false,
     "tableResultSettingsMap": {},
     "title": ""
    }
   },
   "outputs": [
    {
     "output_type": "stream",
     "name": "stdout",
     "output_type": "stream",
     "text": [
      "+---+--------+---+------+-------+--------+\n| id|    name|age|salary|address| nominee|\n+---+--------+---+------+-------+--------+\n|  4|Prantosh| 17|200000|Kolkata|   India|\n|  5|  Vikash| 31|300000|   null|nominee5|\n+---+--------+---+------+-------+--------+\n\n"
     ]
    }
   ],
   "source": [
    "emp_df.where((col('salary') > 150000) | (col('age') <18)).show()"
   ]
  },
  {
   "cell_type": "code",
   "execution_count": 0,
   "metadata": {
    "application/vnd.databricks.v1+cell": {
     "cellMetadata": {
      "byteLimit": 2048000,
      "rowLimit": 10000
     },
     "inputWidgets": {},
     "nuid": "b66b08ea-b0aa-44bf-8315-579aaafa79eb",
     "showTitle": false,
     "tableResultSettingsMap": {},
     "title": ""
    }
   },
   "outputs": [
    {
     "output_type": "stream",
     "name": "stdout",
     "output_type": "stream",
     "text": [
      "+---+--------+---+------+------------+--------+-----+\n| id|    name|age|salary|     address| nominee|kumar|\n+---+--------+---+------+------------+--------+-----+\n|  1|  Manish| 26| 75000|       bihar|nominee1|kumar|\n|  2|  Nikita| 23|100000|uttarpradesh|nominee2|kumar|\n|  3|  Pritam| 22|150000|   Bangalore|   India|kumar|\n|  4|Prantosh| 17|200000|     Kolkata|   India|kumar|\n|  5|  Vikash| 31|300000|        null|nominee5|kumar|\n+---+--------+---+------+------------+--------+-----+\n\n"
     ]
    }
   ],
   "source": [
    "emp_df.select(\"*\", lit(\"kumar\")).show()"
   ]
  },
  {
   "cell_type": "code",
   "execution_count": 0,
   "metadata": {
    "application/vnd.databricks.v1+cell": {
     "cellMetadata": {
      "byteLimit": 2048000,
      "rowLimit": 10000
     },
     "inputWidgets": {},
     "nuid": "42afddd1-9483-4979-ab7a-347d03cf5d24",
     "showTitle": false,
     "tableResultSettingsMap": {},
     "title": ""
    }
   },
   "outputs": [
    {
     "output_type": "stream",
     "name": "stdout",
     "output_type": "stream",
     "text": [
      "+---+--------+---+------+------------+--------+---------+\n| id|    name|age|salary|     address| nominee|last_name|\n+---+--------+---+------+------------+--------+---------+\n|  1|  Manish| 26| 75000|       bihar|nominee1|    kumar|\n|  2|  Nikita| 23|100000|uttarpradesh|nominee2|    kumar|\n|  3|  Pritam| 22|150000|   Bangalore|   India|    kumar|\n|  4|Prantosh| 17|200000|     Kolkata|   India|    kumar|\n|  5|  Vikash| 31|300000|        null|nominee5|    kumar|\n+---+--------+---+------+------------+--------+---------+\n\n"
     ]
    }
   ],
   "source": [
    "emp_df.select(\"*\", lit(\"kumar\").alias('last_name')).show()"
   ]
  },
  {
   "cell_type": "code",
   "execution_count": 0,
   "metadata": {
    "application/vnd.databricks.v1+cell": {
     "cellMetadata": {
      "byteLimit": 2048000,
      "rowLimit": 10000
     },
     "inputWidgets": {},
     "nuid": "aa583741-be9b-469e-bcf4-74abb7fa408f",
     "showTitle": false,
     "tableResultSettingsMap": {},
     "title": ""
    }
   },
   "outputs": [
    {
     "output_type": "stream",
     "name": "stdout",
     "output_type": "stream",
     "text": [
      "+---+--------+---+------+------------+--------+-------+\n| id|    name|age|salary|     address| nominee|surname|\n+---+--------+---+------+------------+--------+-------+\n|  1|  Manish| 26| 75000|       bihar|nominee1|  singh|\n|  2|  Nikita| 23|100000|uttarpradesh|nominee2|  singh|\n|  3|  Pritam| 22|150000|   Bangalore|   India|  singh|\n|  4|Prantosh| 17|200000|     Kolkata|   India|  singh|\n|  5|  Vikash| 31|300000|        null|nominee5|  singh|\n+---+--------+---+------+------------+--------+-------+\n\n"
     ]
    }
   ],
   "source": [
    "emp_df.withColumn('surname', lit('singh')).show()"
   ]
  },
  {
   "cell_type": "code",
   "execution_count": 0,
   "metadata": {
    "application/vnd.databricks.v1+cell": {
     "cellMetadata": {
      "byteLimit": 2048000,
      "rowLimit": 10000
     },
     "inputWidgets": {},
     "nuid": "3c0428b9-d305-4752-80bf-8ece2c7c0732",
     "showTitle": false,
     "tableResultSettingsMap": {},
     "title": ""
    }
   },
   "outputs": [
    {
     "output_type": "stream",
     "name": "stdout",
     "output_type": "stream",
     "text": [
      "+------+--------+---+------+------------+--------+\n|emp_id|    name|age|salary|     address| nominee|\n+------+--------+---+------+------------+--------+\n|     1|  Manish| 26| 75000|       bihar|nominee1|\n|     2|  Nikita| 23|100000|uttarpradesh|nominee2|\n|     3|  Pritam| 22|150000|   Bangalore|   India|\n|     4|Prantosh| 17|200000|     Kolkata|   India|\n|     5|  Vikash| 31|300000|        null|nominee5|\n+------+--------+---+------+------------+--------+\n\n"
     ]
    }
   ],
   "source": [
    "new_emp_df = emp_df.withColumnRenamed('id', 'emp_id')\n",
    "new_emp_df.show()"
   ]
  },
  {
   "cell_type": "code",
   "execution_count": 0,
   "metadata": {
    "application/vnd.databricks.v1+cell": {
     "cellMetadata": {
      "byteLimit": 2048000,
      "rowLimit": 10000
     },
     "inputWidgets": {},
     "nuid": "30839744-7d51-4fff-9e56-a02987dba899",
     "showTitle": false,
     "tableResultSettingsMap": {},
     "title": ""
    }
   },
   "outputs": [
    {
     "output_type": "stream",
     "name": "stdout",
     "output_type": "stream",
     "text": [
      "root\n |-- emp_id: integer (nullable = true)\n |-- name: string (nullable = true)\n |-- age: integer (nullable = true)\n |-- salary: integer (nullable = true)\n |-- address: string (nullable = true)\n |-- nominee: string (nullable = true)\n\n"
     ]
    }
   ],
   "source": [
    "new_emp_df.printSchema()"
   ]
  },
  {
   "cell_type": "code",
   "execution_count": 0,
   "metadata": {
    "application/vnd.databricks.v1+cell": {
     "cellMetadata": {
      "byteLimit": 2048000,
      "rowLimit": 10000
     },
     "inputWidgets": {},
     "nuid": "175c5798-f176-4cd1-b6d9-9c78172e7934",
     "showTitle": false,
     "tableResultSettingsMap": {},
     "title": ""
    }
   },
   "outputs": [
    {
     "output_type": "stream",
     "name": "stdout",
     "output_type": "stream",
     "text": [
      "root\n |-- emp_id: string (nullable = true)\n |-- name: integer (nullable = true)\n |-- age: integer (nullable = true)\n |-- salary: integer (nullable = true)\n |-- address: string (nullable = true)\n |-- nominee: string (nullable = true)\n\n"
     ]
    }
   ],
   "source": [
    "## cast data type\n",
    "\n",
    "new_emp_df.withColumn('emp_id', col('emp_id').cast('string'))\\\n",
    "    .withColumn('name', col('name').cast('integer'))\\\n",
    "    .printSchema()"
   ]
  },
  {
   "cell_type": "code",
   "execution_count": 0,
   "metadata": {
    "application/vnd.databricks.v1+cell": {
     "cellMetadata": {
      "byteLimit": 2048000,
      "rowLimit": 10000
     },
     "inputWidgets": {},
     "nuid": "824dbe4a-6aa9-4a20-8eab-9a56cefbff35",
     "showTitle": false,
     "tableResultSettingsMap": {},
     "title": ""
    }
   },
   "outputs": [
    {
     "output_type": "stream",
     "name": "stdout",
     "output_type": "stream",
     "text": [
      "+--------+---+------------+--------+\n|    name|age|     address| nominee|\n+--------+---+------------+--------+\n|  Manish| 26|       bihar|nominee1|\n|  Nikita| 23|uttarpradesh|nominee2|\n|  Pritam| 22|   Bangalore|   India|\n|Prantosh| 17|     Kolkata|   India|\n|  Vikash| 31|        null|nominee5|\n+--------+---+------------+--------+\n\n"
     ]
    }
   ],
   "source": [
    "new_emp_df.drop('emp_id', col('salary')).show()"
   ]
  },
  {
   "cell_type": "code",
   "execution_count": 0,
   "metadata": {
    "application/vnd.databricks.v1+cell": {
     "cellMetadata": {
      "byteLimit": 2048000,
      "rowLimit": 10000
     },
     "inputWidgets": {},
     "nuid": "91264976-a7ab-43fe-95d3-a6cc898b7cc8",
     "showTitle": false,
     "tableResultSettingsMap": {},
     "title": ""
    }
   },
   "outputs": [
    {
     "output_type": "display_data",
     "data": {
      "text/html": [
       "<style scoped>\n",
       "  .table-result-container {\n",
       "    max-height: 300px;\n",
       "    overflow: auto;\n",
       "  }\n",
       "  table, th, td {\n",
       "    border: 1px solid black;\n",
       "    border-collapse: collapse;\n",
       "  }\n",
       "  th, td {\n",
       "    padding: 5px;\n",
       "  }\n",
       "  th {\n",
       "    text-align: left;\n",
       "  }\n",
       "</style><div class='table-result-container'><table class='table-result'><thead style='background-color: white'><tr><th>input_date</th><th>after_months</th><th>final_date</th></tr></thead><tbody><tr><td>2025-04-28</td><td>2025-06-28</td><td>2025-07-08</td></tr><tr><td>2024-11-10</td><td>2025-01-10</td><td>2025-01-20</td></tr></tbody></table></div>"
      ]
     },
     "metadata": {
      "application/vnd.databricks.v1+output": {
       "addedWidgets": {},
       "aggData": [],
       "aggError": "",
       "aggOverflow": false,
       "aggSchema": [],
       "aggSeriesLimitReached": false,
       "aggType": "",
       "arguments": {},
       "columnCustomDisplayInfos": {},
       "data": [
        [
         "2025-04-28",
         "2025-06-28",
         "2025-07-08"
        ],
        [
         "2024-11-10",
         "2025-01-10",
         "2025-01-20"
        ]
       ],
       "datasetInfos": [],
       "dbfsResultPath": null,
       "isJsonSchema": true,
       "metadata": {},
       "overflow": false,
       "plotOptions": {
        "customPlotOptions": {},
        "displayType": "table",
        "pivotAggregation": null,
        "pivotColumns": null,
        "xColumns": null,
        "yColumns": null
       },
       "removedWidgets": [],
       "schema": [
        {
         "metadata": "{}",
         "name": "input_date",
         "type": "\"date\""
        },
        {
         "metadata": "{}",
         "name": "after_months",
         "type": "\"date\""
        },
        {
         "metadata": "{}",
         "name": "final_date",
         "type": "\"date\""
        }
       ],
       "type": "table"
      }
     },
     "output_type": "display_data"
    }
   ],
   "source": [
    "# ⁠add n number of months and n number of days to ficen conditional date\n",
    "# from pyspark.sql.functions import col, to_date, add_months, date_add\n",
    "# from pyspark.sql import SparkSession\n",
    "\n",
    "data = [(\"2025-04-28\",), (\"2024-11-10\",)]\n",
    "df = spark.createDataFrame(data, [\"input_date\"])\n",
    "\n",
    "# Convert string to DateType\n",
    "df = df.withColumn(\"input_date\", to_date(\"input_date\"))\n",
    "\n",
    "# Step 1: Add months\n",
    "df_months_added = df.withColumn(\"after_months\", add_months(col(\"input_date\"), 2))\n",
    "\n",
    "# Step 2: Add days on top of the already modified date\n",
    "df_final = df_months_added.withColumn(\"final_date\", date_add(col(\"after_months\"), 10))\n",
    "\n",
    "# Display result\n",
    "display(df_final)\n"
   ]
  },
  {
   "cell_type": "code",
   "execution_count": 0,
   "metadata": {
    "application/vnd.databricks.v1+cell": {
     "cellMetadata": {
      "byteLimit": 2048000,
      "rowLimit": 10000
     },
     "inputWidgets": {},
     "nuid": "7b34e459-81fc-40ad-96b2-c78511d9b4f4",
     "showTitle": false,
     "tableResultSettingsMap": {},
     "title": ""
    }
   },
   "outputs": [
    {
     "output_type": "stream",
     "name": "stdout",
     "output_type": "stream",
     "text": [
      "+----------+------------+----------+\n|input_date|added_months|added_days|\n+----------+------------+----------+\n|2020-05-20|  2020-09-20|2020-10-05|\n|2018-01-12|  2018-05-12|2018-05-27|\n|2022-08-23|  2022-12-23|2023-01-07|\n+----------+------------+----------+\n\n"
     ]
    }
   ],
   "source": [
    "data1 = [('2020-05-20',), ('2018-01-12',), ('2022-08-23',)]\n",
    "df1 = spark.createDataFrame(data1, ['input_date'])\n",
    "# display(df1)\n",
    "\n",
    "df_m = df1.withColumn('added_months', add_months(col('input_date'), 4))\n",
    "# df_m.show()\n",
    "\n",
    "df_d = df_m.withColumn('added_days', date_add('added_months', 15))\n",
    "df_d.show()\n"
   ]
  },
  {
   "cell_type": "code",
   "execution_count": 0,
   "metadata": {
    "application/vnd.databricks.v1+cell": {
     "cellMetadata": {
      "byteLimit": 2048000,
      "rowLimit": 10000
     },
     "inputWidgets": {},
     "nuid": "8d494ccc-8d84-48dc-8e60-bde8e3d067fd",
     "showTitle": false,
     "tableResultSettingsMap": {},
     "title": ""
    }
   },
   "outputs": [
    {
     "output_type": "stream",
     "name": "stdout",
     "output_type": "stream",
     "text": [
      "+---+-----------+-----------+---------------+\n| id|year1_value|year2_value|percentage_diff|\n+---+-----------+-----------+---------------+\n|  1|       1000|       1200|           20.0|\n|  2|        500|        750|           50.0|\n+---+-----------+-----------+---------------+\n\n"
     ]
    }
   ],
   "source": [
    "data = [(1, 1000, 1200), (2, 500, 750)]\n",
    "columns = [\"id\", \"year1_value\", \"year2_value\"]\n",
    "\n",
    "df = spark.createDataFrame(data, columns)\n",
    "\n",
    "df_percentage = df.withColumn(\"percentage_diff\", ((col(\"year2_value\") - col(\"year1_value\")) / col(\"year1_value\")) * 100)\n",
    "\n",
    "df_percentage.show()"
   ]
  },
  {
   "cell_type": "code",
   "execution_count": 0,
   "metadata": {
    "application/vnd.databricks.v1+cell": {
     "cellMetadata": {
      "byteLimit": 2048000,
      "rowLimit": 10000
     },
     "inputWidgets": {},
     "nuid": "65d0e2d9-1100-4f5f-9b17-c343654f5c5e",
     "showTitle": false,
     "tableResultSettingsMap": {},
     "title": ""
    }
   },
   "outputs": [
    {
     "output_type": "stream",
     "name": "stdout",
     "output_type": "stream",
     "text": [
      "+---+-----------+-----------+---------------+---------+\n| id|year1_value|year2_value|percentage_diff|round_per|\n+---+-----------+-----------+---------------+---------+\n|  1|       1000|       1200|           20.0|     20.0|\n|  2|        500|        750|           50.0|     50.0|\n+---+-----------+-----------+---------------+---------+\n\n"
     ]
    }
   ],
   "source": [
    "df_percentage.withColumn(\"round_per\", round('percentage_diff', 2)).show()\n"
   ]
  },
  {
   "cell_type": "code",
   "execution_count": 0,
   "metadata": {
    "application/vnd.databricks.v1+cell": {
     "cellMetadata": {
      "byteLimit": 2048000,
      "rowLimit": 10000
     },
     "inputWidgets": {},
     "nuid": "ae09385f-89bf-42e4-88c7-fa06380481a9",
     "showTitle": false,
     "tableResultSettingsMap": {},
     "title": ""
    }
   },
   "outputs": [
    {
     "output_type": "stream",
     "name": "stdout",
     "output_type": "stream",
     "text": [
      "+---+-----+------+----------+\n| id| name|salary|manager_id|\n+---+-----+------+----------+\n| 18|  Sam| 65000|        17|\n| 18|  Sam| 65000|        18|\n| 19|Sohan| 50000|        18|\n| 20| Sima| 75000|        17|\n+---+-----+------+----------+\n\n"
     ]
    }
   ],
   "source": [
    "my_data=[(10 ,'Anil',50000, 18),\n",
    "(11 ,'Vikas',75000,  16),\n",
    "(12 ,'Nisha',40000,  18),\n",
    "(13 ,'Nidhi',60000,  17),\n",
    "(14 ,'Priya',80000,  18),\n",
    "(15 ,'Mohit',45000,  18),\n",
    "(16 ,'Rajesh',90000, 10),\n",
    "(17 ,'Raman',55000, 16),\n",
    "(18 ,'Sam',65000,   17)]\n",
    "\n",
    "my_schema = ['id', 'name', 'salary', 'manager_id']\n",
    "\n",
    "man_df = spark.createDataFrame(my_data, my_schema)\n",
    "# man_df.show()\n",
    "dup_my_data = [(18 ,'Sam',65000, 17),\n",
    "               (18 ,'Sam',65000, 18),\n",
    "               (19 ,'Sohan',50000, 18),\n",
    "(20 ,'Sima',75000,  17)]\n",
    "\n",
    "dup_man_df = spark.createDataFrame(dup_my_data, my_schema)\n",
    "dup_man_df.show()"
   ]
  },
  {
   "cell_type": "code",
   "execution_count": 0,
   "metadata": {
    "application/vnd.databricks.v1+cell": {
     "cellMetadata": {
      "byteLimit": 2048000,
      "rowLimit": 10000
     },
     "inputWidgets": {},
     "nuid": "5f484a14-ca8f-452f-ad74-537de01deaf6",
     "showTitle": false,
     "tableResultSettingsMap": {},
     "title": ""
    }
   },
   "outputs": [
    {
     "output_type": "stream",
     "name": "stdout",
     "output_type": "stream",
     "text": [
      "Out[77]: 13"
     ]
    }
   ],
   "source": [
    "man_df.union(dup_man_df).count()"
   ]
  },
  {
   "cell_type": "code",
   "execution_count": 0,
   "metadata": {
    "application/vnd.databricks.v1+cell": {
     "cellMetadata": {
      "byteLimit": 2048000,
      "rowLimit": 10000
     },
     "inputWidgets": {},
     "nuid": "2083013d-133e-4acc-9747-2596bb34545b",
     "showTitle": false,
     "tableResultSettingsMap": {},
     "title": ""
    }
   },
   "outputs": [
    {
     "output_type": "stream",
     "name": "stdout",
     "output_type": "stream",
     "text": [
      "Out[78]: 13"
     ]
    }
   ],
   "source": [
    "man_df.unionAll(dup_man_df).count()"
   ]
  },
  {
   "cell_type": "code",
   "execution_count": 0,
   "metadata": {
    "application/vnd.databricks.v1+cell": {
     "cellMetadata": {
      "byteLimit": 2048000,
      "rowLimit": 10000
     },
     "inputWidgets": {},
     "nuid": "3d0ca96f-c027-474a-875c-890d0beed02d",
     "showTitle": false,
     "tableResultSettingsMap": {},
     "title": ""
    }
   },
   "outputs": [
    {
     "output_type": "stream",
     "name": "stdout",
     "output_type": "stream",
     "text": [
      "+---+------+----------+-----+\n| id|salary|manager_id| name|\n+---+------+----------+-----+\n| 19| 50000|        18|Sohan|\n| 20| 75000|        17| Sima|\n+---+------+----------+-----+\n\n"
     ]
    }
   ],
   "source": [
    "wrong_column_data=[(19 ,50000, 18,'Sohan'),\n",
    "(20 ,75000,  17,'Sima')]\n",
    "\n",
    "wrong_schema = ['id', 'salary', 'manager_id', 'name']\n",
    "\n",
    "wrong_df = spark.createDataFrame(data=wrong_column_data, schema=wrong_schema)\n",
    "wrong_df.show()"
   ]
  },
  {
   "cell_type": "code",
   "execution_count": 0,
   "metadata": {
    "application/vnd.databricks.v1+cell": {
     "cellMetadata": {
      "byteLimit": 2048000,
      "rowLimit": 10000
     },
     "inputWidgets": {},
     "nuid": "d2ea4c30-92f4-417d-9fe8-23ff9a2236f2",
     "showTitle": false,
     "tableResultSettingsMap": {},
     "title": ""
    }
   },
   "outputs": [
    {
     "output_type": "stream",
     "name": "stdout",
     "output_type": "stream",
     "text": [
      "+---+------+------+----------+\n| id|  name|salary|manager_id|\n+---+------+------+----------+\n| 10|  Anil| 50000|        18|\n| 11| Vikas| 75000|        16|\n| 12| Nisha| 40000|        18|\n| 13| Nidhi| 60000|        17|\n| 14| Priya| 80000|        18|\n| 15| Mohit| 45000|        18|\n| 16|Rajesh| 90000|        10|\n| 17| Raman| 55000|        16|\n| 18|   Sam| 65000|        17|\n| 19| 50000|    18|     Sohan|\n| 20| 75000|    17|      Sima|\n+---+------+------+----------+\n\n"
     ]
    }
   ],
   "source": [
    "man_df.union(wrong_df).show()       # didnt give error just adds data"
   ]
  },
  {
   "cell_type": "code",
   "execution_count": 0,
   "metadata": {
    "application/vnd.databricks.v1+cell": {
     "cellMetadata": {
      "byteLimit": 2048000,
      "rowLimit": 10000
     },
     "inputWidgets": {},
     "nuid": "7a75d3df-7124-4cf7-b94f-5ecad6750478",
     "showTitle": false,
     "tableResultSettingsMap": {},
     "title": ""
    }
   },
   "outputs": [
    {
     "output_type": "stream",
     "name": "stdout",
     "output_type": "stream",
     "text": [
      "+---+------+------+----------+\n| id|  name|salary|manager_id|\n+---+------+------+----------+\n| 10|  Anil| 50000|        18|\n| 11| Vikas| 75000|        16|\n| 12| Nisha| 40000|        18|\n| 13| Nidhi| 60000|        17|\n| 14| Priya| 80000|        18|\n| 15| Mohit| 45000|        18|\n| 16|Rajesh| 90000|        10|\n| 17| Raman| 55000|        16|\n| 18|   Sam| 65000|        17|\n| 19| Sohan| 50000|        18|\n| 20|  Sima| 75000|        17|\n+---+------+------+----------+\n\n"
     ]
    }
   ],
   "source": [
    "man_df.unionByName(wrong_df).show()       # didnt give error just adds data"
   ]
  },
  {
   "cell_type": "code",
   "execution_count": 0,
   "metadata": {
    "application/vnd.databricks.v1+cell": {
     "cellMetadata": {
      "byteLimit": 2048000,
      "rowLimit": 10000
     },
     "inputWidgets": {},
     "nuid": "e8c35e5d-c75c-4a23-993a-3242e16af6e9",
     "showTitle": false,
     "tableResultSettingsMap": {},
     "title": ""
    }
   },
   "outputs": [
    {
     "output_type": "stream",
     "name": "stdout",
     "output_type": "stream",
     "text": [
      "+---+------+------+----------+\n| id|  name|salary|manager_id|\n+---+------+------+----------+\n| 16|Rajesh| 90000|        10|\n| 14| Priya| 80000|        18|\n| 11| Vikas| 75000|        16|\n| 18|   Sam| 65000|        17|\n| 13| Nidhi| 60000|        17|\n| 17| Raman| 55000|        16|\n| 10|  Anil| 50000|        18|\n| 15| Mohit| 45000|        18|\n| 12| Nisha| 40000|        18|\n+---+------+------+----------+\n\n"
     ]
    }
   ],
   "source": [
    "man_df.sort(col('salary').desc()).show()"
   ]
  },
  {
   "cell_type": "code",
   "execution_count": 0,
   "metadata": {
    "application/vnd.databricks.v1+cell": {
     "cellMetadata": {
      "byteLimit": 2048000,
      "rowLimit": 10000
     },
     "inputWidgets": {},
     "nuid": "561115a4-4374-4e44-b797-31292331ca54",
     "showTitle": false,
     "tableResultSettingsMap": {},
     "title": ""
    }
   },
   "outputs": [
    {
     "output_type": "stream",
     "name": "stdout",
     "output_type": "stream",
     "text": [
      "+------+------+\n|salary|  name|\n+------+------+\n| 50000|  Anil|\n| 75000| Vikas|\n| 40000| Nisha|\n| 60000| Nidhi|\n| 80000| Priya|\n| 45000| Mohit|\n| 90000|Rajesh|\n| 55000| Raman|\n| 65000|   Sam|\n+------+------+\n\n"
     ]
    }
   ],
   "source": [
    "man_df.select('salary', 'name').distinct().show()"
   ]
  },
  {
   "cell_type": "code",
   "execution_count": 0,
   "metadata": {
    "application/vnd.databricks.v1+cell": {
     "cellMetadata": {
      "byteLimit": 2048000,
      "rowLimit": 10000
     },
     "inputWidgets": {},
     "nuid": "cb6df34d-e8b0-4e82-ab7f-a87549369519",
     "showTitle": false,
     "tableResultSettingsMap": {},
     "title": ""
    }
   },
   "outputs": [
    {
     "output_type": "display_data",
     "data": {
      "text/plain": [
       "\u001B[0;31m---------------------------------------------------------------------------\u001B[0m\n",
       "\u001B[0;31mTypeError\u001B[0m                                 Traceback (most recent call last)\n",
       "File \u001B[0;32m<command-2623574814266193>:1\u001B[0m\n",
       "\u001B[0;32m----> 1\u001B[0m \u001B[43mman_df\u001B[49m\u001B[38;5;241;43m.\u001B[39;49m\u001B[43mdrop_duplicates\u001B[49m\u001B[43m(\u001B[49m\u001B[38;5;124;43m'\u001B[39;49m\u001B[38;5;124;43mname\u001B[39;49m\u001B[38;5;124;43m'\u001B[39;49m\u001B[43m,\u001B[49m\u001B[43m \u001B[49m\u001B[38;5;124;43m'\u001B[39;49m\u001B[38;5;124;43msalary\u001B[39;49m\u001B[38;5;124;43m'\u001B[39;49m\u001B[43m)\u001B[49m\u001B[38;5;241m.\u001B[39mshow()\n",
       "\n",
       "File \u001B[0;32m/databricks/spark/python/pyspark/instrumentation_utils.py:48\u001B[0m, in \u001B[0;36m_wrap_function.<locals>.wrapper\u001B[0;34m(*args, **kwargs)\u001B[0m\n",
       "\u001B[1;32m     46\u001B[0m start \u001B[38;5;241m=\u001B[39m time\u001B[38;5;241m.\u001B[39mperf_counter()\n",
       "\u001B[1;32m     47\u001B[0m \u001B[38;5;28;01mtry\u001B[39;00m:\n",
       "\u001B[0;32m---> 48\u001B[0m     res \u001B[38;5;241m=\u001B[39m \u001B[43mfunc\u001B[49m\u001B[43m(\u001B[49m\u001B[38;5;241;43m*\u001B[39;49m\u001B[43margs\u001B[49m\u001B[43m,\u001B[49m\u001B[43m \u001B[49m\u001B[38;5;241;43m*\u001B[39;49m\u001B[38;5;241;43m*\u001B[39;49m\u001B[43mkwargs\u001B[49m\u001B[43m)\u001B[49m\n",
       "\u001B[1;32m     49\u001B[0m     logger\u001B[38;5;241m.\u001B[39mlog_success(\n",
       "\u001B[1;32m     50\u001B[0m         module_name, class_name, function_name, time\u001B[38;5;241m.\u001B[39mperf_counter() \u001B[38;5;241m-\u001B[39m start, signature\n",
       "\u001B[1;32m     51\u001B[0m     )\n",
       "\u001B[1;32m     52\u001B[0m     \u001B[38;5;28;01mreturn\u001B[39;00m res\n",
       "\n",
       "\u001B[0;31mTypeError\u001B[0m: dropDuplicates() takes from 1 to 2 positional arguments but 3 were given"
      ]
     },
     "metadata": {
      "application/vnd.databricks.v1+output": {
       "arguments": {},
       "data": "\u001B[0;31m---------------------------------------------------------------------------\u001B[0m\n\u001B[0;31mTypeError\u001B[0m                                 Traceback (most recent call last)\nFile \u001B[0;32m<command-2623574814266193>:1\u001B[0m\n\u001B[0;32m----> 1\u001B[0m \u001B[43mman_df\u001B[49m\u001B[38;5;241;43m.\u001B[39;49m\u001B[43mdrop_duplicates\u001B[49m\u001B[43m(\u001B[49m\u001B[38;5;124;43m'\u001B[39;49m\u001B[38;5;124;43mname\u001B[39;49m\u001B[38;5;124;43m'\u001B[39;49m\u001B[43m,\u001B[49m\u001B[43m \u001B[49m\u001B[38;5;124;43m'\u001B[39;49m\u001B[38;5;124;43msalary\u001B[39;49m\u001B[38;5;124;43m'\u001B[39;49m\u001B[43m)\u001B[49m\u001B[38;5;241m.\u001B[39mshow()\n\nFile \u001B[0;32m/databricks/spark/python/pyspark/instrumentation_utils.py:48\u001B[0m, in \u001B[0;36m_wrap_function.<locals>.wrapper\u001B[0;34m(*args, **kwargs)\u001B[0m\n\u001B[1;32m     46\u001B[0m start \u001B[38;5;241m=\u001B[39m time\u001B[38;5;241m.\u001B[39mperf_counter()\n\u001B[1;32m     47\u001B[0m \u001B[38;5;28;01mtry\u001B[39;00m:\n\u001B[0;32m---> 48\u001B[0m     res \u001B[38;5;241m=\u001B[39m \u001B[43mfunc\u001B[49m\u001B[43m(\u001B[49m\u001B[38;5;241;43m*\u001B[39;49m\u001B[43margs\u001B[49m\u001B[43m,\u001B[49m\u001B[43m \u001B[49m\u001B[38;5;241;43m*\u001B[39;49m\u001B[38;5;241;43m*\u001B[39;49m\u001B[43mkwargs\u001B[49m\u001B[43m)\u001B[49m\n\u001B[1;32m     49\u001B[0m     logger\u001B[38;5;241m.\u001B[39mlog_success(\n\u001B[1;32m     50\u001B[0m         module_name, class_name, function_name, time\u001B[38;5;241m.\u001B[39mperf_counter() \u001B[38;5;241m-\u001B[39m start, signature\n\u001B[1;32m     51\u001B[0m     )\n\u001B[1;32m     52\u001B[0m     \u001B[38;5;28;01mreturn\u001B[39;00m res\n\n\u001B[0;31mTypeError\u001B[0m: dropDuplicates() takes from 1 to 2 positional arguments but 3 were given",
       "errorSummary": "<span class='ansi-red-fg'>TypeError</span>: dropDuplicates() takes from 1 to 2 positional arguments but 3 were given",
       "errorTraceType": "ansi",
       "metadata": {},
       "type": "ipynbError"
      }
     },
     "output_type": "display_data"
    }
   ],
   "source": [
    "man_df.drop_duplicates('name', 'salary').show()"
   ]
  },
  {
   "cell_type": "code",
   "execution_count": 0,
   "metadata": {
    "application/vnd.databricks.v1+cell": {
     "cellMetadata": {
      "byteLimit": 2048000,
      "rowLimit": 10000
     },
     "inputWidgets": {},
     "nuid": "b2cbec0f-79d7-4eec-a795-3c0a7e591785",
     "showTitle": false,
     "tableResultSettingsMap": {},
     "title": ""
    }
   },
   "outputs": [
    {
     "output_type": "stream",
     "name": "stdout",
     "output_type": "stream",
     "text": [
      "+---+------+------+----------+\n| id|  name|salary|manager_id|\n+---+------+------+----------+\n| 10|  Anil| 50000|        18|\n| 11| Vikas| 75000|        16|\n| 12| Nisha| 40000|        18|\n| 13| Nidhi| 60000|        17|\n| 14| Priya| 80000|        18|\n| 15| Mohit| 45000|        18|\n| 16|Rajesh| 90000|        10|\n| 17| Raman| 55000|        16|\n| 18|   Sam| 65000|        17|\n+---+------+------+----------+\n\n"
     ]
    }
   ],
   "source": [
    "man_df.drop_duplicates(['name', 'salary']).show()"
   ]
  },
  {
   "cell_type": "code",
   "execution_count": 0,
   "metadata": {
    "application/vnd.databricks.v1+cell": {
     "cellMetadata": {
      "byteLimit": 2048000,
      "rowLimit": 10000
     },
     "inputWidgets": {},
     "nuid": "1417224f-3dea-4d1c-bbcd-4d83832cc874",
     "showTitle": false,
     "tableResultSettingsMap": {},
     "title": ""
    }
   },
   "outputs": [
    {
     "output_type": "stream",
     "name": "stdout",
     "output_type": "stream",
     "text": [
      "+----+-------+----+------+-------+-----------+\n|  id|   name| age|salary|country|       dept|\n+----+-------+----+------+-------+-----------+\n|   1| manish|  26| 20000|  india|         IT|\n|   2|  rahul|null| 40000|germany|engineering|\n|   3|  pawan|  12| 60000|  india|      sales|\n|   4|roshini|  44|  null|     uk|engineering|\n|   5|raushan|  35| 70000|  india|      sales|\n|   6|   null|  29|200000|     uk|         IT|\n|   7|   adam|  37| 65000|     us|         IT|\n|   8|  chris|  16| 40000|     us|      sales|\n|null|   null|null|  null|   null|       null|\n|   7|   adam|  37| 65000|     us|         IT|\n+----+-------+----+------+-------+-----------+\n\n"
     ]
    }
   ],
   "source": [
    "emp_d = [\n",
    "(1,'manish',26,20000,'india','IT'),\n",
    "(2,'rahul',None,40000,'germany','engineering'),\n",
    "(3,'pawan',12,60000,'india','sales'),\n",
    "(4,'roshini',44,None,'uk','engineering'),\n",
    "(5,'raushan',35,70000,'india','sales'),\n",
    "(6,None,29,200000,'uk','IT'),\n",
    "(7,'adam',37,65000,'us','IT'),\n",
    "(8,'chris',16,40000,'us','sales'),\n",
    "(None,None,None,None,None,None),\n",
    "(7,'adam',37,65000,'us','IT')\n",
    "]\n",
    "\n",
    "sch1 = ['id', 'name', 'age', 'salary', 'country', 'dept']\n",
    "\n",
    "dept_df = spark.createDataFrame(data=emp_d, schema=sch1)\n",
    "dept_df.show()"
   ]
  },
  {
   "cell_type": "code",
   "execution_count": 0,
   "metadata": {
    "application/vnd.databricks.v1+cell": {
     "cellMetadata": {
      "byteLimit": 2048000,
      "rowLimit": 10000
     },
     "inputWidgets": {},
     "nuid": "76c2d14d-d8a0-42ce-8add-b79b84328ee1",
     "showTitle": false,
     "tableResultSettingsMap": {},
     "title": ""
    }
   },
   "outputs": [
    {
     "output_type": "stream",
     "name": "stdout",
     "output_type": "stream",
     "text": [
      "Out[94]: 10"
     ]
    }
   ],
   "source": [
    "dept_df.select('*').count()"
   ]
  },
  {
   "cell_type": "code",
   "execution_count": 0,
   "metadata": {
    "application/vnd.databricks.v1+cell": {
     "cellMetadata": {
      "byteLimit": 2048000,
      "rowLimit": 10000
     },
     "inputWidgets": {},
     "nuid": "9d0171d9-95c2-4ddb-a81a-fb16895c12a0",
     "showTitle": false,
     "tableResultSettingsMap": {},
     "title": ""
    }
   },
   "outputs": [
    {
     "output_type": "stream",
     "name": "stdout",
     "output_type": "stream",
     "text": [
      "+-----------+\n|count(name)|\n+-----------+\n|          8|\n+-----------+\n\n"
     ]
    }
   ],
   "source": [
    "dept_df.select(count('name')).show()               # null excluded"
   ]
  },
  {
   "cell_type": "code",
   "execution_count": 0,
   "metadata": {
    "application/vnd.databricks.v1+cell": {
     "cellMetadata": {
      "byteLimit": 2048000,
      "rowLimit": 10000
     },
     "inputWidgets": {},
     "nuid": "30ea8ad2-f9a6-4ca8-a0d7-053cbd93c755",
     "showTitle": false,
     "tableResultSettingsMap": {},
     "title": ""
    }
   },
   "outputs": [
    {
     "output_type": "stream",
     "name": "stdout",
     "output_type": "stream",
     "text": [
      "+-------------+------------------------+-----+--------+\n|count(salary)|CAST(avg(salary) AS INT)|f_age|sum(age)|\n+-------------+------------------------+-----+--------+\n|            8|                   70000| 12.0|     236|\n+-------------+------------------------+-----+--------+\n\n"
     ]
    }
   ],
   "source": [
    "dept_df.select(count('salary'), avg('salary').cast('integer'), min('age').cast('float').alias('f_age'), sum('age')).show()"
   ]
  },
  {
   "cell_type": "code",
   "execution_count": 0,
   "metadata": {
    "application/vnd.databricks.v1+cell": {
     "cellMetadata": {
      "byteLimit": 2048000,
      "rowLimit": 10000
     },
     "inputWidgets": {},
     "nuid": "bdcdea15-39e2-4760-98c0-2a2b16236e17",
     "showTitle": false,
     "tableResultSettingsMap": {},
     "title": ""
    }
   },
   "outputs": [
    {
     "output_type": "stream",
     "name": "stdout",
     "output_type": "stream",
     "text": [
      "+-------+-------+\n|max_age|sum_age|\n+-------+-------+\n|     44|    236|\n+-------+-------+\n\n"
     ]
    }
   ],
   "source": [
    "dept_df.select(max('age').alias('max_age'), sum('age').alias('sum_age')).show()"
   ]
  },
  {
   "cell_type": "code",
   "execution_count": 0,
   "metadata": {
    "application/vnd.databricks.v1+cell": {
     "cellMetadata": {
      "byteLimit": 2048000,
      "rowLimit": 10000
     },
     "inputWidgets": {},
     "nuid": "c929f00d-df6f-4499-aed2-baad8fe7de6d",
     "showTitle": false,
     "tableResultSettingsMap": {},
     "title": ""
    }
   },
   "outputs": [
    {
     "output_type": "stream",
     "name": "stdout",
     "output_type": "stream",
     "text": [
      "+-----------+-----------+\n|       dept|sum(salary)|\n+-----------+-----------+\n|         IT|     350000|\n|engineering|      40000|\n|      sales|     170000|\n|       null|       null|\n+-----------+-----------+\n\n"
     ]
    }
   ],
   "source": [
    "dept_df.groupBy('dept').sum('salary').show()     # or => dept_df.groupBy('dept').agg(sum('salary')).show()"
   ]
  },
  {
   "cell_type": "code",
   "execution_count": 0,
   "metadata": {
    "application/vnd.databricks.v1+cell": {
     "cellMetadata": {
      "byteLimit": 2048000,
      "rowLimit": 10000
     },
     "inputWidgets": {},
     "nuid": "e8f6f8b8-eb0d-494e-8870-27c5d5533e60",
     "showTitle": false,
     "tableResultSettingsMap": {},
     "title": ""
    }
   },
   "outputs": [
    {
     "output_type": "stream",
     "name": "stdout",
     "output_type": "stream",
     "text": [
      "+---+-------+----+------+-------+-----------+\n| id|   name| age|salary|country|       dept|\n+---+-------+----+------+-------+-----------+\n|  1| manish|  26| 20000|  india|         IT|\n|  2|  rahul|null| 40000|germany|engineering|\n|  3|  pawan|  12| 60000|  india|      sales|\n|  4|roshini|  44|  null|     uk|engineering|\n|  5|raushan|  35| 70000|  india|      sales|\n+---+-------+----+------+-------+-----------+\nonly showing top 5 rows\n\n"
     ]
    }
   ],
   "source": [
    "dept_df.show(5)"
   ]
  },
  {
   "cell_type": "code",
   "execution_count": 0,
   "metadata": {
    "application/vnd.databricks.v1+cell": {
     "cellMetadata": {
      "byteLimit": 2048000,
      "rowLimit": 10000
     },
     "inputWidgets": {},
     "nuid": "27f2e99c-044f-406e-ba87-acec2ab5cb3e",
     "showTitle": false,
     "tableResultSettingsMap": {},
     "title": ""
    }
   },
   "outputs": [
    {
     "output_type": "stream",
     "name": "stdout",
     "output_type": "stream",
     "text": [
      "+----+-------+---+------+-------+-----------+---------+\n|  id|   name|age|salary|country|       dept|    adult|\n+----+-------+---+------+-------+-----------+---------+\n|   1| manish| 26| 20000|  india|         IT|mid_level|\n|   2|  rahul| 50| 40000|germany|engineering|    major|\n|   3|  pawan| 12| 60000|  india|      sales|    minor|\n|   4|roshini| 44|  null|     uk|engineering|    major|\n|   5|raushan| 35| 70000|  india|      sales|    major|\n|   6|   null| 29|200000|     uk|         IT|mid_level|\n|   7|   adam| 37| 65000|     us|         IT|    major|\n|   8|  chris| 16| 40000|     us|      sales|    minor|\n|null|   null| 50|  null|   null|       null|    major|\n|   7|   adam| 37| 65000|     us|         IT|    major|\n+----+-------+---+------+-------+-----------+---------+\n\n"
     ]
    }
   ],
   "source": [
    "dept_df.withColumn('age', when(col('age').isNull(), lit(50)).otherwise(col('age')))\\\n",
    "    .withColumn('adult', when(col('age')<18, 'minor')\n",
    "        .when((col('age')>18) & (col('age')<30), 'mid_level')\n",
    "            .otherwise('major')).show()"
   ]
  },
  {
   "cell_type": "code",
   "execution_count": 0,
   "metadata": {
    "application/vnd.databricks.v1+cell": {
     "cellMetadata": {
      "byteLimit": 2048000,
      "rowLimit": 10000
     },
     "inputWidgets": {},
     "nuid": "fdfc1c75-9f30-4d17-9ac0-91ac948afe15",
     "showTitle": false,
     "tableResultSettingsMap": {},
     "title": ""
    }
   },
   "outputs": [
    {
     "output_type": "stream",
     "name": "stdout",
     "output_type": "stream",
     "text": [
      "+----+------+----+------+-------+----+---------+\n|  id|  name| age|salary|country|dept|first_val|\n+----+------+----+------+-------+----+---------+\n|null|  null|null|  null|   null|null|     null|\n|   1|manish|  26| 20000|  india|  IT|    20000|\n|   6|  null|  29|200000|     uk|  IT|    20000|\n|   7|  adam|  37| 65000|     us|  IT|    20000|\n|   7|  adam|  37| 65000|     us|  IT|    20000|\n+----+------+----+------+-------+----+---------+\nonly showing top 5 rows\n\n"
     ]
    }
   ],
   "source": [
    "window1 = Window.partitionBy('dept')\n",
    "dept_df.withColumn('first_val', first('salary').over(window1)).show(5)"
   ]
  },
  {
   "cell_type": "code",
   "execution_count": 0,
   "metadata": {
    "application/vnd.databricks.v1+cell": {
     "cellMetadata": {
      "byteLimit": 2048000,
      "rowLimit": 10000
     },
     "inputWidgets": {},
     "nuid": "1e4bafc4-b276-4f81-94cd-f6022acedbdb",
     "showTitle": false,
     "tableResultSettingsMap": {},
     "title": ""
    }
   },
   "outputs": [
    {
     "output_type": "stream",
     "name": "stdout",
     "output_type": "stream",
     "text": [
      "+----+-------+----+------+-------+-----------+---------+--------+\n|  id|   name| age|salary|country|       dept|first_val|last_val|\n+----+-------+----+------+-------+-----------+---------+--------+\n|null|   null|null|  null|   null|       null|     null|    null|\n|   1| manish|  26| 20000|  india|         IT|    20000|  200000|\n|   7|   adam|  37| 65000|     us|         IT|    20000|  200000|\n|   7|   adam|  37| 65000|     us|         IT|    20000|  200000|\n|   6|   null|  29|200000|     uk|         IT|    20000|  200000|\n|   4|roshini|  44|  null|     uk|engineering|     null|   40000|\n|   2|  rahul|null| 40000|germany|engineering|     null|   40000|\n|   8|  chris|  16| 40000|     us|      sales|    40000|   70000|\n|   3|  pawan|  12| 60000|  india|      sales|    40000|   70000|\n|   5|raushan|  35| 70000|  india|      sales|    40000|   70000|\n+----+-------+----+------+-------+-----------+---------+--------+\n\n"
     ]
    }
   ],
   "source": [
    "window1 = Window.partitionBy('dept').orderBy('salary').rowsBetween(Window.unboundedPreceding, Window.unboundedFollowing)\n",
    "\n",
    "fl_df = dept_df.withColumn('first_val', first('salary').over(window1))\\\n",
    "    .withColumn('last_val', last('salary').over(window1))\n",
    "fl_df.show()"
   ]
  },
  {
   "cell_type": "code",
   "execution_count": 0,
   "metadata": {
    "application/vnd.databricks.v1+cell": {
     "cellMetadata": {
      "byteLimit": 2048000,
      "rowLimit": 10000
     },
     "inputWidgets": {},
     "nuid": "6ff3380a-7f7f-4d9c-a693-6bc1a1881d47",
     "showTitle": false,
     "tableResultSettingsMap": {},
     "title": ""
    }
   },
   "outputs": [
    {
     "output_type": "stream",
     "name": "stdout",
     "output_type": "stream",
     "text": [
      "+---+-------+----+------+-------+\n| id|   name| age|salary|country|\n+---+-------+----+------+-------+\n|  1| manish|  26| 20000|  india|\n|  2|  rahul|null| 40000|germany|\n|  3|  pawan|  12| 60000|  india|\n|  4|roshini|  44|  null|     uk|\n+---+-------+----+------+-------+\n\n"
     ]
    }
   ],
   "source": [
    "emp_data1 = [\n",
    "(1,'manish',26,20000,'india'),\n",
    "(2,'rahul',None,40000,'germany'),\n",
    "(3,'pawan',12,60000,'india'),\n",
    "(4,'roshini',44,None,'uk')]\n",
    "\n",
    "ss_schema = StructType([\n",
    "    StructField('id', IntegerType(), True),\n",
    "    StructField('name', StringType(), True),\n",
    "    StructField('age', IntegerType(), True),\n",
    "    StructField('salary', IntegerType(), True),\n",
    "    StructField('country', StringType(), True)\n",
    "])\n",
    "\n",
    "ssdf = spark.createDataFrame(emp_data1, ss_schema)\n",
    "ssdf.show()"
   ]
  },
  {
   "cell_type": "code",
   "execution_count": 0,
   "metadata": {
    "application/vnd.databricks.v1+cell": {
     "cellMetadata": {
      "byteLimit": 2048000,
      "rowLimit": 10000
     },
     "inputWidgets": {},
     "nuid": "972596ae-64e2-4fd6-955b-c5860dafcd37",
     "showTitle": false,
     "tableResultSettingsMap": {},
     "title": ""
    }
   },
   "outputs": [
    {
     "output_type": "stream",
     "name": "stdout",
     "output_type": "stream",
     "text": [
      "+--------+----+-----+\n|category|year|sales|\n+--------+----+-----+\n|       A|2022|  100|\n|       A|2023|  150|\n|       B|2022|   80|\n|       B|2023|  120|\n+--------+----+-----+\n\n+--------+----+----+\n|category|2022|2023|\n+--------+----+----+\n|       B|  80| 120|\n|       A| 100| 150|\n+--------+----+----+\n\n"
     ]
    }
   ],
   "source": [
    "data = [(\"A\", \"2022\", 100),\n",
    "    (\"A\", \"2023\", 150),\n",
    "    (\"B\", \"2022\", 80),\n",
    "    (\"B\", \"2023\", 120)]\n",
    "\n",
    "df = spark.createDataFrame(data, [\"category\", \"year\", \"sales\"])\n",
    "df.show()\n",
    "pivot_df = df.groupBy(\"category\").pivot(\"year\").sum(\"sales\")\n",
    "pivot_df.show()"
   ]
  },
  {
   "cell_type": "code",
   "execution_count": 0,
   "metadata": {
    "application/vnd.databricks.v1+cell": {
     "cellMetadata": {
      "byteLimit": 2048000,
      "rowLimit": 10000
     },
     "inputWidgets": {},
     "nuid": "9bab8d7c-4a67-48fd-81e8-7ade47aa6244",
     "showTitle": false,
     "tableResultSettingsMap": {},
     "title": ""
    }
   },
   "outputs": [
    {
     "output_type": "stream",
     "name": "stdout",
     "output_type": "stream",
     "text": [
      "+---+----------+\n| id|      date|\n+---+----------+\n|  1|2024-05-10|\n|  2|2024-06-15|\n|  3|2024-07-01|\n+---+----------+\n\n"
     ]
    }
   ],
   "source": [
    "data_1 = [(1, '2024-05-10'),\n",
    "(2, '2024-06-15'),\n",
    "(3, '2024-07-01')]\n",
    "\n",
    "dtdf = spark.createDataFrame(data_1, ['id', 'date'])\n",
    "dtdf.show()"
   ]
  },
  {
   "cell_type": "code",
   "execution_count": 0,
   "metadata": {
    "application/vnd.databricks.v1+cell": {
     "cellMetadata": {
      "byteLimit": 2048000,
      "rowLimit": 10000
     },
     "inputWidgets": {},
     "nuid": "86992865-39d4-42f5-8ac3-e1a8974a5fe6",
     "showTitle": false,
     "tableResultSettingsMap": {},
     "title": ""
    }
   },
   "outputs": [
    {
     "output_type": "stream",
     "name": "stdout",
     "output_type": "stream",
     "text": [
      "+---+----------+-------------------+----------+----------+----------+------+-------------+-----------+--------+---------+--------+---+\n| id|      date|           datetime| next4days|    months| back3days|day_no|difffromtoday|months_diff| dayname|MONTHNAME|month_no|det|\n+---+----------+-------------------+----------+----------+----------+------+-------------+-----------+--------+---------+--------+---+\n|  1|2024-05-10|2024-05-10 00:00:00|2024-05-14|2024-07-14|2024-05-07|     6|          355|      11.65|  Friday|      May|      05| 10|\n|  2|2024-06-15|2024-06-15 00:00:00|2024-06-19|2024-08-19|2024-06-12|     7|          319|      10.48|Saturday|     June|      06| 15|\n|  3|2024-07-01|2024-07-01 00:00:00|2024-07-05|2024-09-05|2024-06-28|     2|          303|       9.94|  Monday|     July|      07| 01|\n+---+----------+-------------------+----------+----------+----------+------+-------------+-----------+--------+---------+--------+---+\n\n"
     ]
    }
   ],
   "source": [
    "dtdf.withColumn(\"datetime\", to_timestamp('date', 'yyyy-MM-dd'))\\\n",
    "    .withColumn('next4days', date_add('datetime', 4))\\\n",
    "        .withColumn(\"months\", add_months('next4days', 2))\\\n",
    "            .withColumn(\"back3days\", date_sub('datetime', 3))\\\n",
    "                .withColumn('day_no', dayofweek('datetime'))\\\n",
    "                    .withColumn('difffromtoday', datediff(current_date(), 'date'))\\\n",
    "                        .withColumn('months_diff', round(months_between(current_date(), 'date'), 2))\\\n",
    "                            .withColumn('dayname', date_format('date', 'EEEE'))\\\n",
    "                                .withColumn('MONTHNAME', date_format('date', 'MMMM'))\\\n",
    "                                    .withColumn('month_no', date_format('date', 'MM'))\\\n",
    "                                        .withColumn('det', date_format('date', 'dd'))\\\n",
    "                                            .show()\n",
    "                                            # .withColumn('year', date_format('date', 'yyyy'))\\          "
   ]
  },
  {
   "cell_type": "code",
   "execution_count": 0,
   "metadata": {
    "application/vnd.databricks.v1+cell": {
     "cellMetadata": {
      "byteLimit": 2048000,
      "rowLimit": 10000
     },
     "inputWidgets": {},
     "nuid": "80615405-a6f3-4819-95aa-6a6087a33f31",
     "showTitle": false,
     "tableResultSettingsMap": {},
     "title": ""
    }
   },
   "outputs": [
    {
     "output_type": "stream",
     "name": "stdout",
     "output_type": "stream",
     "text": [
      "+---+------+----------+-----+-------------------+\n| id|  name|      date| time|          timestamp|\n+---+------+----------+-----+-------------------+\n|  1|manish|11-07-2023|10:20|2023-07-11 10:20:00|\n|  1|manish|11-07-2023|11:20|2023-07-11 11:20:00|\n|  2|rajesh|11-07-2023|11:20|2023-07-11 11:20:00|\n|  1|manish|11-07-2023|11:50|2023-07-11 11:50:00|\n|  2|rajesh|11-07-2023|13:20|2023-07-11 13:20:00|\n+---+------+----------+-----+-------------------+\nonly showing top 5 rows\n\n"
     ]
    }
   ],
   "source": [
    "emp_data = [(1,\"manish\",\"11-07-2023\",\"10:20\"),\n",
    "        (1,\"manish\",\"11-07-2023\",\"11:20\"),\n",
    "        (2,\"rajesh\",\"11-07-2023\",\"11:20\"),\n",
    "        (1,\"manish\",\"11-07-2023\",\"11:50\"),\n",
    "        (2,\"rajesh\",\"11-07-2023\",\"13:20\"),\n",
    "        (1,\"manish\",\"11-07-2023\",\"19:20\"),\n",
    "        (2,\"rajesh\",\"11-07-2023\",\"17:20\"),\n",
    "        (1,\"manish\",\"12-07-2023\",\"10:32\"),\n",
    "        (1,\"manish\",\"12-07-2023\",\"12:20\"),\n",
    "        (3,\"vikash\",\"12-07-2023\",\"09:12\"),\n",
    "        (1,\"manish\",\"12-07-2023\",\"16:23\"),\n",
    "        (3,\"vikash\",\"12-07-2023\",\"18:08\")]\n",
    "\n",
    "emp_schema = [\"id\", \"name\", \"date\", \"time\"]\n",
    "dt_df = spark.createDataFrame(data=emp_data, schema=emp_schema)\n",
    "\n",
    "d1 = dt_df.withColumn('timestamp', from_unixtime(unix_timestamp(expr('concat(date, \" \", time)'), 'dd-MM-yyyy HH:mm')))\n",
    "d1.show(5)"
   ]
  },
  {
   "cell_type": "code",
   "execution_count": 0,
   "metadata": {
    "application/vnd.databricks.v1+cell": {
     "cellMetadata": {
      "byteLimit": 2048000,
      "rowLimit": 10000
     },
     "inputWidgets": {},
     "nuid": "4006bb0a-2e10-45d6-b394-068a0d45e7ad",
     "showTitle": false,
     "tableResultSettingsMap": {},
     "title": ""
    }
   },
   "outputs": [
    {
     "output_type": "stream",
     "name": "stdout",
     "output_type": "stream",
     "text": [
      "+---+------+-----+\n| id|  Name|Value|\n+---+------+-----+\n|  0|User_0|    0|\n|  1|User_1|   10|\n|  2|User_2|   20|\n|  3|User_3|   30|\n|  4|User_4|   40|\n+---+------+-----+\nonly showing top 5 rows\n\n"
     ]
    },
    {
     "output_type": "display_data",
     "data": {
      "text/html": [
       "<style scoped>\n",
       "  .table-result-container {\n",
       "    max-height: 300px;\n",
       "    overflow: auto;\n",
       "  }\n",
       "  table, th, td {\n",
       "    border: 1px solid black;\n",
       "    border-collapse: collapse;\n",
       "  }\n",
       "  th, td {\n",
       "    padding: 5px;\n",
       "  }\n",
       "  th {\n",
       "    text-align: left;\n",
       "  }\n",
       "</style><div class='table-result-container'><table class='table-result'><thead style='background-color: white'><tr><th>path</th><th>name</th><th>size</th><th>modificationTime</th></tr></thead><tbody><tr><td>dbfs:/FileStore/tables/large_csv/_committed_2822074481379389151</td><td>_committed_2822074481379389151</td><td>1463</td><td>1746012521000</td></tr><tr><td>dbfs:/FileStore/tables/large_csv/_committed_3501629668587049354</td><td>_committed_3501629668587049354</td><td>1463</td><td>1746013446000</td></tr><tr><td>dbfs:/FileStore/tables/large_csv/_committed_3961489446787236986</td><td>_committed_3961489446787236986</td><td>1463</td><td>1746012744000</td></tr><tr><td>dbfs:/FileStore/tables/large_csv/_committed_4336225920058035292</td><td>_committed_4336225920058035292</td><td>1463</td><td>1746013517000</td></tr><tr><td>dbfs:/FileStore/tables/large_csv/_committed_5005893022092808214</td><td>_committed_5005893022092808214</td><td>1474</td><td>1746011538000</td></tr><tr><td>dbfs:/FileStore/tables/large_csv/_committed_6156657614402819135</td><td>_committed_6156657614402819135</td><td>1463</td><td>1746012401000</td></tr><tr><td>dbfs:/FileStore/tables/large_csv/_committed_6825651536842820972</td><td>_committed_6825651536842820972</td><td>744</td><td>1746009951000</td></tr><tr><td>dbfs:/FileStore/tables/large_csv/_committed_772670762137022899</td><td>_committed_772670762137022899</td><td>1455</td><td>1746013610000</td></tr><tr><td>dbfs:/FileStore/tables/large_csv/_committed_8185455039847280034</td><td>_committed_8185455039847280034</td><td>1463</td><td>1746013580000</td></tr><tr><td>dbfs:/FileStore/tables/large_csv/_committed_8354869218294077964</td><td>_committed_8354869218294077964</td><td>1463</td><td>1746013411000</td></tr><tr><td>dbfs:/FileStore/tables/large_csv/_committed_8873835594012947259</td><td>_committed_8873835594012947259</td><td>1463</td><td>1746013212000</td></tr><tr><td>dbfs:/FileStore/tables/large_csv/_committed_vacuum2629400278556571250</td><td>_committed_vacuum2629400278556571250</td><td>96</td><td>1746012401000</td></tr><tr><td>dbfs:/FileStore/tables/large_csv/_started_2822074481379389151</td><td>_started_2822074481379389151</td><td>0</td><td>1746012519000</td></tr><tr><td>dbfs:/FileStore/tables/large_csv/_started_3501629668587049354</td><td>_started_3501629668587049354</td><td>0</td><td>1746013443000</td></tr><tr><td>dbfs:/FileStore/tables/large_csv/_started_3961489446787236986</td><td>_started_3961489446787236986</td><td>0</td><td>1746012741000</td></tr><tr><td>dbfs:/FileStore/tables/large_csv/_started_4336225920058035292</td><td>_started_4336225920058035292</td><td>0</td><td>1746013515000</td></tr><tr><td>dbfs:/FileStore/tables/large_csv/_started_6156657614402819135</td><td>_started_6156657614402819135</td><td>0</td><td>1746012398000</td></tr><tr><td>dbfs:/FileStore/tables/large_csv/_started_772670762137022899</td><td>_started_772670762137022899</td><td>0</td><td>1746013608000</td></tr><tr><td>dbfs:/FileStore/tables/large_csv/_started_8185455039847280034</td><td>_started_8185455039847280034</td><td>0</td><td>1746013577000</td></tr><tr><td>dbfs:/FileStore/tables/large_csv/_started_8354869218294077964</td><td>_started_8354869218294077964</td><td>0</td><td>1746013408000</td></tr><tr><td>dbfs:/FileStore/tables/large_csv/_started_8873835594012947259</td><td>_started_8873835594012947259</td><td>0</td><td>1746013210000</td></tr><tr><td>dbfs:/FileStore/tables/large_csv/part-00000-tid-772670762137022899-e4d96dd8-24ee-4dc6-89f8-0dfcae45bdb4-1460-1-c000.csv</td><td>part-00000-tid-772670762137022899-e4d96dd8-24ee-4dc6-89f8-0dfcae45bdb4-1460-1-c000.csv</td><td>3041683</td><td>1746013610000</td></tr><tr><td>dbfs:/FileStore/tables/large_csv/part-00001-tid-772670762137022899-e4d96dd8-24ee-4dc6-89f8-0dfcae45bdb4-1461-1-c000.csv</td><td>part-00001-tid-772670762137022899-e4d96dd8-24ee-4dc6-89f8-0dfcae45bdb4-1461-1-c000.csv</td><td>3375014</td><td>1746013610000</td></tr><tr><td>dbfs:/FileStore/tables/large_csv/part-00002-tid-772670762137022899-e4d96dd8-24ee-4dc6-89f8-0dfcae45bdb4-1462-1-c000.csv</td><td>part-00002-tid-772670762137022899-e4d96dd8-24ee-4dc6-89f8-0dfcae45bdb4-1462-1-c000.csv</td><td>3375014</td><td>1746013610000</td></tr><tr><td>dbfs:/FileStore/tables/large_csv/part-00003-tid-772670762137022899-e4d96dd8-24ee-4dc6-89f8-0dfcae45bdb4-1463-1-c000.csv</td><td>part-00003-tid-772670762137022899-e4d96dd8-24ee-4dc6-89f8-0dfcae45bdb4-1463-1-c000.csv</td><td>3375014</td><td>1746013610000</td></tr><tr><td>dbfs:/FileStore/tables/large_csv/part-00004-tid-772670762137022899-e4d96dd8-24ee-4dc6-89f8-0dfcae45bdb4-1464-1-c000.csv</td><td>part-00004-tid-772670762137022899-e4d96dd8-24ee-4dc6-89f8-0dfcae45bdb4-1464-1-c000.csv</td><td>3375014</td><td>1746013610000</td></tr><tr><td>dbfs:/FileStore/tables/large_csv/part-00005-tid-772670762137022899-e4d96dd8-24ee-4dc6-89f8-0dfcae45bdb4-1465-1-c000.csv</td><td>part-00005-tid-772670762137022899-e4d96dd8-24ee-4dc6-89f8-0dfcae45bdb4-1465-1-c000.csv</td><td>3375014</td><td>1746013610000</td></tr><tr><td>dbfs:/FileStore/tables/large_csv/part-00006-tid-772670762137022899-e4d96dd8-24ee-4dc6-89f8-0dfcae45bdb4-1466-1-c000.csv</td><td>part-00006-tid-772670762137022899-e4d96dd8-24ee-4dc6-89f8-0dfcae45bdb4-1466-1-c000.csv</td><td>3375014</td><td>1746013610000</td></tr><tr><td>dbfs:/FileStore/tables/large_csv/part-00007-tid-772670762137022899-e4d96dd8-24ee-4dc6-89f8-0dfcae45bdb4-1467-1-c000.csv</td><td>part-00007-tid-772670762137022899-e4d96dd8-24ee-4dc6-89f8-0dfcae45bdb4-1467-1-c000.csv</td><td>3375014</td><td>1746013610000</td></tr></tbody></table></div>"
      ]
     },
     "metadata": {
      "application/vnd.databricks.v1+output": {
       "addedWidgets": {},
       "aggData": [],
       "aggError": "",
       "aggOverflow": false,
       "aggSchema": [],
       "aggSeriesLimitReached": false,
       "aggType": "",
       "arguments": {},
       "columnCustomDisplayInfos": {},
       "data": [
        [
         "dbfs:/FileStore/tables/large_csv/_committed_2822074481379389151",
         "_committed_2822074481379389151",
         1463,
         1746012521000
        ],
        [
         "dbfs:/FileStore/tables/large_csv/_committed_3501629668587049354",
         "_committed_3501629668587049354",
         1463,
         1746013446000
        ],
        [
         "dbfs:/FileStore/tables/large_csv/_committed_3961489446787236986",
         "_committed_3961489446787236986",
         1463,
         1746012744000
        ],
        [
         "dbfs:/FileStore/tables/large_csv/_committed_4336225920058035292",
         "_committed_4336225920058035292",
         1463,
         1746013517000
        ],
        [
         "dbfs:/FileStore/tables/large_csv/_committed_5005893022092808214",
         "_committed_5005893022092808214",
         1474,
         1746011538000
        ],
        [
         "dbfs:/FileStore/tables/large_csv/_committed_6156657614402819135",
         "_committed_6156657614402819135",
         1463,
         1746012401000
        ],
        [
         "dbfs:/FileStore/tables/large_csv/_committed_6825651536842820972",
         "_committed_6825651536842820972",
         744,
         1746009951000
        ],
        [
         "dbfs:/FileStore/tables/large_csv/_committed_772670762137022899",
         "_committed_772670762137022899",
         1455,
         1746013610000
        ],
        [
         "dbfs:/FileStore/tables/large_csv/_committed_8185455039847280034",
         "_committed_8185455039847280034",
         1463,
         1746013580000
        ],
        [
         "dbfs:/FileStore/tables/large_csv/_committed_8354869218294077964",
         "_committed_8354869218294077964",
         1463,
         1746013411000
        ],
        [
         "dbfs:/FileStore/tables/large_csv/_committed_8873835594012947259",
         "_committed_8873835594012947259",
         1463,
         1746013212000
        ],
        [
         "dbfs:/FileStore/tables/large_csv/_committed_vacuum2629400278556571250",
         "_committed_vacuum2629400278556571250",
         96,
         1746012401000
        ],
        [
         "dbfs:/FileStore/tables/large_csv/_started_2822074481379389151",
         "_started_2822074481379389151",
         0,
         1746012519000
        ],
        [
         "dbfs:/FileStore/tables/large_csv/_started_3501629668587049354",
         "_started_3501629668587049354",
         0,
         1746013443000
        ],
        [
         "dbfs:/FileStore/tables/large_csv/_started_3961489446787236986",
         "_started_3961489446787236986",
         0,
         1746012741000
        ],
        [
         "dbfs:/FileStore/tables/large_csv/_started_4336225920058035292",
         "_started_4336225920058035292",
         0,
         1746013515000
        ],
        [
         "dbfs:/FileStore/tables/large_csv/_started_6156657614402819135",
         "_started_6156657614402819135",
         0,
         1746012398000
        ],
        [
         "dbfs:/FileStore/tables/large_csv/_started_772670762137022899",
         "_started_772670762137022899",
         0,
         1746013608000
        ],
        [
         "dbfs:/FileStore/tables/large_csv/_started_8185455039847280034",
         "_started_8185455039847280034",
         0,
         1746013577000
        ],
        [
         "dbfs:/FileStore/tables/large_csv/_started_8354869218294077964",
         "_started_8354869218294077964",
         0,
         1746013408000
        ],
        [
         "dbfs:/FileStore/tables/large_csv/_started_8873835594012947259",
         "_started_8873835594012947259",
         0,
         1746013210000
        ],
        [
         "dbfs:/FileStore/tables/large_csv/part-00000-tid-772670762137022899-e4d96dd8-24ee-4dc6-89f8-0dfcae45bdb4-1460-1-c000.csv",
         "part-00000-tid-772670762137022899-e4d96dd8-24ee-4dc6-89f8-0dfcae45bdb4-1460-1-c000.csv",
         3041683,
         1746013610000
        ],
        [
         "dbfs:/FileStore/tables/large_csv/part-00001-tid-772670762137022899-e4d96dd8-24ee-4dc6-89f8-0dfcae45bdb4-1461-1-c000.csv",
         "part-00001-tid-772670762137022899-e4d96dd8-24ee-4dc6-89f8-0dfcae45bdb4-1461-1-c000.csv",
         3375014,
         1746013610000
        ],
        [
         "dbfs:/FileStore/tables/large_csv/part-00002-tid-772670762137022899-e4d96dd8-24ee-4dc6-89f8-0dfcae45bdb4-1462-1-c000.csv",
         "part-00002-tid-772670762137022899-e4d96dd8-24ee-4dc6-89f8-0dfcae45bdb4-1462-1-c000.csv",
         3375014,
         1746013610000
        ],
        [
         "dbfs:/FileStore/tables/large_csv/part-00003-tid-772670762137022899-e4d96dd8-24ee-4dc6-89f8-0dfcae45bdb4-1463-1-c000.csv",
         "part-00003-tid-772670762137022899-e4d96dd8-24ee-4dc6-89f8-0dfcae45bdb4-1463-1-c000.csv",
         3375014,
         1746013610000
        ],
        [
         "dbfs:/FileStore/tables/large_csv/part-00004-tid-772670762137022899-e4d96dd8-24ee-4dc6-89f8-0dfcae45bdb4-1464-1-c000.csv",
         "part-00004-tid-772670762137022899-e4d96dd8-24ee-4dc6-89f8-0dfcae45bdb4-1464-1-c000.csv",
         3375014,
         1746013610000
        ],
        [
         "dbfs:/FileStore/tables/large_csv/part-00005-tid-772670762137022899-e4d96dd8-24ee-4dc6-89f8-0dfcae45bdb4-1465-1-c000.csv",
         "part-00005-tid-772670762137022899-e4d96dd8-24ee-4dc6-89f8-0dfcae45bdb4-1465-1-c000.csv",
         3375014,
         1746013610000
        ],
        [
         "dbfs:/FileStore/tables/large_csv/part-00006-tid-772670762137022899-e4d96dd8-24ee-4dc6-89f8-0dfcae45bdb4-1466-1-c000.csv",
         "part-00006-tid-772670762137022899-e4d96dd8-24ee-4dc6-89f8-0dfcae45bdb4-1466-1-c000.csv",
         3375014,
         1746013610000
        ],
        [
         "dbfs:/FileStore/tables/large_csv/part-00007-tid-772670762137022899-e4d96dd8-24ee-4dc6-89f8-0dfcae45bdb4-1467-1-c000.csv",
         "part-00007-tid-772670762137022899-e4d96dd8-24ee-4dc6-89f8-0dfcae45bdb4-1467-1-c000.csv",
         3375014,
         1746013610000
        ]
       ],
       "datasetInfos": [],
       "dbfsResultPath": null,
       "isJsonSchema": true,
       "metadata": {
        "isDbfsCommandResult": false
       },
       "overflow": false,
       "plotOptions": {
        "customPlotOptions": {},
        "displayType": "table",
        "pivotAggregation": null,
        "pivotColumns": null,
        "xColumns": null,
        "yColumns": null
       },
       "removedWidgets": [],
       "schema": [
        {
         "metadata": "{}",
         "name": "path",
         "type": "\"string\""
        },
        {
         "metadata": "{}",
         "name": "name",
         "type": "\"string\""
        },
        {
         "metadata": "{}",
         "name": "size",
         "type": "\"long\""
        },
        {
         "metadata": "{}",
         "name": "modificationTime",
         "type": "\"long\""
        }
       ],
       "type": "table"
      }
     },
     "output_type": "display_data"
    }
   ],
   "source": [
    "%run /Users/gpc1194@gmail.com/write_file"
   ]
  },
  {
   "cell_type": "code",
   "execution_count": 0,
   "metadata": {
    "application/vnd.databricks.v1+cell": {
     "cellMetadata": {
      "byteLimit": 2048000,
      "rowLimit": 10000
     },
     "inputWidgets": {},
     "nuid": "ffccd23d-892d-482c-beba-6dfa7dc11cb9",
     "showTitle": false,
     "tableResultSettingsMap": {},
     "title": ""
    }
   },
   "outputs": [
    {
     "output_type": "stream",
     "name": "stdout",
     "output_type": "stream",
     "text": [
      "Hello World\n42\n"
     ]
    }
   ],
   "source": [
    "fun1() \n",
    "print(var1) "
   ]
  },
  {
   "cell_type": "code",
   "execution_count": 0,
   "metadata": {
    "application/vnd.databricks.v1+cell": {
     "cellMetadata": {
      "byteLimit": 2048000,
      "rowLimit": 10000
     },
     "inputWidgets": {},
     "nuid": "8b9d907e-3e8a-4fdc-9fe1-1fd479ef93c5",
     "showTitle": false,
     "tableResultSettingsMap": {},
     "title": ""
    }
   },
   "outputs": [
    {
     "output_type": "stream",
     "name": "stdout",
     "output_type": "stream",
     "text": [
      "root\n |-- id: long (nullable = false)\n |-- Name: string (nullable = false)\n |-- Value: long (nullable = false)\n\n+---+------+-----+\n| id|  Name|Value|\n+---+------+-----+\n|  0|User_0|    0|\n|  1|User_1|   10|\n|  2|User_2|   20|\n|  3|User_3|   30|\n|  4|User_4|   40|\n|  5|User_5|   50|\n+---+------+-----+\nonly showing top 6 rows\n\n"
     ]
    }
   ],
   "source": [
    "large_df.printSchema()\n",
    "large_df.show(6)"
   ]
  }
 ],
 "metadata": {
  "application/vnd.databricks.v1+notebook": {
   "computePreferences": null,
   "dashboards": [],
   "environmentMetadata": {
    "base_environment": "",
    "environment_version": "1"
   },
   "inputWidgetPreferences": null,
   "language": "python",
   "notebookMetadata": {
    "mostRecentlyExecutedCommandWithImplicitDF": {
     "commandId": 3459092530643583,
     "dataframes": [
      "_sqldf"
     ]
    },
    "pythonIndentUnit": 4
   },
   "notebookName": "summary_pyspark",
   "widgets": {}
  },
  "kernelspec": {
   "display_name": "Python 3 (ipykernel)",
   "language": "python",
   "name": "python3"
  },
  "language_info": {
   "codemirror_mode": {
    "name": "ipython",
    "version": 3
   },
   "file_extension": ".py",
   "mimetype": "text/x-python",
   "name": "python",
   "nbconvert_exporter": "python",
   "pygments_lexer": "ipython3",
   "version": "3.8.10"
  }
 },
 "nbformat": 4,
 "nbformat_minor": 0
}