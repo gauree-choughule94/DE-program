{
 "cells": [
  {
   "cell_type": "code",
   "execution_count": 0,
   "metadata": {
    "application/vnd.databricks.v1+cell": {
     "cellMetadata": {
      "byteLimit": 2048000,
      "rowLimit": 10000
     },
     "inputWidgets": {},
     "nuid": "97001161-4f3c-4487-a626-6fce6b112c71",
     "showTitle": false,
     "tableResultSettingsMap": {},
     "title": ""
    }
   },
   "outputs": [
    {
     "output_type": "stream",
     "name": "stdout",
     "output_type": "stream",
     "text": [
      "root\n |-- DEST_COUNTRY_NAME: string (nullable = true)\n |-- ORIGIN_COUNTRY_NAME: string (nullable = true)\n |-- count: integer (nullable = true)\n\n"
     ]
    }
   ],
   "source": [
    "read_csv_data = spark.read.format('csv')\\\n",
    "    .option('header', 'true')\\\n",
    "        .option('inferSchema', 'true')\\\n",
    "            .option('mode', 'permissive')\\\n",
    "                .load('/FileStore/tables/flight_data.csv')\n",
    "\n",
    "read_csv_data.printSchema()"
   ]
  },
  {
   "cell_type": "code",
   "execution_count": 0,
   "metadata": {
    "application/vnd.databricks.v1+cell": {
     "cellMetadata": {
      "byteLimit": 2048000,
      "rowLimit": 10000
     },
     "inputWidgets": {},
     "nuid": "eb53358b-a9b3-48d8-8e8c-2a399408ef28",
     "showTitle": false,
     "tableResultSettingsMap": {},
     "title": ""
    }
   },
   "outputs": [
    {
     "output_type": "display_data",
     "data": {
      "text/html": [
       "<style scoped>\n",
       "  .table-result-container {\n",
       "    max-height: 300px;\n",
       "    overflow: auto;\n",
       "  }\n",
       "  table, th, td {\n",
       "    border: 1px solid black;\n",
       "    border-collapse: collapse;\n",
       "  }\n",
       "  th, td {\n",
       "    padding: 5px;\n",
       "  }\n",
       "  th {\n",
       "    text-align: left;\n",
       "  }\n",
       "</style><div class='table-result-container'><table class='table-result'><thead style='background-color: white'><tr><th>path</th><th>name</th><th>size</th><th>modificationTime</th></tr></thead><tbody><tr><td>dbfs:/FileStore/tables/corrupted_json.json</td><td>corrupted_json.json</td><td>214</td><td>1745986381000</td></tr><tr><td>dbfs:/FileStore/tables/disk_part.csv</td><td>disk_part.csv</td><td>429</td><td>1745986381000</td></tr><tr><td>dbfs:/FileStore/tables/employee.csv</td><td>employee.csv</td><td>225</td><td>1745986369000</td></tr><tr><td>dbfs:/FileStore/tables/flight_data.csv</td><td>flight_data.csv</td><td>7120</td><td>1745986369000</td></tr><tr><td>dbfs:/FileStore/tables/line_deli_extra_fields.json</td><td>line_deli_extra_fields.json</td><td>228</td><td>1745986382000</td></tr><tr><td>dbfs:/FileStore/tables/line_delimited_json.json</td><td>line_delimited_json.json</td><td>215</td><td>1745986382000</td></tr><tr><td>dbfs:/FileStore/tables/multi_line_incorrect.json</td><td>multi_line_incorrect.json</td><td>328</td><td>1745986382000</td></tr><tr><td>dbfs:/FileStore/tables/multiline_correct.json</td><td>multiline_correct.json</td><td>388</td><td>1745986382000</td></tr><tr><td>dbfs:/FileStore/tables/resturant_json_data.json</td><td>resturant_json_data.json</td><td>669503</td><td>1745986404000</td></tr></tbody></table></div>"
      ]
     },
     "metadata": {
      "application/vnd.databricks.v1+output": {
       "addedWidgets": {},
       "aggData": [],
       "aggError": "",
       "aggOverflow": false,
       "aggSchema": [],
       "aggSeriesLimitReached": false,
       "aggType": "",
       "arguments": {},
       "columnCustomDisplayInfos": {},
       "data": [
        [
         "dbfs:/FileStore/tables/corrupted_json.json",
         "corrupted_json.json",
         214,
         1745986381000
        ],
        [
         "dbfs:/FileStore/tables/disk_part.csv",
         "disk_part.csv",
         429,
         1745986381000
        ],
        [
         "dbfs:/FileStore/tables/employee.csv",
         "employee.csv",
         225,
         1745986369000
        ],
        [
         "dbfs:/FileStore/tables/flight_data.csv",
         "flight_data.csv",
         7120,
         1745986369000
        ],
        [
         "dbfs:/FileStore/tables/line_deli_extra_fields.json",
         "line_deli_extra_fields.json",
         228,
         1745986382000
        ],
        [
         "dbfs:/FileStore/tables/line_delimited_json.json",
         "line_delimited_json.json",
         215,
         1745986382000
        ],
        [
         "dbfs:/FileStore/tables/multi_line_incorrect.json",
         "multi_line_incorrect.json",
         328,
         1745986382000
        ],
        [
         "dbfs:/FileStore/tables/multiline_correct.json",
         "multiline_correct.json",
         388,
         1745986382000
        ],
        [
         "dbfs:/FileStore/tables/resturant_json_data.json",
         "resturant_json_data.json",
         669503,
         1745986404000
        ]
       ],
       "datasetInfos": [],
       "dbfsResultPath": null,
       "isJsonSchema": true,
       "metadata": {
        "isDbfsCommandResult": false
       },
       "overflow": false,
       "plotOptions": {
        "customPlotOptions": {},
        "displayType": "table",
        "pivotAggregation": null,
        "pivotColumns": null,
        "xColumns": null,
        "yColumns": null
       },
       "removedWidgets": [],
       "schema": [
        {
         "metadata": "{}",
         "name": "path",
         "type": "\"string\""
        },
        {
         "metadata": "{}",
         "name": "name",
         "type": "\"string\""
        },
        {
         "metadata": "{}",
         "name": "size",
         "type": "\"long\""
        },
        {
         "metadata": "{}",
         "name": "modificationTime",
         "type": "\"long\""
        }
       ],
       "type": "table"
      }
     },
     "output_type": "display_data"
    }
   ],
   "source": [
    "%fs\n",
    "ls /FileStore/tables/"
   ]
  },
  {
   "cell_type": "code",
   "execution_count": 0,
   "metadata": {
    "application/vnd.databricks.v1+cell": {
     "cellMetadata": {
      "byteLimit": 2048000,
      "rowLimit": 10000
     },
     "inputWidgets": {},
     "nuid": "95fae9a4-c24a-43d0-b849-fd480d36c2cc",
     "showTitle": false,
     "tableResultSettingsMap": {},
     "title": ""
    }
   },
   "outputs": [
    {
     "output_type": "stream",
     "name": "stdout",
     "output_type": "stream",
     "text": [
      "Out[7]: ['DEST_COUNTRY_NAME', 'ORIGIN_COUNTRY_NAME', 'count']"
     ]
    }
   ],
   "source": [
    "read_csv_data.columns"
   ]
  },
  {
   "cell_type": "code",
   "execution_count": 0,
   "metadata": {
    "application/vnd.databricks.v1+cell": {
     "cellMetadata": {
      "byteLimit": 2048000,
      "rowLimit": 10000
     },
     "inputWidgets": {},
     "nuid": "b090437c-2555-44b4-9041-fdeaa697a536",
     "showTitle": false,
     "tableResultSettingsMap": {},
     "title": ""
    }
   },
   "outputs": [
    {
     "output_type": "stream",
     "name": "stdout",
     "output_type": "stream",
     "text": [
      "+-----------------+-------------------+-----+\n|DEST_COUNTRY_NAME|ORIGIN_COUNTRY_NAME|count|\n+-----------------+-------------------+-----+\n|    United States|            Romania|    1|\n|    United States|            Ireland|  264|\n|    United States|              India|   69|\n|            Egypt|      United States|   24|\n|Equatorial Guinea|      United States|    1|\n|    United States|          Singapore|   25|\n|    United States|            Grenada|   54|\n|       Costa Rica|      United States|  477|\n|          Senegal|      United States|   29|\n|    United States|   Marshall Islands|   44|\n+-----------------+-------------------+-----+\nonly showing top 10 rows\n\n"
     ]
    }
   ],
   "source": [
    "read_csv_data.show(10)"
   ]
  },
  {
   "cell_type": "code",
   "execution_count": 0,
   "metadata": {
    "application/vnd.databricks.v1+cell": {
     "cellMetadata": {
      "byteLimit": 2048000,
      "rowLimit": 10000
     },
     "inputWidgets": {},
     "nuid": "83d93ef8-fed0-4b7f-bc36-6a7cf40f6901",
     "showTitle": false,
     "tableResultSettingsMap": {},
     "title": ""
    }
   },
   "outputs": [
    {
     "output_type": "stream",
     "name": "stdout",
     "output_type": "stream",
     "text": [
      "2025-04-30 04:14:28.061290\n4\nApril\nWednesday\n"
     ]
    }
   ],
   "source": [
    "from datetime import datetime\n",
    "\n",
    "data1 = datetime.now()        # today\n",
    "print(data1)\n",
    "\n",
    "month1 = data1.month\n",
    "print(month1)\n",
    "\n",
    "m1 = data1.strftime('%B')\n",
    "print(m1)\n",
    "\n",
    "day_name = data1.strftime('%A')\n",
    "print(day_name)"
   ]
  },
  {
   "cell_type": "code",
   "execution_count": 0,
   "metadata": {
    "application/vnd.databricks.v1+cell": {
     "cellMetadata": {
      "byteLimit": 2048000,
      "rowLimit": 10000
     },
     "inputWidgets": {},
     "nuid": "28f7a76a-b49f-4dc1-b228-5bad4899c955",
     "showTitle": false,
     "tableResultSettingsMap": {},
     "title": ""
    }
   },
   "outputs": [
    {
     "output_type": "stream",
     "name": "stdout",
     "output_type": "stream",
     "text": [
      "+---+-----------------------+\n|id |current_time           |\n+---+-----------------------+\n|1  |2025-04-30 04:14:28.454|\n+---+-----------------------+\n\n"
     ]
    }
   ],
   "source": [
    "from pyspark.sql.functions import *\n",
    "\n",
    "df = spark.createDataFrame(data=[(1, )], schema=['id']).withColumn('current_time', current_timestamp())\n",
    "df.show(truncate=False)"
   ]
  },
  {
   "cell_type": "code",
   "execution_count": 0,
   "metadata": {
    "application/vnd.databricks.v1+cell": {
     "cellMetadata": {
      "byteLimit": 2048000,
      "rowLimit": 10000
     },
     "inputWidgets": {},
     "nuid": "c18019c8-fabc-48f8-861a-c7ce8881b1ad",
     "showTitle": false,
     "tableResultSettingsMap": {},
     "title": ""
    }
   },
   "outputs": [
    {
     "output_type": "display_data",
     "data": {
      "text/html": [
       "<style scoped>\n",
       "  .table-result-container {\n",
       "    max-height: 300px;\n",
       "    overflow: auto;\n",
       "  }\n",
       "  table, th, td {\n",
       "    border: 1px solid black;\n",
       "    border-collapse: collapse;\n",
       "  }\n",
       "  th, td {\n",
       "    padding: 5px;\n",
       "  }\n",
       "  th {\n",
       "    text-align: left;\n",
       "  }\n",
       "</style><div class='table-result-container'><table class='table-result'><thead style='background-color: white'><tr><th>id</th><th>current_time</th><th>month</th><th>month_name</th><th>day_name</th></tr></thead><tbody><tr><td>1</td><td>2025-04-30T04:14:31.288+0000</td><td>4</td><td>April</td><td>Wednesday</td></tr></tbody></table></div>"
      ]
     },
     "metadata": {
      "application/vnd.databricks.v1+output": {
       "addedWidgets": {},
       "aggData": [],
       "aggError": "",
       "aggOverflow": false,
       "aggSchema": [],
       "aggSeriesLimitReached": false,
       "aggType": "",
       "arguments": {},
       "columnCustomDisplayInfos": {},
       "data": [
        [
         1,
         "2025-04-30T04:14:31.288+0000",
         4,
         "April",
         "Wednesday"
        ]
       ],
       "datasetInfos": [],
       "dbfsResultPath": null,
       "isJsonSchema": true,
       "metadata": {},
       "overflow": false,
       "plotOptions": {
        "customPlotOptions": {},
        "displayType": "table",
        "pivotAggregation": null,
        "pivotColumns": null,
        "xColumns": null,
        "yColumns": null
       },
       "removedWidgets": [],
       "schema": [
        {
         "metadata": "{}",
         "name": "id",
         "type": "\"long\""
        },
        {
         "metadata": "{}",
         "name": "current_time",
         "type": "\"timestamp\""
        },
        {
         "metadata": "{}",
         "name": "month",
         "type": "\"integer\""
        },
        {
         "metadata": "{}",
         "name": "month_name",
         "type": "\"string\""
        },
        {
         "metadata": "{}",
         "name": "day_name",
         "type": "\"string\""
        }
       ],
       "type": "table"
      }
     },
     "output_type": "display_data"
    }
   ],
   "source": [
    "from pyspark.sql.functions import date_format\n",
    "\n",
    "df2 = df.withColumn(\"month\", month(\"current_time\")) \\\n",
    "    .withColumn(\"month_name\", date_format(\"current_time\", \"MMMM\")) \\\n",
    "        .withColumn(\"day_name\", date_format(\"current_time\", \"EEEE\"))\n",
    "\n",
    "display(df2)"
   ]
  },
  {
   "cell_type": "code",
   "execution_count": 0,
   "metadata": {
    "application/vnd.databricks.v1+cell": {
     "cellMetadata": {
      "byteLimit": 2048000,
      "rowLimit": 10000
     },
     "inputWidgets": {},
     "nuid": "0208cc97-e720-496d-b17a-30eae89b4da8",
     "showTitle": false,
     "tableResultSettingsMap": {},
     "title": ""
    }
   },
   "outputs": [
    {
     "output_type": "display_data",
     "data": {
      "text/html": [
       "<style scoped>\n",
       "  .table-result-container {\n",
       "    max-height: 300px;\n",
       "    overflow: auto;\n",
       "  }\n",
       "  table, th, td {\n",
       "    border: 1px solid black;\n",
       "    border-collapse: collapse;\n",
       "  }\n",
       "  th, td {\n",
       "    padding: 5px;\n",
       "  }\n",
       "  th {\n",
       "    text-align: left;\n",
       "  }\n",
       "</style><div class='table-result-container'><table class='table-result'><thead style='background-color: white'><tr><th>id</th><th>today</th><th>month_name</th><th>year</th><th>month</th></tr></thead><tbody><tr><td>1</td><td>2025-04-30</td><td>April</td><td>2025</td><td>4</td></tr></tbody></table></div>"
      ]
     },
     "metadata": {
      "application/vnd.databricks.v1+output": {
       "addedWidgets": {},
       "aggData": [],
       "aggError": "",
       "aggOverflow": false,
       "aggSchema": [],
       "aggSeriesLimitReached": false,
       "aggType": "",
       "arguments": {},
       "columnCustomDisplayInfos": {},
       "data": [
        [
         1,
         "2025-04-30",
         "April",
         2025,
         4
        ]
       ],
       "datasetInfos": [],
       "dbfsResultPath": null,
       "isJsonSchema": true,
       "metadata": {},
       "overflow": false,
       "plotOptions": {
        "customPlotOptions": {},
        "displayType": "table",
        "pivotAggregation": null,
        "pivotColumns": null,
        "xColumns": null,
        "yColumns": null
       },
       "removedWidgets": [],
       "schema": [
        {
         "metadata": "{}",
         "name": "id",
         "type": "\"long\""
        },
        {
         "metadata": "{}",
         "name": "today",
         "type": "\"date\""
        },
        {
         "metadata": "{}",
         "name": "month_name",
         "type": "\"string\""
        },
        {
         "metadata": "{}",
         "name": "year",
         "type": "\"integer\""
        },
        {
         "metadata": "{}",
         "name": "month",
         "type": "\"integer\""
        }
       ],
       "type": "table"
      }
     },
     "output_type": "display_data"
    }
   ],
   "source": [
    "from pyspark.sql.functions import current_date    # \"*\"\n",
    "\n",
    "df1 = spark.createDataFrame(data=[(1, )], schema=['id']).withColumn('today', current_date())\n",
    "# display(df1)\n",
    "\n",
    "df_m_y = df1.withColumn('month_name', date_format('today', 'MMMM'))\\\n",
    "    .withColumn('year', year('today'))\\\n",
    "        .withColumn('month', month('today'))\n",
    "display(df_m_y)"
   ]
  },
  {
   "cell_type": "code",
   "execution_count": 0,
   "metadata": {
    "application/vnd.databricks.v1+cell": {
     "cellMetadata": {
      "byteLimit": 2048000,
      "rowLimit": 10000
     },
     "inputWidgets": {},
     "nuid": "648611f8-8afc-4e97-98c8-3f85d0b5f5e8",
     "showTitle": false,
     "tableResultSettingsMap": {},
     "title": ""
    }
   },
   "outputs": [
    {
     "output_type": "stream",
     "name": "stdout",
     "output_type": "stream",
     "text": [
      "Python interpreter will be restarted.\nRequirement already satisfied: requests in /databricks/python3/lib/python3.9/site-packages (2.27.1)\nRequirement already satisfied: charset-normalizer~=2.0.0 in /databricks/python3/lib/python3.9/site-packages (from requests) (2.0.4)\nRequirement already satisfied: idna<4,>=2.5 in /databricks/python3/lib/python3.9/site-packages (from requests) (3.3)\nRequirement already satisfied: certifi>=2017.4.17 in /databricks/python3/lib/python3.9/site-packages (from requests) (2021.10.8)\nRequirement already satisfied: urllib3<1.27,>=1.21.1 in /databricks/python3/lib/python3.9/site-packages (from requests) (1.26.9)\nPython interpreter will be restarted.\n"
     ]
    }
   ],
   "source": [
    "%pip install requests"
   ]
  },
  {
   "cell_type": "code",
   "execution_count": 0,
   "metadata": {
    "application/vnd.databricks.v1+cell": {
     "cellMetadata": {
      "byteLimit": 2048000,
      "rowLimit": 10000
     },
     "inputWidgets": {},
     "nuid": "97561dce-ace5-4ada-80be-e91d7c037307",
     "showTitle": false,
     "tableResultSettingsMap": {},
     "title": ""
    }
   },
   "outputs": [],
   "source": [
    "import requests\n",
    "from pyspark.sql import SparkSession\n",
    "\n",
    "# spark = SparkSession.builder.appName(\"API_Post\").getOrCreate()   # already available in Databricks\n",
    "BEARER_TOKEN = \"dc4cff04-06d4-4549-ac19-b456b49c5586\"\n",
    "HEADERS = {\n",
    "    \"Authorization\": f\"Bearer {BEARER_TOKEN}\",\n",
    "    \"Accept\": \"application/json\",\n",
    "}\n",
    "\n",
    "response = requests.get('https://fabricate.mockaroo.com/api/v1/databases/report/api/users', headers=HEADERS)\n",
    "\n",
    "res1 = requests.get(\"https://fabricate.mockaroo.com/api/v1/databases/report/api/products\", headers=HEADERS)\n",
    "\n",
    "data = response.json() \n",
    "data1 = res1.json() "
   ]
  },
  {
   "cell_type": "code",
   "execution_count": 0,
   "metadata": {
    "application/vnd.databricks.v1+cell": {
     "cellMetadata": {
      "byteLimit": 2048000,
      "rowLimit": 10000
     },
     "inputWidgets": {},
     "nuid": "3c6857a8-3022-417b-9800-d88caed8e614",
     "showTitle": false,
     "tableResultSettingsMap": {},
     "title": ""
    }
   },
   "outputs": [
    {
     "output_type": "stream",
     "name": "stdout",
     "output_type": "stream",
     "text": [
      "+--------------------+------+---+--------------+----------------+\n|               email|gender| id|      location|            name|\n+--------------------+------+---+--------------+----------------+\n|arabele.jeskin@ho...|Female|  1|      Staxigoe|  Arabele Jeskin|\n|saul.pantone@aol.com|  Male|  2|   Cluj-Napoca|    Saul Pantone|\n|brand.baudic@plan...|  Male|  3|  Yeraganahlli|    Brand Baudic|\n|annemarie.jedrys@...|Female|  4|     Lynnfield|Annemarie Jedrys|\n|nelia.spafford@gm...|Female|  5|Mount Pleasant|  Nelia Spafford|\n+--------------------+------+---+--------------+----------------+\nonly showing top 5 rows\n\n"
     ]
    }
   ],
   "source": [
    "user_df = spark.createDataFrame(data)\n",
    "user_df.show(5)"
   ]
  },
  {
   "cell_type": "code",
   "execution_count": 0,
   "metadata": {
    "application/vnd.databricks.v1+cell": {
     "cellMetadata": {
      "byteLimit": 2048000,
      "rowLimit": 10000
     },
     "inputWidgets": {},
     "nuid": "d06697de-fedd-44ba-a927-c17110062cc8",
     "showTitle": false,
     "tableResultSettingsMap": {},
     "title": ""
    }
   },
   "outputs": [
    {
     "output_type": "stream",
     "name": "stdout",
     "output_type": "stream",
     "text": [
      "+---+----------------+--------------------+--------+-------+\n| id|product_category|        product_name|quantity|user_id|\n+---+----------------+--------------------+--------+-------+\n|  1|         Fitness|Stainless Steel W...|       1|     17|\n|  2|    Food - Dairy|Feta Cheese Crumbles|       2|     49|\n|  3|         Kitchen|      Coffee Grinder|       3|     84|\n|  4|    Food - Meats|Savory Breakfast ...|       4|     70|\n|  5|         Kitchen|Stainless Steel C...|       5|     73|\n+---+----------------+--------------------+--------+-------+\nonly showing top 5 rows\n\n"
     ]
    }
   ],
   "source": [
    "product_df = spark.createDataFrame(data1)\n",
    "product_df.show(5)"
   ]
  },
  {
   "cell_type": "code",
   "execution_count": 0,
   "metadata": {
    "application/vnd.databricks.v1+cell": {
     "cellMetadata": {
      "byteLimit": 2048000,
      "rowLimit": 10000
     },
     "inputWidgets": {},
     "nuid": "cae0d843-db7f-4f39-bab7-c1670810f1fa",
     "showTitle": false,
     "tableResultSettingsMap": {},
     "title": ""
    }
   },
   "outputs": [
    {
     "output_type": "stream",
     "name": "stdout",
     "output_type": "stream",
     "text": [
      "+--------------------+------+---+--------------------+------------------+---+--------------------+--------------------+--------+-------+\n|               email|gender| id|            location|              name| id|    product_category|        product_name|quantity|user_id|\n+--------------------+------+---+--------------------+------------------+---+--------------------+--------------------+--------+-------+\n|shandie.giacovett...|Female|  7|         Ptaszkowice|Shandie Giacovetti| 26|             Outdoor|   Portable Campfire|      26|      7|\n|merilee.alger@yah...|Female| 11|Воля (Новоселівська)|     Merilee Alger| 32|                Pets|Cat Tree with Scr...|      32|     11|\n|brand.baudic@plan...|  Male|  3|        Yeraganahlli|      Brand Baudic| 53|                Pets|Portable Pet Wate...|      53|      3|\n|sasha.nyssens@liv...|  Male|  8|     Wisconsin Dells|     Sasha Nyssens| 91| Food - Baking Goods|Sweetened Condens...|      91|      8|\n|nelia.spafford@gm...|Female|  5|      Mount Pleasant|    Nelia Spafford| 34|Food - Prepared F...|   Chicken Salad Kit|      34|      5|\n+--------------------+------+---+--------------------+------------------+---+--------------------+--------------------+--------+-------+\nonly showing top 5 rows\n\n"
     ]
    }
   ],
   "source": [
    "user_df.join(product_df, user_df['id']==product_df['user_id'], 'inner').show(5)"
   ]
  },
  {
   "cell_type": "code",
   "execution_count": 0,
   "metadata": {
    "application/vnd.databricks.v1+cell": {
     "cellMetadata": {
      "byteLimit": 2048000,
      "rowLimit": 10000
     },
     "inputWidgets": {},
     "nuid": "e0a5fbbf-4e12-4881-a324-f6db4705a26f",
     "showTitle": false,
     "tableResultSettingsMap": {},
     "title": ""
    }
   },
   "outputs": [],
   "source": [
    "customer_data = [(1,'manish','patna',\"30-05-2022\"),\n",
    "(2,'vikash','kolkata',\"12-03-2023\"),\n",
    "(3,'nikita','delhi',\"25-06-2023\"),\n",
    "(4,'rahul','ranchi',\"24-03-2023\"),\n",
    "(5,'mahesh','jaipur',\"22-03-2023\"),\n",
    "(6,'prantosh','kolkata',\"18-10-2022\"),\n",
    "(7,'raman','patna',\"30-12-2022\"),\n",
    "(8,'prakash','ranchi',\"24-02-2023\"),\n",
    "(9,'ragini','kolkata',\"03-03-2023\"),\n",
    "(10,'raushan','jaipur',\"05-02-2023\")]\n",
    "\n",
    "customer_schema=['customer_id','customer_name','address','date_of_joining']\n",
    "\n",
    "\n",
    "sales_data = [(1,22,10,\"01-06-2022\"),\n",
    "(1,27,5,\"03-02-2023\"),\n",
    "(2,5,3,\"01-06-2023\"),\n",
    "(5,22,1,\"22-03-2023\"),\n",
    "(7,22,4,\"03-02-2023\"),\n",
    "(9,5,6,\"03-03-2023\"),\n",
    "(2,1,12,\"15-06-2023\"),\n",
    "(1,56,2,\"25-06-2023\"),\n",
    "(5,12,5,\"15-04-2023\"),\n",
    "(11,12,76,\"12-03-2023\")]\n",
    "\n",
    "sales_schema=['customer_id','product_id','quantity','date_of_purchase']\n",
    "\n",
    "product_data = [(1, 'fanta',20),\n",
    "(2, 'dew',22),\n",
    "(5, 'sprite',40),\n",
    "(7, 'redbull',100),\n",
    "(12,'mazza',45),\n",
    "(22,'coke',27),\n",
    "(25,'limca',21),\n",
    "(27,'pepsi',14),\n",
    "(56,'sting',10)]\n",
    "\n",
    "product_schema=['id','name','price']\n",
    "\n",
    "cust_df = spark.createDataFrame(data=customer_data, schema=customer_schema)\n",
    "\n",
    "sales_df = spark.createDataFrame(data=sales_data, schema=sales_schema)\n",
    "\n",
    "product_df = spark.createDataFrame(data=product_data, schema=product_schema)"
   ]
  },
  {
   "cell_type": "code",
   "execution_count": 0,
   "metadata": {
    "application/vnd.databricks.v1+cell": {
     "cellMetadata": {
      "byteLimit": 2048000,
      "rowLimit": 10000
     },
     "inputWidgets": {},
     "nuid": "63d2722b-23f2-4a2f-b99a-075ef2518d1d",
     "showTitle": false,
     "tableResultSettingsMap": {},
     "title": ""
    }
   },
   "outputs": [
    {
     "output_type": "stream",
     "name": "stdout",
     "output_type": "stream",
     "text": [
      "+-----------+\n|customer_id|\n+-----------+\n|          1|\n|          1|\n|          1|\n|          2|\n|          2|\n|          5|\n|          5|\n|          7|\n|          9|\n+-----------+\n\n"
     ]
    }
   ],
   "source": [
    "cust_df.join(sales_df, cust_df['customer_id']==sales_df['customer_id'], 'inner').select(sales_df['customer_id']).show()"
   ]
  },
  {
   "cell_type": "code",
   "execution_count": 0,
   "metadata": {
    "application/vnd.databricks.v1+cell": {
     "cellMetadata": {
      "byteLimit": 2048000,
      "rowLimit": 10000
     },
     "inputWidgets": {},
     "nuid": "c7a2576d-2fe1-45c9-9f3d-10c0a55d32ab",
     "showTitle": false,
     "tableResultSettingsMap": {},
     "title": ""
    }
   },
   "outputs": [
    {
     "output_type": "stream",
     "name": "stdout",
     "output_type": "stream",
     "text": [
      "+-----------+-------------+-------+---------------+-----------+----------+--------+----------------+\n|customer_id|customer_name|address|date_of_joining|customer_id|product_id|quantity|date_of_purchase|\n+-----------+-------------+-------+---------------+-----------+----------+--------+----------------+\n|          1|       manish|  patna|     30-05-2022|          1|        22|      10|      01-06-2022|\n|          1|       manish|  patna|     30-05-2022|          1|        27|       5|      03-02-2023|\n|          1|       manish|  patna|     30-05-2022|          1|        56|       2|      25-06-2023|\n|          2|       vikash|kolkata|     12-03-2023|          2|         5|       3|      01-06-2023|\n|          2|       vikash|kolkata|     12-03-2023|          2|         1|      12|      15-06-2023|\n|          3|       nikita|  delhi|     25-06-2023|       null|      null|    null|            null|\n|          4|        rahul| ranchi|     24-03-2023|       null|      null|    null|            null|\n|          5|       mahesh| jaipur|     22-03-2023|          5|        22|       1|      22-03-2023|\n|          5|       mahesh| jaipur|     22-03-2023|          5|        12|       5|      15-04-2023|\n|          6|     prantosh|kolkata|     18-10-2022|       null|      null|    null|            null|\n|          7|        raman|  patna|     30-12-2022|          7|        22|       4|      03-02-2023|\n|          8|      prakash| ranchi|     24-02-2023|       null|      null|    null|            null|\n|          9|       ragini|kolkata|     03-03-2023|          9|         5|       6|      03-03-2023|\n|         10|      raushan| jaipur|     05-02-2023|       null|      null|    null|            null|\n|       null|         null|   null|           null|         11|        12|      76|      12-03-2023|\n+-----------+-------------+-------+---------------+-----------+----------+--------+----------------+\n\n"
     ]
    }
   ],
   "source": [
    "cust_df.join(sales_df, cust_df['customer_id']==sales_df['customer_id'], 'outer').show()"
   ]
  },
  {
   "cell_type": "code",
   "execution_count": 0,
   "metadata": {
    "application/vnd.databricks.v1+cell": {
     "cellMetadata": {
      "byteLimit": 2048000,
      "rowLimit": 10000
     },
     "inputWidgets": {},
     "nuid": "8edb3738-1a0f-4ecf-a133-c49f074cb4a4",
     "showTitle": false,
     "tableResultSettingsMap": {},
     "title": ""
    }
   },
   "outputs": [
    {
     "output_type": "stream",
     "name": "stdout",
     "output_type": "stream",
     "text": [
      "+-----------+-------------+-------+---------------+-----------+----------+--------+----------------+\n|customer_id|customer_name|address|date_of_joining|customer_id|product_id|quantity|date_of_purchase|\n+-----------+-------------+-------+---------------+-----------+----------+--------+----------------+\n|          3|       nikita|  delhi|     25-06-2023|       null|      null|    null|            null|\n|          4|        rahul| ranchi|     24-03-2023|       null|      null|    null|            null|\n|          6|     prantosh|kolkata|     18-10-2022|       null|      null|    null|            null|\n|          8|      prakash| ranchi|     24-02-2023|       null|      null|    null|            null|\n|         10|      raushan| jaipur|     05-02-2023|       null|      null|    null|            null|\n+-----------+-------------+-------+---------------+-----------+----------+--------+----------------+\n\n"
     ]
    }
   ],
   "source": [
    "cust_df.join(sales_df, cust_df['customer_id']==sales_df['customer_id'], 'left').where(sales_df['product_id'].isNull()).show()"
   ]
  },
  {
   "cell_type": "code",
   "execution_count": 0,
   "metadata": {
    "application/vnd.databricks.v1+cell": {
     "cellMetadata": {
      "byteLimit": 2048000,
      "rowLimit": 10000
     },
     "inputWidgets": {},
     "nuid": "ad81af05-3bba-4920-8636-ac81d4ebcb84",
     "showTitle": false,
     "tableResultSettingsMap": {},
     "title": ""
    }
   },
   "outputs": [
    {
     "output_type": "stream",
     "name": "stdout",
     "output_type": "stream",
     "text": [
      "+-----------+-------------+-------+---------------+\n|customer_id|customer_name|address|date_of_joining|\n+-----------+-------------+-------+---------------+\n|          1|       manish|  patna|     30-05-2022|\n|          2|       vikash|kolkata|     12-03-2023|\n|          5|       mahesh| jaipur|     22-03-2023|\n|          7|        raman|  patna|     30-12-2022|\n|          9|       ragini|kolkata|     03-03-2023|\n+-----------+-------------+-------+---------------+\n\n"
     ]
    }
   ],
   "source": [
    "cust_df.join(sales_df, cust_df['customer_id']==sales_df['customer_id'], 'left_semi').show()"
   ]
  },
  {
   "cell_type": "code",
   "execution_count": 0,
   "metadata": {
    "application/vnd.databricks.v1+cell": {
     "cellMetadata": {
      "byteLimit": 2048000,
      "rowLimit": 10000
     },
     "inputWidgets": {},
     "nuid": "6c19d880-6697-4e4b-8624-47469be4efb6",
     "showTitle": false,
     "tableResultSettingsMap": {},
     "title": ""
    }
   },
   "outputs": [
    {
     "output_type": "stream",
     "name": "stdout",
     "output_type": "stream",
     "text": [
      "+-----------+-------------+-------+---------------+\n|customer_id|customer_name|address|date_of_joining|\n+-----------+-------------+-------+---------------+\n|          3|       nikita|  delhi|     25-06-2023|\n|          4|        rahul| ranchi|     24-03-2023|\n|          6|     prantosh|kolkata|     18-10-2022|\n|          8|      prakash| ranchi|     24-02-2023|\n|         10|      raushan| jaipur|     05-02-2023|\n+-----------+-------------+-------+---------------+\n\n"
     ]
    }
   ],
   "source": [
    "cust_df.join(sales_df, cust_df['customer_id']==sales_df['customer_id'], 'left_anti').show()"
   ]
  },
  {
   "cell_type": "code",
   "execution_count": 0,
   "metadata": {
    "application/vnd.databricks.v1+cell": {
     "cellMetadata": {
      "byteLimit": 2048000,
      "rowLimit": 10000
     },
     "inputWidgets": {},
     "nuid": "7a18c091-1ec0-43c0-929c-5567c685c6dd",
     "showTitle": false,
     "tableResultSettingsMap": {},
     "title": ""
    }
   },
   "outputs": [
    {
     "output_type": "stream",
     "name": "stdout",
     "output_type": "stream",
     "text": [
      "Out[11]: 90"
     ]
    }
   ],
   "source": [
    "sales_df.crossJoin(product_df).count()"
   ]
  },
  {
   "cell_type": "code",
   "execution_count": 0,
   "metadata": {
    "application/vnd.databricks.v1+cell": {
     "cellMetadata": {
      "byteLimit": 2048000,
      "rowLimit": 10000
     },
     "inputWidgets": {},
     "nuid": "43b466fc-ad92-47e6-bb40-35671c8354b8",
     "showTitle": false,
     "tableResultSettingsMap": {},
     "title": ""
    }
   },
   "outputs": [
    {
     "output_type": "stream",
     "name": "stdout",
     "output_type": "stream",
     "text": [
      "+---+--------+------+---------+------+\n| id|    name|salary|     dept|gender|\n+---+--------+------+---------+------+\n|  1|  manish| 50000|       IT|     m|\n|  2|  vikash| 60000|    sales|     m|\n|  3| raushan| 70000|marketing|     m|\n|  4|  mukesh| 80000|       IT|     m|\n|  5|   priti| 90000|    sales|     f|\n|  6|  nikita| 45000|marketing|     f|\n|  7|  ragini| 55000|marketing|     f|\n|  8|   rashi|100000|       IT|     f|\n|  9|  aditya| 65000|       IT|     m|\n| 10|   rahul| 50000|marketing|     m|\n| 11|   rakhi| 50000|       IT|     f|\n| 12|akhilesh| 90000|    sales|     m|\n+---+--------+------+---------+------+\n\n"
     ]
    }
   ],
   "source": [
    "emp_data = [(1,'manish',50000,'IT','m'),\n",
    "(2,'vikash',60000,'sales','m'),\n",
    "(3,'raushan',70000,'marketing','m'),\n",
    "(4,'mukesh',80000,'IT','m'),\n",
    "(5,'priti',90000,'sales','f'),\n",
    "(6,'nikita',45000,'marketing','f'),\n",
    "(7,'ragini',55000,'marketing','f'),\n",
    "(8,'rashi',100000,'IT','f'),\n",
    "(9,'aditya',65000,'IT','m'),\n",
    "(10,'rahul',50000,'marketing','m'),\n",
    "(11,'rakhi',50000,'IT','f'),\n",
    "(12,'akhilesh',90000,'sales','m')]\n",
    "\n",
    "emp_schema = ['id', 'name', 'salary', 'dept', 'gender']\n",
    "\n",
    "emp_df = spark.createDataFrame(data=emp_data, schema=emp_schema)\n",
    "emp_df.show()"
   ]
  },
  {
   "cell_type": "code",
   "execution_count": 0,
   "metadata": {
    "application/vnd.databricks.v1+cell": {
     "cellMetadata": {
      "byteLimit": 2048000,
      "rowLimit": 10000
     },
     "inputWidgets": {},
     "nuid": "381a0484-cef2-470d-92ea-ddda1f130fcc",
     "showTitle": false,
     "tableResultSettingsMap": {},
     "title": ""
    }
   },
   "outputs": [
    {
     "output_type": "stream",
     "name": "stdout",
     "output_type": "stream",
     "text": [
      "+---+--------+------+---------+------+---------+\n| id|    name|salary|     dept|gender|total_sal|\n+---+--------+------+---------+------+---------+\n|  1|  manish| 50000|       IT|     m|   345000|\n|  4|  mukesh| 80000|       IT|     m|   345000|\n|  8|   rashi|100000|       IT|     f|   345000|\n|  9|  aditya| 65000|       IT|     m|   345000|\n| 11|   rakhi| 50000|       IT|     f|   345000|\n|  3| raushan| 70000|marketing|     m|   220000|\n|  6|  nikita| 45000|marketing|     f|   220000|\n|  7|  ragini| 55000|marketing|     f|   220000|\n| 10|   rahul| 50000|marketing|     m|   220000|\n|  2|  vikash| 60000|    sales|     m|   240000|\n|  5|   priti| 90000|    sales|     f|   240000|\n| 12|akhilesh| 90000|    sales|     m|   240000|\n+---+--------+------+---------+------+---------+\n\n"
     ]
    }
   ],
   "source": [
    "from pyspark.sql.functions import *\n",
    "from pyspark.sql.types import *\n",
    "from pyspark.sql.window import Window\n",
    "\n",
    "window1 = Window.partitionBy('dept')\n",
    "\n",
    "emp_df.withColumn('total_sal', sum(col('salary')).over(window1)).show()"
   ]
  },
  {
   "cell_type": "code",
   "execution_count": 0,
   "metadata": {
    "application/vnd.databricks.v1+cell": {
     "cellMetadata": {
      "byteLimit": 2048000,
      "rowLimit": 10000
     },
     "inputWidgets": {},
     "nuid": "5529ba50-b795-4263-a9e1-04d8be93e83f",
     "showTitle": false,
     "tableResultSettingsMap": {},
     "title": ""
    }
   },
   "outputs": [
    {
     "output_type": "stream",
     "name": "stdout",
     "output_type": "stream",
     "text": [
      "+---+--------+------+---------+------+------+\n| id|    name|salary|     dept|gender|row_no|\n+---+--------+------+---------+------+------+\n| 11|   rakhi| 50000|       IT|     f|     1|\n|  8|   rashi|100000|       IT|     f|     2|\n|  1|  manish| 50000|       IT|     m|     1|\n|  9|  aditya| 65000|       IT|     m|     2|\n|  4|  mukesh| 80000|       IT|     m|     3|\n|  6|  nikita| 45000|marketing|     f|     1|\n|  7|  ragini| 55000|marketing|     f|     2|\n| 10|   rahul| 50000|marketing|     m|     1|\n|  3| raushan| 70000|marketing|     m|     2|\n|  5|   priti| 90000|    sales|     f|     1|\n|  2|  vikash| 60000|    sales|     m|     1|\n| 12|akhilesh| 90000|    sales|     m|     2|\n+---+--------+------+---------+------+------+\n\n"
     ]
    }
   ],
   "source": [
    "window1 = Window.partitionBy('dept', 'gender').orderBy('salary')\n",
    "\n",
    "emp_df.withColumn('row_no', row_number().over(window1)).show()"
   ]
  },
  {
   "cell_type": "code",
   "execution_count": 0,
   "metadata": {
    "application/vnd.databricks.v1+cell": {
     "cellMetadata": {
      "byteLimit": 2048000,
      "rowLimit": 10000
     },
     "inputWidgets": {},
     "nuid": "1af6eb73-484b-4df3-94cc-6e97d5bf59d0",
     "showTitle": false,
     "tableResultSettingsMap": {},
     "title": ""
    }
   },
   "outputs": [
    {
     "output_type": "stream",
     "name": "stdout",
     "output_type": "stream",
     "text": [
      "+---+--------+------+---------+------+------+----+----------+\n| id|    name|salary|     dept|gender|row_no|rank|dense_rank|\n+---+--------+------+---------+------+------+----+----------+\n| 11|   rakhi| 50000|       IT|     f|     1|   1|         1|\n|  8|   rashi|100000|       IT|     f|     2|   2|         2|\n|  1|  manish| 50000|       IT|     m|     1|   1|         1|\n|  9|  aditya| 65000|       IT|     m|     2|   2|         2|\n|  4|  mukesh| 80000|       IT|     m|     3|   3|         3|\n|  6|  nikita| 45000|marketing|     f|     1|   1|         1|\n|  7|  ragini| 55000|marketing|     f|     2|   2|         2|\n| 10|   rahul| 50000|marketing|     m|     1|   1|         1|\n|  3| raushan| 70000|marketing|     m|     2|   2|         2|\n|  5|   priti| 90000|    sales|     f|     1|   1|         1|\n|  2|  vikash| 60000|    sales|     m|     1|   1|         1|\n| 12|akhilesh| 90000|    sales|     m|     2|   2|         2|\n+---+--------+------+---------+------+------+----+----------+\n\n"
     ]
    }
   ],
   "source": [
    "window1 = Window.partitionBy('dept', 'gender').orderBy('salary')\n",
    "\n",
    "emp_df.withColumn('row_no', row_number().over(window1))\\\n",
    "    .withColumn('rank', rank().over(window1))\\\n",
    "        .withColumn('dense_rank', dense_rank().over(window1))\\\n",
    "            .show()"
   ]
  },
  {
   "cell_type": "code",
   "execution_count": 0,
   "metadata": {
    "application/vnd.databricks.v1+cell": {
     "cellMetadata": {
      "byteLimit": 2048000,
      "rowLimit": 10000
     },
     "inputWidgets": {},
     "nuid": "698d20b4-4240-4596-8364-23c0edee65fa",
     "showTitle": false,
     "tableResultSettingsMap": {},
     "title": ""
    }
   },
   "outputs": [
    {
     "output_type": "stream",
     "name": "stdout",
     "output_type": "stream",
     "text": [
      "+---+--------+------+---------+------+------+----+----------+\n| id|    name|salary|     dept|gender|row_no|rank|dense_rank|\n+---+--------+------+---------+------+------+----+----------+\n|  8|   rashi|100000|       IT|     f|     1|   1|         1|\n| 11|   rakhi| 50000|       IT|     f|     2|   2|         2|\n|  4|  mukesh| 80000|       IT|     m|     1|   1|         1|\n|  9|  aditya| 65000|       IT|     m|     2|   2|         2|\n|  7|  ragini| 55000|marketing|     f|     1|   1|         1|\n|  6|  nikita| 45000|marketing|     f|     2|   2|         2|\n|  3| raushan| 70000|marketing|     m|     1|   1|         1|\n| 10|   rahul| 50000|marketing|     m|     2|   2|         2|\n|  5|   priti| 90000|    sales|     f|     1|   1|         1|\n| 12|akhilesh| 90000|    sales|     m|     1|   1|         1|\n|  2|  vikash| 60000|    sales|     m|     2|   2|         2|\n+---+--------+------+---------+------+------+----+----------+\n\n"
     ]
    }
   ],
   "source": [
    "# want higher salary employees (gendewise) with dense_rank <= 2\n",
    "\n",
    "window1 = Window.partitionBy('dept', 'gender').orderBy(desc('salary'))\n",
    "\n",
    "emp_df.withColumn('row_no', row_number().over(window1))\\\n",
    "    .withColumn('rank', rank().over(window1))\\\n",
    "    .withColumn('dense_rank', dense_rank().over(window1)).filter(col('dense_rank')<=2)\\\n",
    "    .show() "
   ]
  },
  {
   "cell_type": "code",
   "execution_count": 0,
   "metadata": {
    "application/vnd.databricks.v1+cell": {
     "cellMetadata": {
      "byteLimit": 2048000,
      "rowLimit": 10000
     },
     "inputWidgets": {},
     "nuid": "4e08195d-ca36-4f82-ab0d-9e7693e67426",
     "showTitle": false,
     "tableResultSettingsMap": {},
     "title": ""
    }
   },
   "outputs": [
    {
     "output_type": "stream",
     "name": "stdout",
     "output_type": "stream",
     "text": [
      "+----------+------------+----------+-------+\n|product_id|product_name|sales_date|  sales|\n+----------+------------+----------+-------+\n|         1|      iphone|01-01-2023|1500000|\n|         2|     samsung|01-01-2023|1100000|\n|         3|     oneplus|01-01-2023|1100000|\n|         1|      iphone|01-02-2023|1300000|\n|         2|     samsung|01-02-2023|1120000|\n|         3|     oneplus|01-02-2023|1120000|\n|         1|      iphone|01-03-2023|1600000|\n|         2|     samsung|01-03-2023|1080000|\n|         3|     oneplus|01-03-2023|1160000|\n|         1|      iphone|01-04-2023|1700000|\n|         2|     samsung|01-04-2023|1800000|\n|         3|     oneplus|01-04-2023|1170000|\n|         1|      iphone|01-05-2023|1200000|\n|         2|     samsung|01-05-2023| 980000|\n|         3|     oneplus|01-05-2023|1175000|\n|         1|      iphone|01-06-2023|1100000|\n|         2|     samsung|01-06-2023|1100000|\n|         3|     oneplus|01-06-2023|1200000|\n+----------+------------+----------+-------+\n\n"
     ]
    }
   ],
   "source": [
    "product_data1 = [\n",
    "(1,\"iphone\",\"01-01-2023\",1500000),\n",
    "(2,\"samsung\",\"01-01-2023\",1100000),\n",
    "(3,\"oneplus\",\"01-01-2023\",1100000),\n",
    "(1,\"iphone\",\"01-02-2023\",1300000),\n",
    "(2,\"samsung\",\"01-02-2023\",1120000),\n",
    "(3,\"oneplus\",\"01-02-2023\",1120000),\n",
    "(1,\"iphone\",\"01-03-2023\",1600000),\n",
    "(2,\"samsung\",\"01-03-2023\",1080000),\n",
    "(3,\"oneplus\",\"01-03-2023\",1160000),\n",
    "(1,\"iphone\",\"01-04-2023\",1700000),\n",
    "(2,\"samsung\",\"01-04-2023\",1800000),\n",
    "(3,\"oneplus\",\"01-04-2023\",1170000),\n",
    "(1,\"iphone\",\"01-05-2023\",1200000),\n",
    "(2,\"samsung\",\"01-05-2023\",980000),\n",
    "(3,\"oneplus\",\"01-05-2023\",1175000),\n",
    "(1,\"iphone\",\"01-06-2023\",1100000),\n",
    "(2,\"samsung\",\"01-06-2023\",1100000),\n",
    "(3,\"oneplus\",\"01-06-2023\",1200000)\n",
    "]\n",
    "\n",
    "prod_schema1 = ['product_id', 'product_name', 'sales_date', 'sales']\n",
    "\n",
    "pr_df = spark.createDataFrame(data=product_data1, schema=prod_schema1)\n",
    "pr_df.show()"
   ]
  },
  {
   "cell_type": "code",
   "execution_count": 0,
   "metadata": {
    "application/vnd.databricks.v1+cell": {
     "cellMetadata": {
      "byteLimit": 2048000,
      "rowLimit": 10000
     },
     "inputWidgets": {},
     "nuid": "4a440a38-7283-4105-8d3d-3db3e2bd07bf",
     "showTitle": false,
     "tableResultSettingsMap": {},
     "title": ""
    }
   },
   "outputs": [
    {
     "output_type": "stream",
     "name": "stdout",
     "output_type": "stream",
     "text": [
      "+----------+------------+----------+-------+---------+\n|product_id|product_name|sales_date|  sales|prev_sale|\n+----------+------------+----------+-------+---------+\n|         1|      iphone|01-01-2023|1500000|     null|\n|         1|      iphone|01-02-2023|1300000|  1500000|\n|         1|      iphone|01-03-2023|1600000|  1300000|\n|         1|      iphone|01-04-2023|1700000|  1600000|\n|         1|      iphone|01-05-2023|1200000|  1700000|\n|         1|      iphone|01-06-2023|1100000|  1200000|\n|         2|     samsung|01-01-2023|1100000|     null|\n|         2|     samsung|01-02-2023|1120000|  1100000|\n|         2|     samsung|01-03-2023|1080000|  1120000|\n|         2|     samsung|01-04-2023|1800000|  1080000|\n+----------+------------+----------+-------+---------+\nonly showing top 10 rows\n\n"
     ]
    }
   ],
   "source": [
    "win1 = Window.partitionBy('product_id').orderBy('sales_date')\n",
    "\n",
    "prev_df = pr_df.withColumn('prev_sale', lag(col('sales')).over(win1))\n",
    "prev_df.show(10)"
   ]
  },
  {
   "cell_type": "code",
   "execution_count": 0,
   "metadata": {
    "application/vnd.databricks.v1+cell": {
     "cellMetadata": {
      "byteLimit": 2048000,
      "rowLimit": 10000
     },
     "inputWidgets": {},
     "nuid": "0bc39820-0800-42da-9c15-014d1307abb7",
     "showTitle": false,
     "tableResultSettingsMap": {},
     "title": ""
    }
   },
   "outputs": [
    {
     "output_type": "stream",
     "name": "stdout",
     "output_type": "stream",
     "text": [
      "+----------+------------+----------+-------+---------+\n|product_id|product_name|sales_date|  sales|next_sale|\n+----------+------------+----------+-------+---------+\n|         1|      iphone|01-01-2023|1500000|  1600000|\n|         1|      iphone|01-02-2023|1300000|  1700000|\n|         1|      iphone|01-03-2023|1600000|  1200000|\n|         1|      iphone|01-04-2023|1700000|  1100000|\n|         1|      iphone|01-05-2023|1200000|        0|\n|         1|      iphone|01-06-2023|1100000|        0|\n|         2|     samsung|01-01-2023|1100000|  1080000|\n|         2|     samsung|01-02-2023|1120000|  1800000|\n|         2|     samsung|01-03-2023|1080000|   980000|\n|         2|     samsung|01-04-2023|1800000|  1100000|\n|         2|     samsung|01-05-2023| 980000|        0|\n|         2|     samsung|01-06-2023|1100000|        0|\n|         3|     oneplus|01-01-2023|1100000|  1160000|\n|         3|     oneplus|01-02-2023|1120000|  1170000|\n|         3|     oneplus|01-03-2023|1160000|  1175000|\n|         3|     oneplus|01-04-2023|1170000|  1200000|\n|         3|     oneplus|01-05-2023|1175000|        0|\n|         3|     oneplus|01-06-2023|1200000|        0|\n+----------+------------+----------+-------+---------+\n\n"
     ]
    }
   ],
   "source": [
    "win1 = Window.partitionBy('product_id').orderBy('sales_date')\n",
    "\n",
    "pr_df.withColumn('next_sale', lead(col('sales'), 2, 0).over(win1)).show()"
   ]
  },
  {
   "cell_type": "code",
   "execution_count": 0,
   "metadata": {
    "application/vnd.databricks.v1+cell": {
     "cellMetadata": {
      "byteLimit": 2048000,
      "rowLimit": 10000
     },
     "inputWidgets": {},
     "nuid": "646c2974-144b-47e6-92a3-bc08f5deb8b1",
     "showTitle": false,
     "tableResultSettingsMap": {},
     "title": ""
    }
   },
   "outputs": [
    {
     "output_type": "stream",
     "name": "stdout",
     "output_type": "stream",
     "text": [
      "+----------+------------+----------+-------+---------+-------+\n|product_id|product_name|sales_date|  sales|prev_sale| losses|\n+----------+------------+----------+-------+---------+-------+\n|         1|      iphone|01-01-2023|1500000|     null|   null|\n|         1|      iphone|01-02-2023|1300000|  1500000|-200000|\n|         1|      iphone|01-03-2023|1600000|  1300000| 300000|\n|         1|      iphone|01-04-2023|1700000|  1600000| 100000|\n|         1|      iphone|01-05-2023|1200000|  1700000|-500000|\n|         1|      iphone|01-06-2023|1100000|  1200000|-100000|\n|         2|     samsung|01-01-2023|1100000|     null|   null|\n|         2|     samsung|01-02-2023|1120000|  1100000|  20000|\n|         2|     samsung|01-03-2023|1080000|  1120000| -40000|\n|         2|     samsung|01-04-2023|1800000|  1080000| 720000|\n|         2|     samsung|01-05-2023| 980000|  1800000|-820000|\n|         2|     samsung|01-06-2023|1100000|   980000| 120000|\n|         3|     oneplus|01-01-2023|1100000|     null|   null|\n|         3|     oneplus|01-02-2023|1120000|  1100000|  20000|\n|         3|     oneplus|01-03-2023|1160000|  1120000|  40000|\n|         3|     oneplus|01-04-2023|1170000|  1160000|  10000|\n|         3|     oneplus|01-05-2023|1175000|  1170000|   5000|\n|         3|     oneplus|01-06-2023|1200000|  1175000|  25000|\n+----------+------------+----------+-------+---------+-------+\n\n"
     ]
    }
   ],
   "source": [
    "prev_df.withColumn('losses', (col('sales')-col('prev_sale'))).show()  "
   ]
  },
  {
   "cell_type": "code",
   "execution_count": 0,
   "metadata": {
    "application/vnd.databricks.v1+cell": {
     "cellMetadata": {
      "byteLimit": 2048000,
      "rowLimit": 10000
     },
     "inputWidgets": {},
     "nuid": "8214609b-2702-41c5-9857-d341215346a5",
     "showTitle": false,
     "tableResultSettingsMap": {},
     "title": ""
    }
   },
   "outputs": [
    {
     "output_type": "stream",
     "name": "stdout",
     "output_type": "stream",
     "text": [
      "+----------+------------+----------+-------+---------+-------------------+\n|product_id|product_name|sales_date|  sales|prev_sale|     percent_losses|\n+----------+------------+----------+-------+---------+-------------------+\n|         1|      iphone|01-01-2023|1500000|     null|               null|\n|         1|      iphone|01-02-2023|1300000|  1500000|-15.384615384615385|\n|         1|      iphone|01-03-2023|1600000|  1300000|              18.75|\n|         1|      iphone|01-04-2023|1700000|  1600000|   5.88235294117647|\n|         1|      iphone|01-05-2023|1200000|  1700000| -41.66666666666667|\n|         1|      iphone|01-06-2023|1100000|  1200000| -9.090909090909092|\n|         2|     samsung|01-01-2023|1100000|     null|               null|\n|         2|     samsung|01-02-2023|1120000|  1100000| 1.7857142857142856|\n|         2|     samsung|01-03-2023|1080000|  1120000|-3.7037037037037033|\n|         2|     samsung|01-04-2023|1800000|  1080000|               40.0|\n|         2|     samsung|01-05-2023| 980000|  1800000|  -83.6734693877551|\n|         2|     samsung|01-06-2023|1100000|   980000| 10.909090909090908|\n|         3|     oneplus|01-01-2023|1100000|     null|               null|\n|         3|     oneplus|01-02-2023|1120000|  1100000| 1.7857142857142856|\n|         3|     oneplus|01-03-2023|1160000|  1120000| 3.4482758620689653|\n|         3|     oneplus|01-04-2023|1170000|  1160000| 0.8547008547008548|\n|         3|     oneplus|01-05-2023|1175000|  1170000|  0.425531914893617|\n|         3|     oneplus|01-06-2023|1200000|  1175000|  2.083333333333333|\n+----------+------------+----------+-------+---------+-------------------+\n\n"
     ]
    }
   ],
   "source": [
    "# percentage loss/gain based on previous month sales\n",
    "\n",
    "prev_df.withColumn('percent_losses', (col('sales')-col('prev_sale'))/ col('sales') *100).show()  "
   ]
  },
  {
   "cell_type": "code",
   "execution_count": 0,
   "metadata": {
    "application/vnd.databricks.v1+cell": {
     "cellMetadata": {
      "byteLimit": 2048000,
      "rowLimit": 10000
     },
     "inputWidgets": {},
     "nuid": "e1815a52-8862-4fce-9880-35a8d7407175",
     "showTitle": false,
     "tableResultSettingsMap": {},
     "title": ""
    }
   },
   "outputs": [
    {
     "output_type": "stream",
     "name": "stdout",
     "output_type": "stream",
     "text": [
      "+----------+------------+----------+-------+---------+--------------+\n|product_id|product_name|sales_date|  sales|prev_sale|percent_losses|\n+----------+------------+----------+-------+---------+--------------+\n|         1|      iphone|01-01-2023|1500000|     null|          null|\n|         1|      iphone|01-02-2023|1300000|  1500000|        -15.38|\n|         1|      iphone|01-03-2023|1600000|  1300000|         18.75|\n|         1|      iphone|01-04-2023|1700000|  1600000|          5.88|\n|         1|      iphone|01-05-2023|1200000|  1700000|        -41.67|\n|         1|      iphone|01-06-2023|1100000|  1200000|         -9.09|\n|         2|     samsung|01-01-2023|1100000|     null|          null|\n|         2|     samsung|01-02-2023|1120000|  1100000|          1.79|\n|         2|     samsung|01-03-2023|1080000|  1120000|          -3.7|\n|         2|     samsung|01-04-2023|1800000|  1080000|          40.0|\n+----------+------------+----------+-------+---------+--------------+\nonly showing top 10 rows\n\n"
     ]
    }
   ],
   "source": [
    "# percentage loss/gain based on previous month sales\n",
    "\n",
    "prev_df.withColumn('percent_losses', round((col('sales')-col('prev_sale'))/ col('sales') *100, 2)).show(10)  "
   ]
  },
  {
   "cell_type": "code",
   "execution_count": 0,
   "metadata": {
    "application/vnd.databricks.v1+cell": {
     "cellMetadata": {
      "byteLimit": 2048000,
      "rowLimit": 10000
     },
     "inputWidgets": {},
     "nuid": "099861fd-0004-454e-a446-84a3f4f02f97",
     "showTitle": false,
     "tableResultSettingsMap": {},
     "title": ""
    }
   },
   "outputs": [
    {
     "output_type": "stream",
     "name": "stdout",
     "output_type": "stream",
     "text": [
      "Out[34]: ['code',\n 'message',\n 'restaurants',\n 'results_found',\n 'results_shown',\n 'results_start',\n 'status']"
     ]
    }
   ],
   "source": [
    "res_json_data = spark.read.format('json').option('header', 'true').option('inferSchema', 'true').option('mode', 'permissive')\\\n",
    "    .load('/FileStore/tables/resturant_json_data.json')\n",
    "\n",
    "res_json_data.columns"
   ]
  },
  {
   "cell_type": "code",
   "execution_count": 0,
   "metadata": {
    "application/vnd.databricks.v1+cell": {
     "cellMetadata": {
      "byteLimit": 2048000,
      "rowLimit": 10000
     },
     "inputWidgets": {},
     "nuid": "9654c508-c9b6-4e16-90c3-f5dd98dd8caf",
     "showTitle": false,
     "tableResultSettingsMap": {},
     "title": ""
    }
   },
   "outputs": [
    {
     "output_type": "stream",
     "name": "stdout",
     "output_type": "stream",
     "text": [
      "root\n |-- code: long (nullable = true)\n |-- message: string (nullable = true)\n |-- restaurants: array (nullable = true)\n |    |-- element: struct (containsNull = true)\n |    |    |-- restaurant: struct (nullable = true)\n |    |    |    |-- R: struct (nullable = true)\n |    |    |    |    |-- res_id: long (nullable = true)\n |    |    |    |-- apikey: string (nullable = true)\n |    |    |    |-- average_cost_for_two: long (nullable = true)\n |    |    |    |-- cuisines: string (nullable = true)\n |    |    |    |-- currency: string (nullable = true)\n |    |    |    |-- deeplink: string (nullable = true)\n |    |    |    |-- establishment_types: array (nullable = true)\n |    |    |    |    |-- element: string (containsNull = true)\n |    |    |    |-- events_url: string (nullable = true)\n |    |    |    |-- featured_image: string (nullable = true)\n |    |    |    |-- has_online_delivery: long (nullable = true)\n |    |    |    |-- has_table_booking: long (nullable = true)\n |    |    |    |-- id: string (nullable = true)\n |    |    |    |-- is_delivering_now: long (nullable = true)\n |    |    |    |-- location: struct (nullable = true)\n |    |    |    |    |-- address: string (nullable = true)\n |    |    |    |    |-- city: string (nullable = true)\n |    |    |    |    |-- city_id: long (nullable = true)\n |    |    |    |    |-- country_id: long (nullable = true)\n |    |    |    |    |-- latitude: string (nullable = true)\n |    |    |    |    |-- locality: string (nullable = true)\n |    |    |    |    |-- locality_verbose: string (nullable = true)\n |    |    |    |    |-- longitude: string (nullable = true)\n |    |    |    |    |-- zipcode: string (nullable = true)\n |    |    |    |-- menu_url: string (nullable = true)\n |    |    |    |-- name: string (nullable = true)\n |    |    |    |-- offers: array (nullable = true)\n |    |    |    |    |-- element: string (containsNull = true)\n |    |    |    |-- photos_url: string (nullable = true)\n |    |    |    |-- price_range: long (nullable = true)\n |    |    |    |-- switch_to_order_menu: long (nullable = true)\n |    |    |    |-- thumb: string (nullable = true)\n |    |    |    |-- url: string (nullable = true)\n |    |    |    |-- user_rating: struct (nullable = true)\n |    |    |    |    |-- aggregate_rating: string (nullable = true)\n |    |    |    |    |-- rating_color: string (nullable = true)\n |    |    |    |    |-- rating_text: string (nullable = true)\n |    |    |    |    |-- votes: string (nullable = true)\n |-- results_found: long (nullable = true)\n |-- results_shown: long (nullable = true)\n |-- results_start: string (nullable = true)\n |-- status: string (nullable = true)\n\n"
     ]
    }
   ],
   "source": [
    "re1 = res_json_data\n",
    "re1.printSchema()"
   ]
  },
  {
   "cell_type": "code",
   "execution_count": 0,
   "metadata": {
    "application/vnd.databricks.v1+cell": {
     "cellMetadata": {
      "byteLimit": 2048000,
      "rowLimit": 10000
     },
     "inputWidgets": {},
     "nuid": "3cbabc9c-6d50-4349-bd4b-a76e8d671b58",
     "showTitle": false,
     "tableResultSettingsMap": {},
     "title": ""
    }
   },
   "outputs": [
    {
     "output_type": "stream",
     "name": "stdout",
     "output_type": "stream",
     "text": [
      "root\n |-- code: long (nullable = true)\n |-- message: string (nullable = true)\n |-- results_found: long (nullable = true)\n |-- results_shown: long (nullable = true)\n |-- results_start: string (nullable = true)\n |-- status: string (nullable = true)\n |-- new_restaurants: struct (nullable = true)\n |    |-- restaurant: struct (nullable = true)\n |    |    |-- R: struct (nullable = true)\n |    |    |    |-- res_id: long (nullable = true)\n |    |    |-- apikey: string (nullable = true)\n |    |    |-- average_cost_for_two: long (nullable = true)\n |    |    |-- cuisines: string (nullable = true)\n |    |    |-- currency: string (nullable = true)\n |    |    |-- deeplink: string (nullable = true)\n |    |    |-- establishment_types: array (nullable = true)\n |    |    |    |-- element: string (containsNull = true)\n |    |    |-- events_url: string (nullable = true)\n |    |    |-- featured_image: string (nullable = true)\n |    |    |-- has_online_delivery: long (nullable = true)\n |    |    |-- has_table_booking: long (nullable = true)\n |    |    |-- id: string (nullable = true)\n |    |    |-- is_delivering_now: long (nullable = true)\n |    |    |-- location: struct (nullable = true)\n |    |    |    |-- address: string (nullable = true)\n |    |    |    |-- city: string (nullable = true)\n |    |    |    |-- city_id: long (nullable = true)\n |    |    |    |-- country_id: long (nullable = true)\n |    |    |    |-- latitude: string (nullable = true)\n |    |    |    |-- locality: string (nullable = true)\n |    |    |    |-- locality_verbose: string (nullable = true)\n |    |    |    |-- longitude: string (nullable = true)\n |    |    |    |-- zipcode: string (nullable = true)\n |    |    |-- menu_url: string (nullable = true)\n |    |    |-- name: string (nullable = true)\n |    |    |-- offers: array (nullable = true)\n |    |    |    |-- element: string (containsNull = true)\n |    |    |-- photos_url: string (nullable = true)\n |    |    |-- price_range: long (nullable = true)\n |    |    |-- switch_to_order_menu: long (nullable = true)\n |    |    |-- thumb: string (nullable = true)\n |    |    |-- url: string (nullable = true)\n |    |    |-- user_rating: struct (nullable = true)\n |    |    |    |-- aggregate_rating: string (nullable = true)\n |    |    |    |-- rating_color: string (nullable = true)\n |    |    |    |-- rating_text: string (nullable = true)\n |    |    |    |-- votes: string (nullable = true)\n\n"
     ]
    }
   ],
   "source": [
    "ex_data = re1.select('*', explode('restaurants').alias('new_restaurants')).drop('restaurants')\n",
    "ex_data.printSchema()"
   ]
  },
  {
   "cell_type": "code",
   "execution_count": 0,
   "metadata": {
    "application/vnd.databricks.v1+cell": {
     "cellMetadata": {
      "byteLimit": 2048000,
      "rowLimit": 10000
     },
     "inputWidgets": {},
     "nuid": "564e18f7-0dde-4cb1-a836-1d293d709cda",
     "showTitle": false,
     "tableResultSettingsMap": {},
     "title": ""
    }
   },
   "outputs": [
    {
     "output_type": "stream",
     "name": "stdout",
     "output_type": "stream",
     "text": [
      "root\n |-- code: long (nullable = true)\n |-- results_shown: long (nullable = true)\n |-- results_start: string (nullable = true)\n |-- status: string (nullable = true)\n |-- res_id: long (nullable = true)\n |-- name: string (nullable = true)\n |-- new_establishment_types: string (nullable = true)\n\n"
     ]
    }
   ],
   "source": [
    "ex1 = ex_data.select('*', 'new_restaurants.restaurant.R.res_id', 'new_restaurants.restaurant.name', explode_outer('new_restaurants.restaurant.establishment_types').alias('new_establishment_types')).drop('new_restaurants').drop('message', 'results_found')\n",
    "ex1.printSchema()"
   ]
  },
  {
   "cell_type": "code",
   "execution_count": 0,
   "metadata": {
    "application/vnd.databricks.v1+cell": {
     "cellMetadata": {
      "byteLimit": 2048000,
      "rowLimit": 10000
     },
     "inputWidgets": {},
     "nuid": "ca173b7f-9310-45b7-a773-6c2f23c06b0e",
     "showTitle": false,
     "tableResultSettingsMap": {},
     "title": ""
    }
   },
   "outputs": [
    {
     "output_type": "stream",
     "name": "stdout",
     "output_type": "stream",
     "text": [
      "+---+--------+---+------+-------+------+\n| id|    name|age|salary|address|gender|\n+---+--------+---+------+-------+------+\n|  1|  Manish| 26| 75000|  INDIA|     m|\n|  2|  Nikita| 23|100000|    USA|     f|\n|  3|  Pritam| 22|150000|  INDIA|     m|\n|  4|Prantosh| 17|200000|  JAPAN|     m|\n|  5|  Vikash| 31|300000|    USA|     m|\n|  6|   Rahul| 55|300000|  INDIA|     m|\n|  7|    Raju| 67|540000|    USA|     m|\n|  8| Praveen| 28| 70000|  JAPAN|     m|\n|  9|     Dev| 32|150000|  JAPAN|     m|\n| 10|  Sherin| 16| 25000| RUSSIA|     f|\n| 11|    Ragu| 12| 35000|  INDIA|     f|\n| 12|   Sweta| 43|200000|  INDIA|     f|\n| 13| Raushan| 48|650000|    USA|     m|\n| 14|  Mukesh| 36| 95000| RUSSIA|     m|\n| 15| Prakash| 52|750000|  INDIA|     m|\n+---+--------+---+------+-------+------+\n\n"
     ]
    }
   ],
   "source": [
    "csv_df = spark.read.format(\"csv\").option(\"header\", 'true').option(\"inferSchema\", 'true').option(\"mode\", 'PERMISSIVE').load(\"/FileStore/tables/disk_part.csv\")\n",
    "\n",
    "csv_df.show()"
   ]
  },
  {
   "cell_type": "code",
   "execution_count": 0,
   "metadata": {
    "application/vnd.databricks.v1+cell": {
     "cellMetadata": {
      "byteLimit": 2048000,
      "rowLimit": 10000
     },
     "inputWidgets": {},
     "nuid": "371ba7e0-3880-4cf6-8494-8aaea33ecd45",
     "showTitle": false,
     "tableResultSettingsMap": {},
     "title": ""
    }
   },
   "outputs": [],
   "source": [
    "csv_df.write.format('csv')\\\n",
    "    .option('header', 'true')\\\n",
    "    .option('inferschhema', 'true')\\\n",
    "    .option('mode', 'overwrite')\\\n",
    "    .partitionBy('address', 'gender')\\\n",
    "    .option('path', '/FileStore/tables/address_gender_partition')\\\n",
    "    .save()"
   ]
  },
  {
   "cell_type": "code",
   "execution_count": 0,
   "metadata": {
    "application/vnd.databricks.v1+cell": {
     "cellMetadata": {
      "byteLimit": 2048000,
      "rowLimit": 10000
     },
     "inputWidgets": {},
     "nuid": "9f4169d2-ed40-4b46-8013-296d01e0fdbf",
     "showTitle": false,
     "tableResultSettingsMap": {},
     "title": ""
    }
   },
   "outputs": [
    {
     "output_type": "stream",
     "name": "stdout",
     "output_type": "stream",
     "text": [
      "Out[41]: [FileInfo(path='dbfs:/FileStore/tables/address_gender_partition/_SUCCESS', name='_SUCCESS', size=0, modificationTime=1745986997000),\n FileInfo(path='dbfs:/FileStore/tables/address_gender_partition/address=INDIA/', name='address=INDIA/', size=0, modificationTime=0),\n FileInfo(path='dbfs:/FileStore/tables/address_gender_partition/address=JAPAN/', name='address=JAPAN/', size=0, modificationTime=0),\n FileInfo(path='dbfs:/FileStore/tables/address_gender_partition/address=RUSSIA/', name='address=RUSSIA/', size=0, modificationTime=0),\n FileInfo(path='dbfs:/FileStore/tables/address_gender_partition/address=USA/', name='address=USA/', size=0, modificationTime=0)]"
     ]
    }
   ],
   "source": [
    "dbutils.fs.ls('/FileStore/tables/address_gender_partition')  "
   ]
  },
  {
   "cell_type": "code",
   "execution_count": 0,
   "metadata": {
    "application/vnd.databricks.v1+cell": {
     "cellMetadata": {
      "byteLimit": 2048000,
      "rowLimit": 10000
     },
     "inputWidgets": {},
     "nuid": "8caef68d-f79b-4860-9376-26bc8530a3d9",
     "showTitle": false,
     "tableResultSettingsMap": {},
     "title": ""
    }
   },
   "outputs": [
    {
     "output_type": "stream",
     "name": "stdout",
     "output_type": "stream",
     "text": [
      "Out[42]: [FileInfo(path='dbfs:/FileStore/tables/address_gender_partition/address=INDIA/gender=f/', name='gender=f/', size=0, modificationTime=0),\n FileInfo(path='dbfs:/FileStore/tables/address_gender_partition/address=INDIA/gender=m/', name='gender=m/', size=0, modificationTime=0)]"
     ]
    }
   ],
   "source": [
    "dbutils.fs.ls('dbfs:/FileStore/tables/address_gender_partition/address=INDIA/')  # inside address search for gender"
   ]
  },
  {
   "cell_type": "code",
   "execution_count": 0,
   "metadata": {
    "application/vnd.databricks.v1+cell": {
     "cellMetadata": {
      "byteLimit": 2048000,
      "rowLimit": 10000
     },
     "inputWidgets": {},
     "nuid": "f01d665e-265d-41ba-9f65-71be0da977fc",
     "showTitle": false,
     "tableResultSettingsMap": {},
     "title": ""
    }
   },
   "outputs": [],
   "source": [
    "csv_df.write.format('csv')\\\n",
    "    .option('header', 'true')\\\n",
    "    .option('inferschhema', 'true')\\\n",
    "    .option('mode', 'overwrite')\\\n",
    "    .bucketBy(4, 'id')\\\n",
    "    .option('path', '/FileStore/tables/bucket_id')\\\n",
    "    .saveAsTable('bucket_id_table')"
   ]
  },
  {
   "cell_type": "code",
   "execution_count": 0,
   "metadata": {
    "application/vnd.databricks.v1+cell": {
     "cellMetadata": {
      "byteLimit": 2048000,
      "rowLimit": 10000
     },
     "inputWidgets": {},
     "nuid": "cc02db88-8d66-4a1c-a4dd-c31b35e8269e",
     "showTitle": false,
     "tableResultSettingsMap": {},
     "title": ""
    }
   },
   "outputs": [
    {
     "output_type": "stream",
     "name": "stdout",
     "output_type": "stream",
     "text": [
      "Out[44]: [FileInfo(path='dbfs:/FileStore/tables/bucket_id/_SUCCESS', name='_SUCCESS', size=0, modificationTime=1745987059000),\n FileInfo(path='dbfs:/FileStore/tables/bucket_id/_committed_2027114794156935381', name='_committed_2027114794156935381', size=404, modificationTime=1745987059000),\n FileInfo(path='dbfs:/FileStore/tables/bucket_id/_started_2027114794156935381', name='_started_2027114794156935381', size=0, modificationTime=1745987058000),\n FileInfo(path='dbfs:/FileStore/tables/bucket_id/part-00000-tid-2027114794156935381-d19cf7a8-e4b5-428d-8819-0777a6ad7ac0-406-1_00000.c000.csv', name='part-00000-tid-2027114794156935381-d19cf7a8-e4b5-428d-8819-0777a6ad7ac0-406-1_00000.c000.csv', size=116, modificationTime=1745987058000),\n FileInfo(path='dbfs:/FileStore/tables/bucket_id/part-00000-tid-2027114794156935381-d19cf7a8-e4b5-428d-8819-0777a6ad7ac0-406-2_00001.c000.csv', name='part-00000-tid-2027114794156935381-d19cf7a8-e4b5-428d-8819-0777a6ad7ac0-406-2_00001.c000.csv', size=113, modificationTime=1745987059000),\n FileInfo(path='dbfs:/FileStore/tables/bucket_id/part-00000-tid-2027114794156935381-d19cf7a8-e4b5-428d-8819-0777a6ad7ac0-406-3_00002.c000.csv', name='part-00000-tid-2027114794156935381-d19cf7a8-e4b5-428d-8819-0777a6ad7ac0-406-3_00002.c000.csv', size=141, modificationTime=1745987059000),\n FileInfo(path='dbfs:/FileStore/tables/bucket_id/part-00000-tid-2027114794156935381-d19cf7a8-e4b5-428d-8819-0777a6ad7ac0-406-4_00003.c000.csv', name='part-00000-tid-2027114794156935381-d19cf7a8-e4b5-428d-8819-0777a6ad7ac0-406-4_00003.c000.csv', size=162, modificationTime=1745987059000)]"
     ]
    }
   ],
   "source": [
    "dbutils.fs.ls('/FileStore/tables/bucket_id')  "
   ]
  },
  {
   "cell_type": "code",
   "execution_count": 0,
   "metadata": {
    "application/vnd.databricks.v1+cell": {
     "cellMetadata": {
      "byteLimit": 2048000,
      "rowLimit": 10000
     },
     "inputWidgets": {},
     "nuid": "d5cc7816-7772-4ee0-bb5e-6205201b5a12",
     "showTitle": false,
     "tableResultSettingsMap": {},
     "title": ""
    }
   },
   "outputs": [
    {
     "output_type": "stream",
     "name": "stdout",
     "output_type": "stream",
     "text": [
      "+---+--------+---+------+------------+--------+\n| id|    name|age|salary|     address| nominee|\n+---+--------+---+------+------------+--------+\n|  1|  Manish| 26| 75000|       bihar|nominee1|\n|  2|  Nikita| 23|100000|uttarpradesh|nominee2|\n|  3|  Pritam| 22|150000|   Bangalore|   India|\n|  4|Prantosh| 17|200000|     Kolkata|   India|\n|  5|  Vikash| 31|300000|        null|nominee5|\n+---+--------+---+------+------------+--------+\n\n"
     ]
    }
   ],
   "source": [
    "emp_df = spark.read.format('csv').option('header', 'true').option('inferschema', 'true').option('mode', 'PERMISSIVE')\\\n",
    ".load(\"/FileStore/tables/employee.csv\")\n",
    "\n",
    "emp_df.show()"
   ]
  },
  {
   "cell_type": "code",
   "execution_count": 0,
   "metadata": {
    "application/vnd.databricks.v1+cell": {
     "cellMetadata": {
      "byteLimit": 2048000,
      "rowLimit": 10000
     },
     "inputWidgets": {},
     "nuid": "b51f3c1e-8372-4d51-88ca-bc2a02723dfa",
     "showTitle": false,
     "tableResultSettingsMap": {},
     "title": ""
    }
   },
   "outputs": [
    {
     "output_type": "stream",
     "name": "stdout",
     "output_type": "stream",
     "text": [
      "+---+--------+------+------------+\n| id|    name|salary|     address|\n+---+--------+------+------------+\n|  1|  Manish| 75000|       bihar|\n|  2|  Nikita|100000|uttarpradesh|\n|  3|  Pritam|150000|   Bangalore|\n|  4|Prantosh|200000|     Kolkata|\n|  5|  Vikash|300000|        null|\n+---+--------+------+------------+\n\n"
     ]
    }
   ],
   "source": [
    "emp_df.select(\"id\", col(\"name\"), emp_df[\"salary\"], emp_df.address).show()     "
   ]
  },
  {
   "cell_type": "code",
   "execution_count": 0,
   "metadata": {
    "application/vnd.databricks.v1+cell": {
     "cellMetadata": {
      "byteLimit": 2048000,
      "rowLimit": 10000
     },
     "inputWidgets": {},
     "nuid": "bea3a5d9-568c-4305-ad68-606f5453fa89",
     "showTitle": false,
     "tableResultSettingsMap": {},
     "title": ""
    }
   },
   "outputs": [
    {
     "output_type": "stream",
     "name": "stdout",
     "output_type": "stream",
     "text": [
      "+--------+\n|(id + 5)|\n+--------+\n|       6|\n|       7|\n|       8|\n|       9|\n|      10|\n+--------+\n\n"
     ]
    }
   ],
   "source": [
    "### use of expression => expr  =>   expr(\"\")\n",
    "\n",
    "emp_df.select(expr(\"id +5\")).show()"
   ]
  },
  {
   "cell_type": "code",
   "execution_count": 0,
   "metadata": {
    "application/vnd.databricks.v1+cell": {
     "cellMetadata": {
      "byteLimit": 2048000,
      "rowLimit": 10000
     },
     "inputWidgets": {},
     "nuid": "a08897a1-27b8-49da-bb3e-273f8fc879ab",
     "showTitle": false,
     "tableResultSettingsMap": {},
     "title": ""
    }
   },
   "outputs": [
    {
     "output_type": "stream",
     "name": "stdout",
     "output_type": "stream",
     "text": [
      "+------+--------+---------------------+\n|emp_id|emp_name|concat(name, address)|\n+------+--------+---------------------+\n|     1|  Manish|          Manishbihar|\n|     2|  Nikita|   Nikitauttarpradesh|\n|     3|  Pritam|      PritamBangalore|\n|     4|Prantosh|      PrantoshKolkata|\n|     5|  Vikash|                 null|\n+------+--------+---------------------+\n\n"
     ]
    }
   ],
   "source": [
    "emp_df.select(expr(\"id as emp_id\"), expr(\"name as emp_name\"), expr(\"concat(name, address)\")).show()"
   ]
  },
  {
   "cell_type": "code",
   "execution_count": 0,
   "metadata": {
    "application/vnd.databricks.v1+cell": {
     "cellMetadata": {
      "byteLimit": 2048000,
      "rowLimit": 10000
     },
     "inputWidgets": {},
     "nuid": "98fc9c7d-17ee-4094-8591-73d57af58128",
     "showTitle": false,
     "tableResultSettingsMap": {},
     "title": ""
    }
   },
   "outputs": [
    {
     "output_type": "stream",
     "name": "stdout",
     "output_type": "stream",
     "text": [
      "+-------+--------+---+\n|empl_id|    name|age|\n+-------+--------+---+\n|      1|  Manish| 26|\n|      2|  Nikita| 23|\n|      3|  Pritam| 22|\n|      4|Prantosh| 17|\n|      5|  Vikash| 31|\n+-------+--------+---+\n\n"
     ]
    }
   ],
   "source": [
    "emp_df.select(col('id').alias('empl_id'), 'name', 'age').show()"
   ]
  },
  {
   "cell_type": "code",
   "execution_count": 0,
   "metadata": {
    "application/vnd.databricks.v1+cell": {
     "cellMetadata": {
      "byteLimit": 2048000,
      "rowLimit": 10000
     },
     "inputWidgets": {},
     "nuid": "c5712750-f699-447a-bced-9dbe3b49a349",
     "showTitle": false,
     "tableResultSettingsMap": {},
     "title": ""
    }
   },
   "outputs": [
    {
     "output_type": "stream",
     "name": "stdout",
     "output_type": "stream",
     "text": [
      "+---+--------+---+------+-------+--------+\n| id|    name|age|salary|address| nominee|\n+---+--------+---+------+-------+--------+\n|  4|Prantosh| 17|200000|Kolkata|   India|\n|  5|  Vikash| 31|300000|   null|nominee5|\n+---+--------+---+------+-------+--------+\n\n"
     ]
    }
   ],
   "source": [
    "emp_df.where((col('salary') > 150000) | (col('age') <18)).show()"
   ]
  },
  {
   "cell_type": "code",
   "execution_count": 0,
   "metadata": {
    "application/vnd.databricks.v1+cell": {
     "cellMetadata": {
      "byteLimit": 2048000,
      "rowLimit": 10000
     },
     "inputWidgets": {},
     "nuid": "b66b08ea-b0aa-44bf-8315-579aaafa79eb",
     "showTitle": false,
     "tableResultSettingsMap": {},
     "title": ""
    }
   },
   "outputs": [
    {
     "output_type": "stream",
     "name": "stdout",
     "output_type": "stream",
     "text": [
      "+---+--------+---+------+------------+--------+-----+\n| id|    name|age|salary|     address| nominee|kumar|\n+---+--------+---+------+------------+--------+-----+\n|  1|  Manish| 26| 75000|       bihar|nominee1|kumar|\n|  2|  Nikita| 23|100000|uttarpradesh|nominee2|kumar|\n|  3|  Pritam| 22|150000|   Bangalore|   India|kumar|\n|  4|Prantosh| 17|200000|     Kolkata|   India|kumar|\n|  5|  Vikash| 31|300000|        null|nominee5|kumar|\n+---+--------+---+------+------------+--------+-----+\n\n"
     ]
    }
   ],
   "source": [
    "emp_df.select(\"*\", lit(\"kumar\")).show()"
   ]
  },
  {
   "cell_type": "code",
   "execution_count": 0,
   "metadata": {
    "application/vnd.databricks.v1+cell": {
     "cellMetadata": {
      "byteLimit": 2048000,
      "rowLimit": 10000
     },
     "inputWidgets": {},
     "nuid": "42afddd1-9483-4979-ab7a-347d03cf5d24",
     "showTitle": false,
     "tableResultSettingsMap": {},
     "title": ""
    }
   },
   "outputs": [
    {
     "output_type": "stream",
     "name": "stdout",
     "output_type": "stream",
     "text": [
      "+---+--------+---+------+------------+--------+---------+\n| id|    name|age|salary|     address| nominee|last_name|\n+---+--------+---+------+------------+--------+---------+\n|  1|  Manish| 26| 75000|       bihar|nominee1|    kumar|\n|  2|  Nikita| 23|100000|uttarpradesh|nominee2|    kumar|\n|  3|  Pritam| 22|150000|   Bangalore|   India|    kumar|\n|  4|Prantosh| 17|200000|     Kolkata|   India|    kumar|\n|  5|  Vikash| 31|300000|        null|nominee5|    kumar|\n+---+--------+---+------+------------+--------+---------+\n\n"
     ]
    }
   ],
   "source": [
    "emp_df.select(\"*\", lit(\"kumar\").alias('last_name')).show()"
   ]
  },
  {
   "cell_type": "code",
   "execution_count": 0,
   "metadata": {
    "application/vnd.databricks.v1+cell": {
     "cellMetadata": {
      "byteLimit": 2048000,
      "rowLimit": 10000
     },
     "inputWidgets": {},
     "nuid": "aa583741-be9b-469e-bcf4-74abb7fa408f",
     "showTitle": false,
     "tableResultSettingsMap": {},
     "title": ""
    }
   },
   "outputs": [
    {
     "output_type": "stream",
     "name": "stdout",
     "output_type": "stream",
     "text": [
      "+---+--------+---+------+------------+--------+-------+\n| id|    name|age|salary|     address| nominee|surname|\n+---+--------+---+------+------------+--------+-------+\n|  1|  Manish| 26| 75000|       bihar|nominee1|  singh|\n|  2|  Nikita| 23|100000|uttarpradesh|nominee2|  singh|\n|  3|  Pritam| 22|150000|   Bangalore|   India|  singh|\n|  4|Prantosh| 17|200000|     Kolkata|   India|  singh|\n|  5|  Vikash| 31|300000|        null|nominee5|  singh|\n+---+--------+---+------+------------+--------+-------+\n\n"
     ]
    }
   ],
   "source": [
    "emp_df.withColumn('surname', lit('singh')).show()"
   ]
  },
  {
   "cell_type": "code",
   "execution_count": 0,
   "metadata": {
    "application/vnd.databricks.v1+cell": {
     "cellMetadata": {
      "byteLimit": 2048000,
      "rowLimit": 10000
     },
     "inputWidgets": {},
     "nuid": "3c0428b9-d305-4752-80bf-8ece2c7c0732",
     "showTitle": false,
     "tableResultSettingsMap": {},
     "title": ""
    }
   },
   "outputs": [
    {
     "output_type": "stream",
     "name": "stdout",
     "output_type": "stream",
     "text": [
      "+------+--------+---+------+------------+--------+\n|emp_id|    name|age|salary|     address| nominee|\n+------+--------+---+------+------------+--------+\n|     1|  Manish| 26| 75000|       bihar|nominee1|\n|     2|  Nikita| 23|100000|uttarpradesh|nominee2|\n|     3|  Pritam| 22|150000|   Bangalore|   India|\n|     4|Prantosh| 17|200000|     Kolkata|   India|\n|     5|  Vikash| 31|300000|        null|nominee5|\n+------+--------+---+------+------------+--------+\n\n"
     ]
    }
   ],
   "source": [
    "new_emp_df = emp_df.withColumnRenamed('id', 'emp_id')\n",
    "new_emp_df.show()"
   ]
  },
  {
   "cell_type": "code",
   "execution_count": 0,
   "metadata": {
    "application/vnd.databricks.v1+cell": {
     "cellMetadata": {
      "byteLimit": 2048000,
      "rowLimit": 10000
     },
     "inputWidgets": {},
     "nuid": "30839744-7d51-4fff-9e56-a02987dba899",
     "showTitle": false,
     "tableResultSettingsMap": {},
     "title": ""
    }
   },
   "outputs": [
    {
     "output_type": "stream",
     "name": "stdout",
     "output_type": "stream",
     "text": [
      "root\n |-- emp_id: integer (nullable = true)\n |-- name: string (nullable = true)\n |-- age: integer (nullable = true)\n |-- salary: integer (nullable = true)\n |-- address: string (nullable = true)\n |-- nominee: string (nullable = true)\n\n"
     ]
    }
   ],
   "source": [
    "new_emp_df.printSchema()"
   ]
  },
  {
   "cell_type": "code",
   "execution_count": 0,
   "metadata": {
    "application/vnd.databricks.v1+cell": {
     "cellMetadata": {
      "byteLimit": 2048000,
      "rowLimit": 10000
     },
     "inputWidgets": {},
     "nuid": "175c5798-f176-4cd1-b6d9-9c78172e7934",
     "showTitle": false,
     "tableResultSettingsMap": {},
     "title": ""
    }
   },
   "outputs": [
    {
     "output_type": "stream",
     "name": "stdout",
     "output_type": "stream",
     "text": [
      "root\n |-- emp_id: string (nullable = true)\n |-- name: integer (nullable = true)\n |-- age: integer (nullable = true)\n |-- salary: integer (nullable = true)\n |-- address: string (nullable = true)\n |-- nominee: string (nullable = true)\n\n"
     ]
    }
   ],
   "source": [
    "## cast data type\n",
    "\n",
    "new_emp_df.withColumn('emp_id', col('emp_id').cast('string'))\\\n",
    "    .withColumn('name', col('name').cast('integer'))\\\n",
    "    .printSchema()"
   ]
  },
  {
   "cell_type": "code",
   "execution_count": 0,
   "metadata": {
    "application/vnd.databricks.v1+cell": {
     "cellMetadata": {
      "byteLimit": 2048000,
      "rowLimit": 10000
     },
     "inputWidgets": {},
     "nuid": "824dbe4a-6aa9-4a20-8eab-9a56cefbff35",
     "showTitle": false,
     "tableResultSettingsMap": {},
     "title": ""
    }
   },
   "outputs": [
    {
     "output_type": "stream",
     "name": "stdout",
     "output_type": "stream",
     "text": [
      "+--------+---+------------+--------+\n|    name|age|     address| nominee|\n+--------+---+------------+--------+\n|  Manish| 26|       bihar|nominee1|\n|  Nikita| 23|uttarpradesh|nominee2|\n|  Pritam| 22|   Bangalore|   India|\n|Prantosh| 17|     Kolkata|   India|\n|  Vikash| 31|        null|nominee5|\n+--------+---+------------+--------+\n\n"
     ]
    }
   ],
   "source": [
    "new_emp_df.drop('emp_id', col('salary')).show()"
   ]
  }
 ],
 "metadata": {
  "application/vnd.databricks.v1+notebook": {
   "computePreferences": null,
   "dashboards": [],
   "environmentMetadata": {
    "base_environment": "",
    "environment_version": "1"
   },
   "inputWidgetPreferences": null,
   "language": "python",
   "notebookMetadata": {
    "mostRecentlyExecutedCommandWithImplicitDF": {
     "commandId": 2083950833984024,
     "dataframes": [
      "_sqldf"
     ]
    },
    "pythonIndentUnit": 4
   },
   "notebookName": "summary_pyspark",
   "widgets": {}
  },
  "kernelspec": {
   "display_name": "Python 3 (ipykernel)",
   "language": "python",
   "name": "python3"
  },
  "language_info": {
   "codemirror_mode": {
    "name": "ipython",
    "version": 3
   },
   "file_extension": ".py",
   "mimetype": "text/x-python",
   "name": "python",
   "nbconvert_exporter": "python",
   "pygments_lexer": "ipython3",
   "version": "3.8.10"
  }
 },
 "nbformat": 4,
 "nbformat_minor": 0
}