{
 "cells": [
  {
   "cell_type": "code",
   "execution_count": 0,
   "metadata": {
    "application/vnd.databricks.v1+cell": {
     "cellMetadata": {
      "byteLimit": 2048000,
      "rowLimit": 10000
     },
     "inputWidgets": {},
     "nuid": "b10fa19c-36ee-44fe-8b0c-41702817747c",
     "showTitle": false,
     "tableResultSettingsMap": {},
     "title": ""
    }
   },
   "outputs": [
    {
     "output_type": "stream",
     "name": "stdout",
     "output_type": "stream",
     "text": [
      "+----------+------------+----------+-------+\n|product_id|product_name|sales_date|  sales|\n+----------+------------+----------+-------+\n|         2|     samsung|01-01-1995|  11000|\n|         1|      iphone|01-02-2023|1300000|\n|         2|     samsung|01-02-2023|1120000|\n|         3|     oneplus|01-02-2023|1120000|\n|         1|      iphone|01-03-2023|1600000|\n|         2|     samsung|01-03-2023|1080000|\n|         3|     oneplus|01-03-2023|1160000|\n|         1|      iphone|01-01-2006|  15000|\n|         1|      iphone|01-04-2023|1700000|\n|         2|     samsung|01-04-2023|1800000|\n|         3|     oneplus|01-04-2023|1170000|\n|         1|      iphone|01-05-2023|1200000|\n|         2|     samsung|01-05-2023| 980000|\n|         3|     oneplus|01-05-2023|1175000|\n|         1|      iphone|01-06-2023|1100000|\n|         3|     oneplus|01-01-2010|  23000|\n|         2|     samsung|01-06-2023|1100000|\n|         3|     oneplus|01-06-2023|1200000|\n+----------+------------+----------+-------+\n\n"
     ]
    }
   ],
   "source": [
    "from pyspark.sql.functions import *\n",
    "from pyspark.sql.types import *\n",
    "from pyspark.sql.window import Window\n",
    "\n",
    "product_data = [\n",
    "(2,\"samsung\",\"01-01-1995\",11000),\n",
    "(1,\"iphone\",\"01-02-2023\",1300000),\n",
    "(2,\"samsung\",\"01-02-2023\",1120000),\n",
    "(3,\"oneplus\",\"01-02-2023\",1120000),\n",
    "(1,\"iphone\",\"01-03-2023\",1600000),\n",
    "(2,\"samsung\",\"01-03-2023\",1080000),\n",
    "(3,\"oneplus\",\"01-03-2023\",1160000),\n",
    "(1,\"iphone\",\"01-01-2006\",15000),\n",
    "(1,\"iphone\",\"01-04-2023\",1700000),\n",
    "(2,\"samsung\",\"01-04-2023\",1800000),\n",
    "(3,\"oneplus\",\"01-04-2023\",1170000),\n",
    "(1,\"iphone\",\"01-05-2023\",1200000),\n",
    "(2,\"samsung\",\"01-05-2023\",980000),\n",
    "(3,\"oneplus\",\"01-05-2023\",1175000),\n",
    "(1,\"iphone\",\"01-06-2023\",1100000),\n",
    "(3,\"oneplus\",\"01-01-2010\",23000),\n",
    "(2,\"samsung\",\"01-06-2023\",1100000),\n",
    "(3,\"oneplus\",\"01-06-2023\",1200000)\n",
    "]\n",
    "\n",
    "product_schema=[\"product_id\",\"product_name\",\"sales_date\",\"sales\"]\n",
    "\n",
    "product_df = spark.createDataFrame(data=product_data,schema=product_schema)\n",
    "\n",
    "product_df.show()"
   ]
  },
  {
   "cell_type": "code",
   "execution_count": 0,
   "metadata": {
    "application/vnd.databricks.v1+cell": {
     "cellMetadata": {
      "byteLimit": 2048000,
      "rowLimit": 10000
     },
     "inputWidgets": {},
     "nuid": "64a4769f-3640-4936-a5f4-c494f735845d",
     "showTitle": false,
     "tableResultSettingsMap": {},
     "title": ""
    }
   },
   "outputs": [
    {
     "output_type": "stream",
     "name": "stdout",
     "output_type": "stream",
     "text": [
      "+----------+------------+----------+-------+---------+--------+\n|product_id|product_name|sales_date|  sales|first_val|last_val|\n+----------+------------+----------+-------+---------+--------+\n|         1|      iphone|01-01-2006|  15000|    15000|   15000|\n|         1|      iphone|01-02-2023|1300000|    15000| 1300000|\n|         1|      iphone|01-03-2023|1600000|    15000| 1600000|\n|         1|      iphone|01-04-2023|1700000|    15000| 1700000|\n|         1|      iphone|01-05-2023|1200000|    15000| 1200000|\n|         1|      iphone|01-06-2023|1100000|    15000| 1100000|\n|         2|     samsung|01-01-1995|  11000|    11000|   11000|\n|         2|     samsung|01-02-2023|1120000|    11000| 1120000|\n|         2|     samsung|01-03-2023|1080000|    11000| 1080000|\n|         2|     samsung|01-04-2023|1800000|    11000| 1800000|\n|         2|     samsung|01-05-2023| 980000|    11000|  980000|\n|         2|     samsung|01-06-2023|1100000|    11000| 1100000|\n|         3|     oneplus|01-01-2010|  23000|    23000|   23000|\n|         3|     oneplus|01-02-2023|1120000|    23000| 1120000|\n|         3|     oneplus|01-03-2023|1160000|    23000| 1160000|\n|         3|     oneplus|01-04-2023|1170000|    23000| 1170000|\n|         3|     oneplus|01-05-2023|1175000|    23000| 1175000|\n|         3|     oneplus|01-06-2023|1200000|    23000| 1200000|\n+----------+------------+----------+-------+---------+--------+\n\n"
     ]
    }
   ],
   "source": [
    "window1 = Window.partitionBy('product_id').orderBy('sales_date')\n",
    "\n",
    "product_df.withColumn('first_val', first('sales').over(window1))\\\n",
    "    .withColumn('last_val', last('sales').over(window1)).show()"
   ]
  },
  {
   "cell_type": "code",
   "execution_count": 0,
   "metadata": {
    "application/vnd.databricks.v1+cell": {
     "cellMetadata": {
      "byteLimit": 2048000,
      "rowLimit": 10000
     },
     "inputWidgets": {},
     "nuid": "341a658e-d797-44d0-b230-4c8eddf1da1c",
     "showTitle": false,
     "tableResultSettingsMap": {},
     "title": ""
    }
   },
   "outputs": [
    {
     "output_type": "stream",
     "name": "stdout",
     "output_type": "stream",
     "text": [
      "== Physical Plan ==\nAdaptiveSparkPlan isFinalPlan=false\n+- Window [product_id#3980L, product_name#3981, sales_date#3982, sales#3983L, first(sales#3983L, false) windowspecdefinition(product_id#3980L, sales_date#3982 ASC NULLS FIRST, specifiedwindowframe(RangeFrame, unboundedpreceding$(), currentrow$())) AS first_val#4108L, last(sales#3983L, false) windowspecdefinition(product_id#3980L, sales_date#3982 ASC NULLS FIRST, specifiedwindowframe(RangeFrame, unboundedpreceding$(), currentrow$())) AS last_val#4115L], [product_id#3980L], [sales_date#3982 ASC NULLS FIRST]\n   +- Sort [product_id#3980L ASC NULLS FIRST, sales_date#3982 ASC NULLS FIRST], false, 0\n      +- Exchange hashpartitioning(product_id#3980L, 200), ENSURE_REQUIREMENTS, [plan_id=7344]\n         +- Scan ExistingRDD[product_id#3980L,product_name#3981,sales_date#3982,sales#3983L]\n\n\n"
     ]
    }
   ],
   "source": [
    "window1 = Window.partitionBy('product_id').orderBy('sales_date')\n",
    "\n",
    "product_df.withColumn('first_val', first('sales').over(window1))\\\n",
    "    .withColumn('last_val', last('sales').over(window1)).explain()"
   ]
  },
  {
   "cell_type": "code",
   "execution_count": 0,
   "metadata": {
    "application/vnd.databricks.v1+cell": {
     "cellMetadata": {
      "byteLimit": 2048000,
      "rowLimit": 10000
     },
     "inputWidgets": {},
     "nuid": "565afd1f-43d1-47df-aca0-007a5e71fe8f",
     "showTitle": false,
     "tableResultSettingsMap": {},
     "title": ""
    }
   },
   "outputs": [
    {
     "output_type": "stream",
     "name": "stdout",
     "output_type": "stream",
     "text": [
      "+----------+------------+----------+-------+---------+--------+\n|product_id|product_name|sales_date|  sales|first_val|last_val|\n+----------+------------+----------+-------+---------+--------+\n|         1|      iphone|01-01-2006|  15000|    15000| 1100000|\n|         1|      iphone|01-02-2023|1300000|    15000| 1100000|\n|         1|      iphone|01-03-2023|1600000|    15000| 1100000|\n|         1|      iphone|01-04-2023|1700000|    15000| 1100000|\n|         1|      iphone|01-05-2023|1200000|    15000| 1100000|\n|         1|      iphone|01-06-2023|1100000|    15000| 1100000|\n|         2|     samsung|01-01-1995|  11000|    11000| 1100000|\n|         2|     samsung|01-02-2023|1120000|    11000| 1100000|\n|         2|     samsung|01-03-2023|1080000|    11000| 1100000|\n|         2|     samsung|01-04-2023|1800000|    11000| 1100000|\n|         2|     samsung|01-05-2023| 980000|    11000| 1100000|\n|         2|     samsung|01-06-2023|1100000|    11000| 1100000|\n|         3|     oneplus|01-01-2010|  23000|    23000| 1200000|\n|         3|     oneplus|01-02-2023|1120000|    23000| 1200000|\n|         3|     oneplus|01-03-2023|1160000|    23000| 1200000|\n|         3|     oneplus|01-04-2023|1170000|    23000| 1200000|\n|         3|     oneplus|01-05-2023|1175000|    23000| 1200000|\n|         3|     oneplus|01-06-2023|1200000|    23000| 1200000|\n+----------+------------+----------+-------+---------+--------+\n\n"
     ]
    }
   ],
   "source": [
    "window1 = Window.partitionBy('product_id').orderBy('sales_date').rowsBetween(Window.unboundedPreceding, Window.unboundedFollowing)\n",
    "\n",
    "f_l_df = product_df.withColumn('first_val', first('sales').over(window1))\\\n",
    "    .withColumn('last_val', last('sales').over(window1))\n",
    "\n",
    "f_l_df.show()"
   ]
  },
  {
   "cell_type": "code",
   "execution_count": 0,
   "metadata": {
    "application/vnd.databricks.v1+cell": {
     "cellMetadata": {
      "byteLimit": 2048000,
      "rowLimit": 10000
     },
     "inputWidgets": {},
     "nuid": "9637aa6f-6a6e-40f1-81cb-15a5931eeed2",
     "showTitle": false,
     "tableResultSettingsMap": {},
     "title": ""
    }
   },
   "outputs": [
    {
     "output_type": "stream",
     "name": "stdout",
     "output_type": "stream",
     "text": [
      "+----------+------------+----------+-------+---------+--------+-------------+\n|product_id|product_name|sales_date|  sales|first_val|last_val|diff_in_sales|\n+----------+------------+----------+-------+---------+--------+-------------+\n|         1|      iphone|01-01-2006|  15000|    15000| 1100000|     -1085000|\n|         1|      iphone|01-02-2023|1300000|    15000| 1100000|     -1085000|\n|         1|      iphone|01-03-2023|1600000|    15000| 1100000|     -1085000|\n|         1|      iphone|01-04-2023|1700000|    15000| 1100000|     -1085000|\n|         1|      iphone|01-05-2023|1200000|    15000| 1100000|     -1085000|\n|         1|      iphone|01-06-2023|1100000|    15000| 1100000|     -1085000|\n|         2|     samsung|01-01-1995|  11000|    11000| 1100000|     -1089000|\n|         2|     samsung|01-02-2023|1120000|    11000| 1100000|     -1089000|\n|         2|     samsung|01-03-2023|1080000|    11000| 1100000|     -1089000|\n|         2|     samsung|01-04-2023|1800000|    11000| 1100000|     -1089000|\n|         2|     samsung|01-05-2023| 980000|    11000| 1100000|     -1089000|\n|         2|     samsung|01-06-2023|1100000|    11000| 1100000|     -1089000|\n|         3|     oneplus|01-01-2010|  23000|    23000| 1200000|     -1177000|\n|         3|     oneplus|01-02-2023|1120000|    23000| 1200000|     -1177000|\n|         3|     oneplus|01-03-2023|1160000|    23000| 1200000|     -1177000|\n|         3|     oneplus|01-04-2023|1170000|    23000| 1200000|     -1177000|\n|         3|     oneplus|01-05-2023|1175000|    23000| 1200000|     -1177000|\n|         3|     oneplus|01-06-2023|1200000|    23000| 1200000|     -1177000|\n+----------+------------+----------+-------+---------+--------+-------------+\n\n"
     ]
    }
   ],
   "source": [
    "# diff in sales for each product from their 1st month sales to latest sales\n",
    "\n",
    "f_l_df.withColumn('diff_in_sales', (col('first_val')-col('last_val'))).show()"
   ]
  },
  {
   "cell_type": "code",
   "execution_count": 0,
   "metadata": {
    "application/vnd.databricks.v1+cell": {
     "cellMetadata": {
      "byteLimit": 2048000,
      "rowLimit": 10000
     },
     "inputWidgets": {},
     "nuid": "0e802ece-354e-47db-a00c-90f103f492b3",
     "showTitle": false,
     "tableResultSettingsMap": {},
     "title": ""
    }
   },
   "outputs": [
    {
     "output_type": "stream",
     "name": "stdout",
     "output_type": "stream",
     "text": [
      "+---+------+----------+-----+\n| id|  name|      date| time|\n+---+------+----------+-----+\n|  1|manish|11-07-2023|10:20|\n|  1|manish|11-07-2023|11:20|\n|  2|rajesh|11-07-2023|11:20|\n|  1|manish|11-07-2023|11:50|\n|  2|rajesh|11-07-2023|13:20|\n|  1|manish|11-07-2023|19:20|\n|  2|rajesh|11-07-2023|17:20|\n|  1|manish|12-07-2023|10:32|\n|  1|manish|12-07-2023|12:20|\n|  3|vikash|12-07-2023|09:12|\n|  1|manish|12-07-2023|16:23|\n|  3|vikash|12-07-2023|18:08|\n+---+------+----------+-----+\n\n"
     ]
    }
   ],
   "source": [
    "emp_data = [(1,\"manish\",\"11-07-2023\",\"10:20\"),\n",
    "        (1,\"manish\",\"11-07-2023\",\"11:20\"),\n",
    "        (2,\"rajesh\",\"11-07-2023\",\"11:20\"),\n",
    "        (1,\"manish\",\"11-07-2023\",\"11:50\"),\n",
    "        (2,\"rajesh\",\"11-07-2023\",\"13:20\"),\n",
    "        (1,\"manish\",\"11-07-2023\",\"19:20\"),\n",
    "        (2,\"rajesh\",\"11-07-2023\",\"17:20\"),\n",
    "        (1,\"manish\",\"12-07-2023\",\"10:32\"),\n",
    "        (1,\"manish\",\"12-07-2023\",\"12:20\"),\n",
    "        (3,\"vikash\",\"12-07-2023\",\"09:12\"),\n",
    "        (1,\"manish\",\"12-07-2023\",\"16:23\"),\n",
    "        (3,\"vikash\",\"12-07-2023\",\"18:08\")]\n",
    "\n",
    "emp_schema = [\"id\", \"name\", \"date\", \"time\"]\n",
    "emp_df = spark.createDataFrame(data=emp_data, schema=emp_schema)\n",
    "\n",
    "emp_df.show()"
   ]
  },
  {
   "cell_type": "code",
   "execution_count": 0,
   "metadata": {
    "application/vnd.databricks.v1+cell": {
     "cellMetadata": {
      "byteLimit": 2048000,
      "rowLimit": 10000
     },
     "inputWidgets": {},
     "nuid": "a8953787-483f-4a2b-a850-e69904e37f33",
     "showTitle": false,
     "tableResultSettingsMap": {},
     "title": ""
    }
   },
   "outputs": [
    {
     "output_type": "stream",
     "name": "stdout",
     "output_type": "stream",
     "text": [
      "+---+------+----------+-----+-------------------+\n| id|  name|      date| time|          timestamp|\n+---+------+----------+-----+-------------------+\n|  1|manish|11-07-2023|10:20|2023-07-11 10:20:00|\n|  1|manish|11-07-2023|11:20|2023-07-11 11:20:00|\n|  2|rajesh|11-07-2023|11:20|2023-07-11 11:20:00|\n|  1|manish|11-07-2023|11:50|2023-07-11 11:50:00|\n|  2|rajesh|11-07-2023|13:20|2023-07-11 13:20:00|\n|  1|manish|11-07-2023|19:20|2023-07-11 19:20:00|\n|  2|rajesh|11-07-2023|17:20|2023-07-11 17:20:00|\n|  1|manish|12-07-2023|10:32|2023-07-12 10:32:00|\n|  1|manish|12-07-2023|12:20|2023-07-12 12:20:00|\n|  3|vikash|12-07-2023|09:12|2023-07-12 09:12:00|\n|  1|manish|12-07-2023|16:23|2023-07-12 16:23:00|\n|  3|vikash|12-07-2023|18:08|2023-07-12 18:08:00|\n+---+------+----------+-----+-------------------+\n\n"
     ]
    }
   ],
   "source": [
    "## send email to employee who have not completed 8 hours\n",
    "\n",
    "emp_t_df = emp_df.withColumn('timestamp', from_unixtime(unix_timestamp(expr('CONCAT(date, \" \", time)'), 'dd-MM-yyyy HH:mm')))\n",
    "\n",
    "emp_t_df.show()"
   ]
  },
  {
   "cell_type": "code",
   "execution_count": 0,
   "metadata": {
    "application/vnd.databricks.v1+cell": {
     "cellMetadata": {
      "byteLimit": 2048000,
      "rowLimit": 10000
     },
     "inputWidgets": {},
     "nuid": "0ae43686-69f2-478e-b3b8-a27281b2be58",
     "showTitle": false,
     "tableResultSettingsMap": {},
     "title": ""
    }
   },
   "outputs": [
    {
     "output_type": "stream",
     "name": "stdout",
     "output_type": "stream",
     "text": [
      "root\n |-- id: long (nullable = true)\n |-- name: string (nullable = true)\n |-- date: string (nullable = true)\n |-- time: string (nullable = true)\n |-- timestamp: string (nullable = true)\n |-- login: string (nullable = true)\n |-- logout: string (nullable = true)\n |-- total_time: double (nullable = true)\n\n"
     ]
    }
   ],
   "source": [
    "window1 = Window.partitionBy('id', 'date').orderBy('date').rowsBetween(Window.unboundedPreceding, Window.unboundedFollowing)\n",
    "\n",
    "emp_t_df.withColumn(\"login\", first('timestamp').over(window1))\\\n",
    "    .withColumn(\"logout\", last('timestamp').over(window1))\\\n",
    "        .withColumn('total_time', (col('logout')-col('login'))).printSchema()\n"
   ]
  },
  {
   "cell_type": "code",
   "execution_count": 0,
   "metadata": {
    "application/vnd.databricks.v1+cell": {
     "cellMetadata": {
      "byteLimit": 2048000,
      "rowLimit": 10000
     },
     "inputWidgets": {},
     "nuid": "81918f4e-c2af-450b-99ac-3f163c9de7cd",
     "showTitle": false,
     "tableResultSettingsMap": {},
     "title": ""
    }
   },
   "outputs": [
    {
     "output_type": "stream",
     "name": "stdout",
     "output_type": "stream",
     "text": [
      "+---+------+----------+-----+-------------------+-------------------+-------------------+----------+\n| id|  name|      date| time|          timestamp|              login|             logout|total_time|\n+---+------+----------+-----+-------------------+-------------------+-------------------+----------+\n|  1|manish|11-07-2023|10:20|2023-07-11 10:20:00|2023-07-11 10:20:00|2023-07-11 19:20:00|      null|\n|  1|manish|11-07-2023|11:20|2023-07-11 11:20:00|2023-07-11 10:20:00|2023-07-11 19:20:00|      null|\n|  1|manish|11-07-2023|11:50|2023-07-11 11:50:00|2023-07-11 10:20:00|2023-07-11 19:20:00|      null|\n|  1|manish|11-07-2023|19:20|2023-07-11 19:20:00|2023-07-11 10:20:00|2023-07-11 19:20:00|      null|\n|  1|manish|12-07-2023|10:32|2023-07-12 10:32:00|2023-07-12 10:32:00|2023-07-12 16:23:00|      null|\n|  1|manish|12-07-2023|12:20|2023-07-12 12:20:00|2023-07-12 10:32:00|2023-07-12 16:23:00|      null|\n|  1|manish|12-07-2023|16:23|2023-07-12 16:23:00|2023-07-12 10:32:00|2023-07-12 16:23:00|      null|\n|  2|rajesh|11-07-2023|11:20|2023-07-11 11:20:00|2023-07-11 11:20:00|2023-07-11 17:20:00|      null|\n|  2|rajesh|11-07-2023|13:20|2023-07-11 13:20:00|2023-07-11 11:20:00|2023-07-11 17:20:00|      null|\n|  2|rajesh|11-07-2023|17:20|2023-07-11 17:20:00|2023-07-11 11:20:00|2023-07-11 17:20:00|      null|\n|  3|vikash|12-07-2023|09:12|2023-07-12 09:12:00|2023-07-12 09:12:00|2023-07-12 18:08:00|      null|\n|  3|vikash|12-07-2023|18:08|2023-07-12 18:08:00|2023-07-12 09:12:00|2023-07-12 18:08:00|      null|\n+---+------+----------+-----+-------------------+-------------------+-------------------+----------+\n\n"
     ]
    }
   ],
   "source": [
    "window1 = Window.partitionBy('id', 'date').orderBy('date').rowsBetween(Window.unboundedPreceding, Window.unboundedFollowing)\n",
    "\n",
    "log_df = emp_t_df.withColumn(\"login\", first('timestamp').over(window1))\\\n",
    "    .withColumn(\"logout\", last('timestamp').over(window1))\\\n",
    "        .withColumn('total_time', (col('logout')-col('login')))\n",
    "\n",
    "log_df.show()\n"
   ]
  },
  {
   "cell_type": "code",
   "execution_count": 0,
   "metadata": {
    "application/vnd.databricks.v1+cell": {
     "cellMetadata": {
      "byteLimit": 2048000,
      "rowLimit": 10000
     },
     "inputWidgets": {},
     "nuid": "c3ea360e-32d9-41b6-b200-d1616328be8f",
     "showTitle": false,
     "tableResultSettingsMap": {},
     "title": ""
    }
   },
   "outputs": [
    {
     "output_type": "stream",
     "name": "stdout",
     "output_type": "stream",
     "text": [
      "root\n |-- id: long (nullable = true)\n |-- name: string (nullable = true)\n |-- date: string (nullable = true)\n |-- time: string (nullable = true)\n |-- timestamp: string (nullable = true)\n |-- login: timestamp (nullable = true)\n |-- logout: timestamp (nullable = true)\n |-- total_time: interval day to second (nullable = true)\n\n"
     ]
    }
   ],
   "source": [
    "window1 = Window.partitionBy('id', 'date').orderBy('date').rowsBetween(Window.unboundedPreceding, Window.unboundedFollowing)\n",
    "\n",
    "total_df = emp_t_df.withColumn(\"login\", first('timestamp').over(window1))\\\n",
    "    .withColumn(\"logout\", last('timestamp').over(window1))\\\n",
    "    .withColumn('login', to_timestamp(\"login\", 'yyyy-MM-dd HH:mm:ss'))\\\n",
    "    .withColumn('logout', to_timestamp(\"logout\", 'yyyy-MM-dd HH:mm:ss'))\\\n",
    "    .withColumn('total_time', (col('logout')-col('login')))\n",
    "    \n",
    "total_df.printSchema()\n"
   ]
  },
  {
   "cell_type": "code",
   "execution_count": 0,
   "metadata": {
    "application/vnd.databricks.v1+cell": {
     "cellMetadata": {
      "byteLimit": 2048000,
      "rowLimit": 10000
     },
     "inputWidgets": {},
     "nuid": "a31f6699-e5b2-44e1-9741-30f255958518",
     "showTitle": false,
     "tableResultSettingsMap": {},
     "title": ""
    }
   },
   "outputs": [
    {
     "output_type": "stream",
     "name": "stdout",
     "output_type": "stream",
     "text": [
      "+---+------+----------+-----+-------------------+-------------------+-------------------+--------------------+\n| id|  name|      date| time|          timestamp|              login|             logout|          total_time|\n+---+------+----------+-----+-------------------+-------------------+-------------------+--------------------+\n|  1|manish|11-07-2023|10:20|2023-07-11 10:20:00|2023-07-11 10:20:00|2023-07-11 19:20:00|INTERVAL '0 09:00...|\n|  1|manish|11-07-2023|11:20|2023-07-11 11:20:00|2023-07-11 10:20:00|2023-07-11 19:20:00|INTERVAL '0 09:00...|\n|  1|manish|11-07-2023|11:50|2023-07-11 11:50:00|2023-07-11 10:20:00|2023-07-11 19:20:00|INTERVAL '0 09:00...|\n|  1|manish|11-07-2023|19:20|2023-07-11 19:20:00|2023-07-11 10:20:00|2023-07-11 19:20:00|INTERVAL '0 09:00...|\n|  1|manish|12-07-2023|10:32|2023-07-12 10:32:00|2023-07-12 10:32:00|2023-07-12 16:23:00|INTERVAL '0 05:51...|\n|  1|manish|12-07-2023|12:20|2023-07-12 12:20:00|2023-07-12 10:32:00|2023-07-12 16:23:00|INTERVAL '0 05:51...|\n|  1|manish|12-07-2023|16:23|2023-07-12 16:23:00|2023-07-12 10:32:00|2023-07-12 16:23:00|INTERVAL '0 05:51...|\n|  2|rajesh|11-07-2023|11:20|2023-07-11 11:20:00|2023-07-11 11:20:00|2023-07-11 17:20:00|INTERVAL '0 06:00...|\n|  2|rajesh|11-07-2023|13:20|2023-07-11 13:20:00|2023-07-11 11:20:00|2023-07-11 17:20:00|INTERVAL '0 06:00...|\n|  2|rajesh|11-07-2023|17:20|2023-07-11 17:20:00|2023-07-11 11:20:00|2023-07-11 17:20:00|INTERVAL '0 06:00...|\n|  3|vikash|12-07-2023|09:12|2023-07-12 09:12:00|2023-07-12 09:12:00|2023-07-12 18:08:00|INTERVAL '0 08:56...|\n|  3|vikash|12-07-2023|18:08|2023-07-12 18:08:00|2023-07-12 09:12:00|2023-07-12 18:08:00|INTERVAL '0 08:56...|\n+---+------+----------+-----+-------------------+-------------------+-------------------+--------------------+\n\n"
     ]
    }
   ],
   "source": [
    "window1 = Window.partitionBy('id', 'date').orderBy('date').rowsBetween(Window.unboundedPreceding, Window.unboundedFollowing)\n",
    "\n",
    "total_df = emp_t_df.withColumn(\"login\", first('timestamp').over(window1))\\\n",
    "    .withColumn(\"logout\", last('timestamp').over(window1))\\\n",
    "    .withColumn('login', to_timestamp(\"login\", 'yyyy-MM-dd HH:mm:ss'))\\\n",
    "    .withColumn('logout', to_timestamp(\"logout\", 'yyyy-MM-dd HH:mm:ss'))\\\n",
    "    .withColumn('total_time', (col('logout')-col('login')))\n",
    "    \n",
    "total_df.show()\n"
   ]
  },
  {
   "cell_type": "code",
   "execution_count": 0,
   "metadata": {
    "application/vnd.databricks.v1+cell": {
     "cellMetadata": {
      "byteLimit": 2048000,
      "rowLimit": 10000
     },
     "inputWidgets": {},
     "nuid": "5d9e8644-4389-4517-8bfd-a564460a4ddb",
     "showTitle": false,
     "tableResultSettingsMap": {},
     "title": ""
    }
   },
   "outputs": [
    {
     "output_type": "stream",
     "name": "stdout",
     "output_type": "stream",
     "text": [
      "+---+------+----------+--------------------+\n| id|  name|      date|          total_time|\n+---+------+----------+--------------------+\n|  1|manish|11-07-2023|INTERVAL '0 09:00...|\n|  1|manish|12-07-2023|INTERVAL '0 05:51...|\n|  2|rajesh|11-07-2023|INTERVAL '0 06:00...|\n|  3|vikash|12-07-2023|INTERVAL '0 08:56...|\n+---+------+----------+--------------------+\n\n"
     ]
    }
   ],
   "source": [
    "total_df.select('id', 'name', 'date', 'total_time').distinct().show()    # send email to those"
   ]
  },
  {
   "cell_type": "code",
   "execution_count": 0,
   "metadata": {
    "application/vnd.databricks.v1+cell": {
     "cellMetadata": {
      "byteLimit": 2048000,
      "rowLimit": 10000
     },
     "inputWidgets": {},
     "nuid": "47551d87-c088-4a79-a3e7-996fd558d5a8",
     "showTitle": false,
     "tableResultSettingsMap": {},
     "title": ""
    }
   },
   "outputs": [
    {
     "output_type": "stream",
     "name": "stdout",
     "output_type": "stream",
     "text": [
      "+----------+------------+----------+-------+\n|product_id|product_name|sales_date|  sales|\n+----------+------------+----------+-------+\n|         1|      iphone|01-01-2023|1500000|\n|         2|     samsung|01-01-2023|1100000|\n|         3|     oneplus|01-01-2023|1100000|\n|         1|      iphone|01-02-2023|1300000|\n|         2|     samsung|01-02-2023|1120000|\n|         3|     oneplus|01-02-2023|1120000|\n|         1|      iphone|01-03-2023|1600000|\n|         2|     samsung|01-03-2023|1080000|\n|         3|     oneplus|01-03-2023|1160000|\n|         1|      iphone|01-04-2023|1700000|\n|         2|     samsung|01-04-2023|1800000|\n|         3|     oneplus|01-04-2023|1170000|\n|         1|      iphone|01-05-2023|1200000|\n|         2|     samsung|01-05-2023| 980000|\n|         3|     oneplus|01-05-2023|1175000|\n|         1|      iphone|01-06-2023|1100000|\n|         2|     samsung|01-06-2023|1100000|\n|         3|     oneplus|01-06-2023|1200000|\n+----------+------------+----------+-------+\n\n"
     ]
    }
   ],
   "source": [
    "product_data = [\n",
    "(1,\"iphone\",\"01-01-2023\",1500000),\n",
    "(2,\"samsung\",\"01-01-2023\",1100000),\n",
    "(3,\"oneplus\",\"01-01-2023\",1100000),\n",
    "(1,\"iphone\",\"01-02-2023\",1300000),\n",
    "(2,\"samsung\",\"01-02-2023\",1120000),\n",
    "(3,\"oneplus\",\"01-02-2023\",1120000),\n",
    "(1,\"iphone\",\"01-03-2023\",1600000),\n",
    "(2,\"samsung\",\"01-03-2023\",1080000),\n",
    "(3,\"oneplus\",\"01-03-2023\",1160000),\n",
    "(1,\"iphone\",\"01-04-2023\",1700000),\n",
    "(2,\"samsung\",\"01-04-2023\",1800000),\n",
    "(3,\"oneplus\",\"01-04-2023\",1170000),\n",
    "(1,\"iphone\",\"01-05-2023\",1200000),\n",
    "(2,\"samsung\",\"01-05-2023\",980000),\n",
    "(3,\"oneplus\",\"01-05-2023\",1175000),\n",
    "(1,\"iphone\",\"01-06-2023\",1100000),\n",
    "(2,\"samsung\",\"01-06-2023\",1100000),\n",
    "(3,\"oneplus\",\"01-06-2023\",1200000)\n",
    "]\n",
    "\n",
    "product_schema=[\"product_id\",\"product_name\",\"sales_date\",\"sales\"]\n",
    "\n",
    "product_df = spark.createDataFrame(data=product_data,schema=product_schema) \n",
    "product_df.show()"
   ]
  },
  {
   "cell_type": "code",
   "execution_count": 0,
   "metadata": {
    "application/vnd.databricks.v1+cell": {
     "cellMetadata": {
      "byteLimit": 2048000,
      "rowLimit": 10000
     },
     "inputWidgets": {},
     "nuid": "5210408d-863d-4f4d-8c90-9bfc2058292b",
     "showTitle": false,
     "tableResultSettingsMap": {},
     "title": ""
    }
   },
   "outputs": [
    {
     "output_type": "stream",
     "name": "stdout",
     "output_type": "stream",
     "text": [
      "+----------+------------+----------+-------+---------+\n|product_id|product_name|sales_date|  sales|total_sum|\n+----------+------------+----------+-------+---------+\n|         1|      iphone|01-01-2023|1500000|  1500000|\n|         1|      iphone|01-02-2023|1300000|  2800000|\n|         1|      iphone|01-03-2023|1600000|  4400000|\n|         1|      iphone|01-04-2023|1700000|  4600000|\n|         1|      iphone|01-05-2023|1200000|  4500000|\n|         1|      iphone|01-06-2023|1100000|  4000000|\n|         2|     samsung|01-01-2023|1100000|  1100000|\n|         2|     samsung|01-02-2023|1120000|  2220000|\n|         2|     samsung|01-03-2023|1080000|  3300000|\n|         2|     samsung|01-04-2023|1800000|  4000000|\n|         2|     samsung|01-05-2023| 980000|  3860000|\n|         2|     samsung|01-06-2023|1100000|  3880000|\n|         3|     oneplus|01-01-2023|1100000|  1100000|\n|         3|     oneplus|01-02-2023|1120000|  2220000|\n|         3|     oneplus|01-03-2023|1160000|  3380000|\n|         3|     oneplus|01-04-2023|1170000|  3450000|\n|         3|     oneplus|01-05-2023|1175000|  3505000|\n|         3|     oneplus|01-06-2023|1200000|  3545000|\n+----------+------------+----------+-------+---------+\n\n"
     ]
    }
   ],
   "source": [
    "## performance of sales based on last 3 months avg [drop 1st 2 records for each product then divide by 3]\n",
    "\n",
    "wind1 = Window.partitionBy('product_id').orderBy('sales_date').rowsBetween(-2, 0)\n",
    "\n",
    "product_df.withColumn(\"total_sum\", sum('sales').over(wind1)).show()"
   ]
  }
 ],
 "metadata": {
  "application/vnd.databricks.v1+notebook": {
   "computePreferences": null,
   "dashboards": [],
   "environmentMetadata": {
    "base_environment": "",
    "environment_version": "1"
   },
   "inputWidgetPreferences": null,
   "language": "python",
   "notebookMetadata": {
    "pythonIndentUnit": 4
   },
   "notebookName": "rows_range_between",
   "widgets": {}
  }
 },
 "nbformat": 4,
 "nbformat_minor": 0
}