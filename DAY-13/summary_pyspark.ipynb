{
 "cells": [
  {
   "cell_type": "code",
   "execution_count": 0,
   "metadata": {
    "application/vnd.databricks.v1+cell": {
     "cellMetadata": {
      "byteLimit": 2048000,
      "rowLimit": 10000
     },
     "inputWidgets": {},
     "nuid": "97001161-4f3c-4487-a626-6fce6b112c71",
     "showTitle": false,
     "tableResultSettingsMap": {},
     "title": ""
    }
   },
   "outputs": [
    {
     "output_type": "stream",
     "name": "stdout",
     "output_type": "stream",
     "text": [
      "root\n |-- DEST_COUNTRY_NAME: string (nullable = true)\n |-- ORIGIN_COUNTRY_NAME: string (nullable = true)\n |-- count: integer (nullable = true)\n\n"
     ]
    }
   ],
   "source": [
    "read_csv_data = spark.read.format('csv')\\\n",
    "    .option('header', 'true')\\\n",
    "        .option('inferSchema', 'true')\\\n",
    "            .option('mode', 'permissive')\\         # failfast, dropmalformed\n",
    "                .load('/FileStore/tables/flight_data.csv')\n",
    "\n",
    "read_csv_data.printSchema()"
   ]
  },
  {
   "cell_type": "code",
   "execution_count": 0,
   "metadata": {
    "application/vnd.databricks.v1+cell": {
     "cellMetadata": {
      "byteLimit": 2048000,
      "rowLimit": 10000
     },
     "inputWidgets": {},
     "nuid": "eb53358b-a9b3-48d8-8e8c-2a399408ef28",
     "showTitle": false,
     "tableResultSettingsMap": {},
     "title": ""
    }
   },
   "outputs": [
    {
     "output_type": "display_data",
     "data": {
      "text/html": [
       "<style scoped>\n",
       "  .table-result-container {\n",
       "    max-height: 300px;\n",
       "    overflow: auto;\n",
       "  }\n",
       "  table, th, td {\n",
       "    border: 1px solid black;\n",
       "    border-collapse: collapse;\n",
       "  }\n",
       "  th, td {\n",
       "    padding: 5px;\n",
       "  }\n",
       "  th {\n",
       "    text-align: left;\n",
       "  }\n",
       "</style><div class='table-result-container'><table class='table-result'><thead style='background-color: white'><tr><th>path</th><th>name</th><th>size</th><th>modificationTime</th></tr></thead><tbody><tr><td>dbfs:/FileStore/tables/address_gender_partition/</td><td>address_gender_partition/</td><td>0</td><td>0</td></tr><tr><td>dbfs:/FileStore/tables/address_partition/</td><td>address_partition/</td><td>0</td><td>0</td></tr><tr><td>dbfs:/FileStore/tables/bad_records/</td><td>bad_records/</td><td>0</td><td>0</td></tr><tr><td>dbfs:/FileStore/tables/bucket_id/</td><td>bucket_id/</td><td>0</td><td>0</td></tr><tr><td>dbfs:/FileStore/tables/corrupted_json.json</td><td>corrupted_json.json</td><td>214</td><td>1745302675000</td></tr><tr><td>dbfs:/FileStore/tables/csv_write/</td><td>csv_write/</td><td>0</td><td>0</td></tr><tr><td>dbfs:/FileStore/tables/csv_write_par/</td><td>csv_write_par/</td><td>0</td><td>0</td></tr><tr><td>dbfs:/FileStore/tables/disk_part-1.csv</td><td>disk_part-1.csv</td><td>429</td><td>1745314617000</td></tr><tr><td>dbfs:/FileStore/tables/disk_part.csv</td><td>disk_part.csv</td><td>726</td><td>1745312118000</td></tr><tr><td>dbfs:/FileStore/tables/employee.csv</td><td>employee.csv</td><td>225</td><td>1745235607000</td></tr><tr><td>dbfs:/FileStore/tables/flight_data.csv</td><td>flight_data.csv</td><td>7120</td><td>1745231490000</td></tr><tr><td>dbfs:/FileStore/tables/id_partition/</td><td>id_partition/</td><td>0</td><td>0</td></tr><tr><td>dbfs:/FileStore/tables/line_deli_extra_fields.json</td><td>line_deli_extra_fields.json</td><td>228</td><td>1745302684000</td></tr><tr><td>dbfs:/FileStore/tables/line_delimited_json.json</td><td>line_delimited_json.json</td><td>215</td><td>1745302607000</td></tr><tr><td>dbfs:/FileStore/tables/multi_line_incorrect.json</td><td>multi_line_incorrect.json</td><td>328</td><td>1745302698000</td></tr><tr><td>dbfs:/FileStore/tables/multiline_correct.json</td><td>multiline_correct.json</td><td>388</td><td>1745302694000</td></tr><tr><td>dbfs:/FileStore/tables/part_r_00000_1a9822ba_b8fb_4d8e_844a_ea30d0801b9e_gz.parquet</td><td>part_r_00000_1a9822ba_b8fb_4d8e_844a_ea30d0801b9e_gz.parquet</td><td>3921</td><td>1745305622000</td></tr><tr><td>dbfs:/FileStore/tables/resturant_json_data.json</td><td>resturant_json_data.json</td><td>669503</td><td>1745497396000</td></tr></tbody></table></div>"
      ]
     },
     "metadata": {
      "application/vnd.databricks.v1+output": {
       "addedWidgets": {},
       "aggData": [],
       "aggError": "",
       "aggOverflow": false,
       "aggSchema": [],
       "aggSeriesLimitReached": false,
       "aggType": "",
       "arguments": {},
       "columnCustomDisplayInfos": {},
       "data": [
        [
         "dbfs:/FileStore/tables/address_gender_partition/",
         "address_gender_partition/",
         0,
         0
        ],
        [
         "dbfs:/FileStore/tables/address_partition/",
         "address_partition/",
         0,
         0
        ],
        [
         "dbfs:/FileStore/tables/bad_records/",
         "bad_records/",
         0,
         0
        ],
        [
         "dbfs:/FileStore/tables/bucket_id/",
         "bucket_id/",
         0,
         0
        ],
        [
         "dbfs:/FileStore/tables/corrupted_json.json",
         "corrupted_json.json",
         214,
         1745302675000
        ],
        [
         "dbfs:/FileStore/tables/csv_write/",
         "csv_write/",
         0,
         0
        ],
        [
         "dbfs:/FileStore/tables/csv_write_par/",
         "csv_write_par/",
         0,
         0
        ],
        [
         "dbfs:/FileStore/tables/disk_part-1.csv",
         "disk_part-1.csv",
         429,
         1745314617000
        ],
        [
         "dbfs:/FileStore/tables/disk_part.csv",
         "disk_part.csv",
         726,
         1745312118000
        ],
        [
         "dbfs:/FileStore/tables/employee.csv",
         "employee.csv",
         225,
         1745235607000
        ],
        [
         "dbfs:/FileStore/tables/flight_data.csv",
         "flight_data.csv",
         7120,
         1745231490000
        ],
        [
         "dbfs:/FileStore/tables/id_partition/",
         "id_partition/",
         0,
         0
        ],
        [
         "dbfs:/FileStore/tables/line_deli_extra_fields.json",
         "line_deli_extra_fields.json",
         228,
         1745302684000
        ],
        [
         "dbfs:/FileStore/tables/line_delimited_json.json",
         "line_delimited_json.json",
         215,
         1745302607000
        ],
        [
         "dbfs:/FileStore/tables/multi_line_incorrect.json",
         "multi_line_incorrect.json",
         328,
         1745302698000
        ],
        [
         "dbfs:/FileStore/tables/multiline_correct.json",
         "multiline_correct.json",
         388,
         1745302694000
        ],
        [
         "dbfs:/FileStore/tables/part_r_00000_1a9822ba_b8fb_4d8e_844a_ea30d0801b9e_gz.parquet",
         "part_r_00000_1a9822ba_b8fb_4d8e_844a_ea30d0801b9e_gz.parquet",
         3921,
         1745305622000
        ],
        [
         "dbfs:/FileStore/tables/resturant_json_data.json",
         "resturant_json_data.json",
         669503,
         1745497396000
        ]
       ],
       "datasetInfos": [],
       "dbfsResultPath": null,
       "isJsonSchema": true,
       "metadata": {
        "isDbfsCommandResult": false
       },
       "overflow": false,
       "plotOptions": {
        "customPlotOptions": {},
        "displayType": "table",
        "pivotAggregation": null,
        "pivotColumns": null,
        "xColumns": null,
        "yColumns": null
       },
       "removedWidgets": [],
       "schema": [
        {
         "metadata": "{}",
         "name": "path",
         "type": "\"string\""
        },
        {
         "metadata": "{}",
         "name": "name",
         "type": "\"string\""
        },
        {
         "metadata": "{}",
         "name": "size",
         "type": "\"long\""
        },
        {
         "metadata": "{}",
         "name": "modificationTime",
         "type": "\"long\""
        }
       ],
       "type": "table"
      }
     },
     "output_type": "display_data"
    }
   ],
   "source": [
    "%fs\n",
    "ls /FileStore/tables/"
   ]
  },
  {
   "cell_type": "code",
   "execution_count": 0,
   "metadata": {
    "application/vnd.databricks.v1+cell": {
     "cellMetadata": {
      "byteLimit": 2048000,
      "rowLimit": 10000
     },
     "inputWidgets": {},
     "nuid": "95fae9a4-c24a-43d0-b849-fd480d36c2cc",
     "showTitle": false,
     "tableResultSettingsMap": {},
     "title": ""
    }
   },
   "outputs": [
    {
     "output_type": "stream",
     "name": "stdout",
     "output_type": "stream",
     "text": [
      "Out[10]: ['DEST_COUNTRY_NAME', 'ORIGIN_COUNTRY_NAME', 'count']"
     ]
    }
   ],
   "source": [
    "read_csv_data.columns"
   ]
  },
  {
   "cell_type": "code",
   "execution_count": 0,
   "metadata": {
    "application/vnd.databricks.v1+cell": {
     "cellMetadata": {
      "byteLimit": 2048000,
      "rowLimit": 10000
     },
     "inputWidgets": {},
     "nuid": "b090437c-2555-44b4-9041-fdeaa697a536",
     "showTitle": false,
     "tableResultSettingsMap": {},
     "title": ""
    }
   },
   "outputs": [
    {
     "output_type": "stream",
     "name": "stdout",
     "output_type": "stream",
     "text": [
      "+-----------------+-------------------+-----+\n|DEST_COUNTRY_NAME|ORIGIN_COUNTRY_NAME|count|\n+-----------------+-------------------+-----+\n|    United States|            Romania|    1|\n|    United States|            Ireland|  264|\n|    United States|              India|   69|\n|            Egypt|      United States|   24|\n|Equatorial Guinea|      United States|    1|\n|    United States|          Singapore|   25|\n|    United States|            Grenada|   54|\n|       Costa Rica|      United States|  477|\n|          Senegal|      United States|   29|\n|    United States|   Marshall Islands|   44|\n+-----------------+-------------------+-----+\nonly showing top 10 rows\n\n"
     ]
    }
   ],
   "source": [
    "read_csv_data.show(10)"
   ]
  },
  {
   "cell_type": "code",
   "execution_count": 0,
   "metadata": {
    "application/vnd.databricks.v1+cell": {
     "cellMetadata": {
      "byteLimit": 2048000,
      "rowLimit": 10000
     },
     "inputWidgets": {},
     "nuid": "83d93ef8-fed0-4b7f-bc36-6a7cf40f6901",
     "showTitle": false,
     "tableResultSettingsMap": {},
     "title": ""
    }
   },
   "outputs": [
    {
     "output_type": "stream",
     "name": "stdout",
     "output_type": "stream",
     "text": [
      "2025-04-28 11:53:36.996544\n4\nApril\nMonday\n"
     ]
    }
   ],
   "source": [
    "from datetime import datetime\n",
    "\n",
    "data1 = datetime.now()        # today\n",
    "print(data1)\n",
    "\n",
    "month1 = data1.month\n",
    "print(month1)\n",
    "\n",
    "m1 = data1.strftime('%B')\n",
    "print(m1)\n",
    "\n",
    "day_name = data1.strftime('%A')\n",
    "print(day_name)"
   ]
  },
  {
   "cell_type": "code",
   "execution_count": 0,
   "metadata": {
    "application/vnd.databricks.v1+cell": {
     "cellMetadata": {
      "byteLimit": 2048000,
      "rowLimit": 10000
     },
     "inputWidgets": {},
     "nuid": "28f7a76a-b49f-4dc1-b228-5bad4899c955",
     "showTitle": false,
     "tableResultSettingsMap": {},
     "title": ""
    }
   },
   "outputs": [
    {
     "output_type": "stream",
     "name": "stdout",
     "output_type": "stream",
     "text": [
      "+---+-----------------------+\n|id |current_time           |\n+---+-----------------------+\n|1  |2025-04-28 12:11:07.628|\n+---+-----------------------+\n\n"
     ]
    }
   ],
   "source": [
    "from pyspark.sql.functions import *\n",
    "\n",
    "df = spark.createDataFrame(data=[(1, )], schema=['id']).withColumn('current_time', current_timestamp())\n",
    "df.show(truncate=False)"
   ]
  },
  {
   "cell_type": "code",
   "execution_count": 0,
   "metadata": {
    "application/vnd.databricks.v1+cell": {
     "cellMetadata": {
      "byteLimit": 2048000,
      "rowLimit": 10000
     },
     "inputWidgets": {},
     "nuid": "c18019c8-fabc-48f8-861a-c7ce8881b1ad",
     "showTitle": false,
     "tableResultSettingsMap": {},
     "title": ""
    }
   },
   "outputs": [
    {
     "output_type": "display_data",
     "data": {
      "text/html": [
       "<style scoped>\n",
       "  .table-result-container {\n",
       "    max-height: 300px;\n",
       "    overflow: auto;\n",
       "  }\n",
       "  table, th, td {\n",
       "    border: 1px solid black;\n",
       "    border-collapse: collapse;\n",
       "  }\n",
       "  th, td {\n",
       "    padding: 5px;\n",
       "  }\n",
       "  th {\n",
       "    text-align: left;\n",
       "  }\n",
       "</style><div class='table-result-container'><table class='table-result'><thead style='background-color: white'><tr><th>id</th><th>current_time</th><th>month</th><th>month_name</th><th>day_name</th></tr></thead><tbody><tr><td>1</td><td>2025-04-28T12:13:04.203+0000</td><td>4</td><td>April</td><td>Monday</td></tr></tbody></table></div>"
      ]
     },
     "metadata": {
      "application/vnd.databricks.v1+output": {
       "addedWidgets": {},
       "aggData": [],
       "aggError": "",
       "aggOverflow": false,
       "aggSchema": [],
       "aggSeriesLimitReached": false,
       "aggType": "",
       "arguments": {},
       "columnCustomDisplayInfos": {},
       "data": [
        [
         1,
         "2025-04-28T12:13:04.203+0000",
         4,
         "April",
         "Monday"
        ]
       ],
       "datasetInfos": [],
       "dbfsResultPath": null,
       "isJsonSchema": true,
       "metadata": {},
       "overflow": false,
       "plotOptions": {
        "customPlotOptions": {},
        "displayType": "table",
        "pivotAggregation": null,
        "pivotColumns": null,
        "xColumns": null,
        "yColumns": null
       },
       "removedWidgets": [],
       "schema": [
        {
         "metadata": "{}",
         "name": "id",
         "type": "\"long\""
        },
        {
         "metadata": "{}",
         "name": "current_time",
         "type": "\"timestamp\""
        },
        {
         "metadata": "{}",
         "name": "month",
         "type": "\"integer\""
        },
        {
         "metadata": "{}",
         "name": "month_name",
         "type": "\"string\""
        },
        {
         "metadata": "{}",
         "name": "day_name",
         "type": "\"string\""
        }
       ],
       "type": "table"
      }
     },
     "output_type": "display_data"
    }
   ],
   "source": [
    "from pyspark.sql.functions import date_format\n",
    "\n",
    "df2 = df.withColumn(\"month\", month(\"current_time\")) \\\n",
    "    .withColumn(\"month_name\", date_format(\"current_time\", \"MMMM\")) \\\n",
    "        .withColumn(\"day_name\", date_format(\"current_time\", \"EEEE\"))\n",
    "\n",
    "display(df2)"
   ]
  },
  {
   "cell_type": "code",
   "execution_count": 0,
   "metadata": {
    "application/vnd.databricks.v1+cell": {
     "cellMetadata": {
      "byteLimit": 2048000,
      "rowLimit": 10000
     },
     "inputWidgets": {},
     "nuid": "0208cc97-e720-496d-b17a-30eae89b4da8",
     "showTitle": false,
     "tableResultSettingsMap": {},
     "title": ""
    }
   },
   "outputs": [
    {
     "output_type": "display_data",
     "data": {
      "text/html": [
       "<style scoped>\n",
       "  .table-result-container {\n",
       "    max-height: 300px;\n",
       "    overflow: auto;\n",
       "  }\n",
       "  table, th, td {\n",
       "    border: 1px solid black;\n",
       "    border-collapse: collapse;\n",
       "  }\n",
       "  th, td {\n",
       "    padding: 5px;\n",
       "  }\n",
       "  th {\n",
       "    text-align: left;\n",
       "  }\n",
       "</style><div class='table-result-container'><table class='table-result'><thead style='background-color: white'><tr><th>id</th><th>today</th><th>month_name</th><th>year</th><th>month</th></tr></thead><tbody><tr><td>1</td><td>2025-04-28</td><td>April</td><td>2025</td><td>4</td></tr></tbody></table></div>"
      ]
     },
     "metadata": {
      "application/vnd.databricks.v1+output": {
       "addedWidgets": {},
       "aggData": [],
       "aggError": "",
       "aggOverflow": false,
       "aggSchema": [],
       "aggSeriesLimitReached": false,
       "aggType": "",
       "arguments": {},
       "columnCustomDisplayInfos": {},
       "data": [
        [
         1,
         "2025-04-28",
         "April",
         2025,
         4
        ]
       ],
       "datasetInfos": [],
       "dbfsResultPath": null,
       "isJsonSchema": true,
       "metadata": {},
       "overflow": false,
       "plotOptions": {
        "customPlotOptions": {},
        "displayType": "table",
        "pivotAggregation": null,
        "pivotColumns": null,
        "xColumns": null,
        "yColumns": null
       },
       "removedWidgets": [],
       "schema": [
        {
         "metadata": "{}",
         "name": "id",
         "type": "\"long\""
        },
        {
         "metadata": "{}",
         "name": "today",
         "type": "\"date\""
        },
        {
         "metadata": "{}",
         "name": "month_name",
         "type": "\"string\""
        },
        {
         "metadata": "{}",
         "name": "year",
         "type": "\"integer\""
        },
        {
         "metadata": "{}",
         "name": "month",
         "type": "\"integer\""
        }
       ],
       "type": "table"
      }
     },
     "output_type": "display_data"
    }
   ],
   "source": [
    "from pyspark.sql.functions import current_date    # \"*\"\n",
    "\n",
    "df1 = spark.createDataFrame(data=[(1, )], schema=['id']).withColumn('today', current_date())\n",
    "# display(df1)\n",
    "\n",
    "df_m_y = df1.withColumn('month_name', date_format('today', 'MMMM'))\\\n",
    "    .withColumn('year', year('today'))\\\n",
    "        .withColumn('month', month('today'))\n",
    "display(df_m_y)"
   ]
  },
  {
   "cell_type": "code",
   "execution_count": 0,
   "metadata": {
    "application/vnd.databricks.v1+cell": {
     "cellMetadata": {
      "byteLimit": 2048000,
      "rowLimit": 10000
     },
     "inputWidgets": {},
     "nuid": "648611f8-8afc-4e97-98c8-3f85d0b5f5e8",
     "showTitle": false,
     "tableResultSettingsMap": {},
     "title": ""
    }
   },
   "outputs": [
    {
     "output_type": "stream",
     "name": "stdout",
     "output_type": "stream",
     "text": [
      "Python interpreter will be restarted.\nRequirement already satisfied: requests in /databricks/python3/lib/python3.9/site-packages (2.27.1)\nRequirement already satisfied: charset-normalizer~=2.0.0 in /databricks/python3/lib/python3.9/site-packages (from requests) (2.0.4)\nRequirement already satisfied: idna<4,>=2.5 in /databricks/python3/lib/python3.9/site-packages (from requests) (3.3)\nRequirement already satisfied: certifi>=2017.4.17 in /databricks/python3/lib/python3.9/site-packages (from requests) (2021.10.8)\nRequirement already satisfied: urllib3<1.27,>=1.21.1 in /databricks/python3/lib/python3.9/site-packages (from requests) (1.26.9)\nPython interpreter will be restarted.\n"
     ]
    }
   ],
   "source": [
    "%pip install requests"
   ]
  },
  {
   "cell_type": "code",
   "execution_count": 0,
   "metadata": {
    "application/vnd.databricks.v1+cell": {
     "cellMetadata": {
      "byteLimit": 2048000,
      "rowLimit": 10000
     },
     "inputWidgets": {},
     "nuid": "97561dce-ace5-4ada-80be-e91d7c037307",
     "showTitle": false,
     "tableResultSettingsMap": {},
     "title": ""
    }
   },
   "outputs": [],
   "source": [
    "import requests\n",
    "from pyspark.sql import SparkSession\n",
    "\n",
    "# spark = SparkSession.builder.appName(\"API_Post\").getOrCreate()   # already available in Databricks\n",
    "BEARER_TOKEN = \"dc4cff04-06d4-4549-ac19-b456b49c5586\"\n",
    "HEADERS = {\n",
    "    \"Authorization\": f\"Bearer {BEARER_TOKEN}\",\n",
    "    \"Accept\": \"application/json\",\n",
    "}\n",
    "\n",
    "response = requests.get('https://fabricate.mockaroo.com/api/v1/databases/report/api/users', headers=HEADERS)\n",
    "\n",
    "res1 = requests.get(\"https://fabricate.mockaroo.com/api/v1/databases/report/api/products\", headers=HEADERS)\n",
    "\n",
    "data = response.json() \n",
    "data1 = res1.json() "
   ]
  },
  {
   "cell_type": "code",
   "execution_count": 0,
   "metadata": {
    "application/vnd.databricks.v1+cell": {
     "cellMetadata": {
      "byteLimit": 2048000,
      "rowLimit": 10000
     },
     "inputWidgets": {},
     "nuid": "3c6857a8-3022-417b-9800-d88caed8e614",
     "showTitle": false,
     "tableResultSettingsMap": {},
     "title": ""
    }
   },
   "outputs": [
    {
     "output_type": "stream",
     "name": "stdout",
     "output_type": "stream",
     "text": [
      "+--------------------+------+---+--------------+----------------+\n|               email|gender| id|      location|            name|\n+--------------------+------+---+--------------+----------------+\n|arabele.jeskin@ho...|Female|  1|      Staxigoe|  Arabele Jeskin|\n|saul.pantone@aol.com|  Male|  2|   Cluj-Napoca|    Saul Pantone|\n|brand.baudic@plan...|  Male|  3|  Yeraganahlli|    Brand Baudic|\n|annemarie.jedrys@...|Female|  4|     Lynnfield|Annemarie Jedrys|\n|nelia.spafford@gm...|Female|  5|Mount Pleasant|  Nelia Spafford|\n+--------------------+------+---+--------------+----------------+\nonly showing top 5 rows\n\n"
     ]
    }
   ],
   "source": [
    "user_df = spark.createDataFrame(data)\n",
    "user_df.show(5)"
   ]
  },
  {
   "cell_type": "code",
   "execution_count": 0,
   "metadata": {
    "application/vnd.databricks.v1+cell": {
     "cellMetadata": {
      "byteLimit": 2048000,
      "rowLimit": 10000
     },
     "inputWidgets": {},
     "nuid": "d06697de-fedd-44ba-a927-c17110062cc8",
     "showTitle": false,
     "tableResultSettingsMap": {},
     "title": ""
    }
   },
   "outputs": [
    {
     "output_type": "stream",
     "name": "stdout",
     "output_type": "stream",
     "text": [
      "+---+----------------+--------------------+--------+-------+\n| id|product_category|        product_name|quantity|user_id|\n+---+----------------+--------------------+--------+-------+\n|  1|         Fitness|Stainless Steel W...|       1|     17|\n|  2|    Food - Dairy|Feta Cheese Crumbles|       2|     49|\n|  3|         Kitchen|      Coffee Grinder|       3|     84|\n|  4|    Food - Meats|Savory Breakfast ...|       4|     70|\n|  5|         Kitchen|Stainless Steel C...|       5|     73|\n+---+----------------+--------------------+--------+-------+\nonly showing top 5 rows\n\n"
     ]
    }
   ],
   "source": [
    "product_df = spark.createDataFrame(data1)\n",
    "product_df.show(5)"
   ]
  },
  {
   "cell_type": "code",
   "execution_count": 0,
   "metadata": {
    "application/vnd.databricks.v1+cell": {
     "cellMetadata": {
      "byteLimit": 2048000,
      "rowLimit": 10000
     },
     "inputWidgets": {},
     "nuid": "cae0d843-db7f-4f39-bab7-c1670810f1fa",
     "showTitle": false,
     "tableResultSettingsMap": {},
     "title": ""
    }
   },
   "outputs": [
    {
     "output_type": "stream",
     "name": "stdout",
     "output_type": "stream",
     "text": [
      "+--------------------+------+---+--------------+----------------+---+--------------------+--------------------+--------+-------+\n|               email|gender| id|      location|            name| id|    product_category|        product_name|quantity|user_id|\n+--------------------+------+---+--------------+----------------+---+--------------------+--------------------+--------+-------+\n|arabele.jeskin@ho...|Female|  1|      Staxigoe|  Arabele Jeskin| 63|   Food - Condiments|Vegan Caesar Dres...|      63|      1|\n|saul.pantone@aol.com|  Male|  2|   Cluj-Napoca|    Saul Pantone| 92|   Food - Condiments|         Salsa Verde|      92|      2|\n|brand.baudic@plan...|  Male|  3|  Yeraganahlli|    Brand Baudic| 53|                Pets|Portable Pet Wate...|      53|      3|\n|annemarie.jedrys@...|Female|  4|     Lynnfield|Annemarie Jedrys| 70|              Health|Deep Tissue Massa...|      70|      4|\n|nelia.spafford@gm...|Female|  5|Mount Pleasant|  Nelia Spafford| 34|Food - Prepared F...|   Chicken Salad Kit|      34|      5|\n+--------------------+------+---+--------------+----------------+---+--------------------+--------------------+--------+-------+\nonly showing top 5 rows\n\n"
     ]
    }
   ],
   "source": [
    "user_df.join(product_df, user_df['id']==product_df['user_id'], 'inner').show(5)"
   ]
  },
  {
   "cell_type": "code",
   "execution_count": 0,
   "metadata": {
    "application/vnd.databricks.v1+cell": {
     "cellMetadata": {
      "byteLimit": 2048000,
      "rowLimit": 10000
     },
     "inputWidgets": {},
     "nuid": "63d2722b-23f2-4a2f-b99a-075ef2518d1d",
     "showTitle": false,
     "tableResultSettingsMap": {},
     "title": ""
    }
   },
   "outputs": [
    {
     "output_type": "stream",
     "name": "stdout",
     "output_type": "stream",
     "text": [
      "+--------------------+------+---+--------------+----------------+---+--------------------+--------------------+--------+-------+\n|               email|gender| id|      location|            name| id|    product_category|        product_name|quantity|user_id|\n+--------------------+------+---+--------------+----------------+---+--------------------+--------------------+--------+-------+\n|arabele.jeskin@ho...|Female|  1|      Staxigoe|  Arabele Jeskin| 63|   Food - Condiments|Vegan Caesar Dres...|      63|      1|\n|saul.pantone@aol.com|  Male|  2|   Cluj-Napoca|    Saul Pantone| 92|   Food - Condiments|         Salsa Verde|      92|      2|\n|brand.baudic@plan...|  Male|  3|  Yeraganahlli|    Brand Baudic| 53|                Pets|Portable Pet Wate...|      53|      3|\n|annemarie.jedrys@...|Female|  4|     Lynnfield|Annemarie Jedrys| 70|              Health|Deep Tissue Massa...|      70|      4|\n|nelia.spafford@gm...|Female|  5|Mount Pleasant|  Nelia Spafford| 34|Food - Prepared F...|   Chicken Salad Kit|      34|      5|\n+--------------------+------+---+--------------+----------------+---+--------------------+--------------------+--------+-------+\nonly showing top 5 rows\n\n"
     ]
    }
   ],
   "source": [
    "user_df.join(product_df, user_df['id']==product_df['user_id'], 'left').show(5)"
   ]
  }
 ],
 "metadata": {
  "application/vnd.databricks.v1+notebook": {
   "computePreferences": null,
   "dashboards": [],
   "environmentMetadata": {
    "base_environment": "",
    "environment_version": "1"
   },
   "inputWidgetPreferences": null,
   "language": "python",
   "notebookMetadata": {
    "mostRecentlyExecutedCommandWithImplicitDF": {
     "commandId": 2670625226613985,
     "dataframes": [
      "_sqldf"
     ]
    },
    "pythonIndentUnit": 4
   },
   "notebookName": "summary_pyspark",
   "widgets": {}
  }
 },
 "nbformat": 4,
 "nbformat_minor": 0
}