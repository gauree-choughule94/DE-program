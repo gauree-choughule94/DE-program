{
 "cells": [
  {
   "cell_type": "code",
   "execution_count": 0,
   "metadata": {
    "application/vnd.databricks.v1+cell": {
     "cellMetadata": {
      "byteLimit": 2048000,
      "rowLimit": 10000
     },
     "inputWidgets": {},
     "nuid": "8664d6f2-c4be-4dea-a8e3-aa7546f76f4e",
     "showTitle": false,
     "tableResultSettingsMap": {},
     "title": ""
    }
   },
   "outputs": [
    {
     "output_type": "stream",
     "name": "stdout",
     "output_type": "stream",
     "text": [
      "+----+-------+----+------+-------+-----------+\n|  id|   name| age|salary|country|       dept|\n+----+-------+----+------+-------+-----------+\n|   1| manish|  26| 20000|  india|         IT|\n|   2|  rahul|null| 40000|germany|engineering|\n|   3|  pawan|  12| 60000|  india|      sales|\n|   4|roshini|  44|  null|     uk|engineering|\n|   5|raushan|  35| 70000|  india|      sales|\n|   6|   null|  29|200000|     uk|         IT|\n|   7|   adam|  37| 65000|     us|         IT|\n|   8|  chris|  16| 40000|     us|      sales|\n|null|   null|null|  null|   null|       null|\n|   7|   adam|  37| 65000|     us|         IT|\n+----+-------+----+------+-------+-----------+\n\n"
     ]
    }
   ],
   "source": [
    "#if-else\n",
    "\n",
    "emp_data = [\n",
    "(1,'manish',26,20000,'india','IT'),\n",
    "(2,'rahul',None,40000,'germany','engineering'),\n",
    "(3,'pawan',12,60000,'india','sales'),\n",
    "(4,'roshini',44,None,'uk','engineering'),\n",
    "(5,'raushan',35,70000,'india','sales'),\n",
    "(6,None,29,200000,'uk','IT'),\n",
    "(7,'adam',37,65000,'us','IT'),\n",
    "(8,'chris',16,40000,'us','sales'),\n",
    "(None,None,None,None,None,None),\n",
    "(7,'adam',37,65000,'us','IT')\n",
    "]\n",
    "\n",
    "emp_schema = ['id','name', 'age', 'salary', 'country', 'dept']\n",
    "\n",
    "emp_df = spark.createDataFrame(data=emp_data, schema=emp_schema)\n",
    "emp_df.show()"
   ]
  },
  {
   "cell_type": "code",
   "execution_count": 0,
   "metadata": {
    "application/vnd.databricks.v1+cell": {
     "cellMetadata": {
      "byteLimit": 2048000,
      "rowLimit": 10000
     },
     "inputWidgets": {},
     "nuid": "6f6e3f40-db4e-4893-88f5-d4ff84bced13",
     "showTitle": false,
     "tableResultSettingsMap": {},
     "title": ""
    }
   },
   "outputs": [],
   "source": [
    "from pyspark.sql.functions import *\n",
    "from pyspark.sql.types import *"
   ]
  },
  {
   "cell_type": "code",
   "execution_count": 0,
   "metadata": {
    "application/vnd.databricks.v1+cell": {
     "cellMetadata": {
      "byteLimit": 2048000,
      "rowLimit": 10000
     },
     "inputWidgets": {},
     "nuid": "2821e553-3c9a-46f0-b876-86e2abb3de75",
     "showTitle": false,
     "tableResultSettingsMap": {},
     "title": ""
    }
   },
   "outputs": [
    {
     "output_type": "stream",
     "name": "stdout",
     "output_type": "stream",
     "text": [
      "+----+-------+----+------+-------+-----------+--------+\n|  id|   name| age|salary|country|       dept|   adult|\n+----+-------+----+------+-------+-----------+--------+\n|   1| manish|  26| 20000|  india|         IT|     yes|\n|   2|  rahul|null| 40000|germany|engineering|no_value|\n|   3|  pawan|  12| 60000|  india|      sales|      no|\n|   4|roshini|  44|  null|     uk|engineering|     yes|\n|   5|raushan|  35| 70000|  india|      sales|     yes|\n|   6|   null|  29|200000|     uk|         IT|     yes|\n|   7|   adam|  37| 65000|     us|         IT|     yes|\n|   8|  chris|  16| 40000|     us|      sales|      no|\n|null|   null|null|  null|   null|       null|no_value|\n|   7|   adam|  37| 65000|     us|         IT|     yes|\n+----+-------+----+------+-------+-----------+--------+\n\n"
     ]
    }
   ],
   "source": [
    "emp_df.withColumn('adult', when(col('age') > 18, 'yes')\n",
    "                  .when(col('age') < 18, 'no').\n",
    "                  otherwise('no_value')).show()"
   ]
  },
  {
   "cell_type": "code",
   "execution_count": 0,
   "metadata": {
    "application/vnd.databricks.v1+cell": {
     "cellMetadata": {
      "byteLimit": 2048000,
      "rowLimit": 10000
     },
     "inputWidgets": {},
     "nuid": "7f4e6d60-64cd-49a7-8bb5-9730c5f67432",
     "showTitle": false,
     "tableResultSettingsMap": {},
     "title": ""
    }
   },
   "outputs": [
    {
     "output_type": "stream",
     "name": "stdout",
     "output_type": "stream",
     "text": [
      "+----+-------+----+------+-------+-----------+-----+\n|  id|   name| age|salary|country|       dept|adult|\n+----+-------+----+------+-------+-----------+-----+\n|   1| manish|null| 20000|  india|         IT|   no|\n|   2|  rahul|  19| 40000|germany|engineering|  yes|\n|   3|  pawan|null| 60000|  india|      sales|   no|\n|   4|roshini|null|  null|     uk|engineering|   no|\n|   5|raushan|null| 70000|  india|      sales|   no|\n|   6|   null|null|200000|     uk|         IT|   no|\n|   7|   adam|null| 65000|     us|         IT|   no|\n|   8|  chris|null| 40000|     us|      sales|   no|\n|null|   null|  19|  null|   null|       null|  yes|\n|   7|   adam|null| 65000|     us|         IT|   no|\n+----+-------+----+------+-------+-----------+-----+\n\n"
     ]
    }
   ],
   "source": [
    "emp_df.withColumn('age', when(col('age').isNull(), lit(19)))\\\n",
    "    .withColumn('adult', when(col('age')> 18, 'yes').\n",
    "                otherwise(\"no\")).show()"
   ]
  },
  {
   "cell_type": "code",
   "execution_count": 0,
   "metadata": {
    "application/vnd.databricks.v1+cell": {
     "cellMetadata": {
      "byteLimit": 2048000,
      "rowLimit": 10000
     },
     "inputWidgets": {},
     "nuid": "a37e730d-b87c-40dc-8e0a-b280eea9ae3c",
     "showTitle": false,
     "tableResultSettingsMap": {},
     "title": ""
    }
   },
   "outputs": [
    {
     "output_type": "stream",
     "name": "stdout",
     "output_type": "stream",
     "text": [
      "+----+-------+---+------+-------+-----------+-----+\n|  id|   name|age|salary|country|       dept|adult|\n+----+-------+---+------+-------+-----------+-----+\n|   1| manish| 26| 20000|  india|         IT|  yes|\n|   2|  rahul| 19| 40000|germany|engineering|   no|\n|   3|  pawan| 12| 60000|  india|      sales|   no|\n|   4|roshini| 44|  null|     uk|engineering|  yes|\n|   5|raushan| 35| 70000|  india|      sales|  yes|\n|   6|   null| 29|200000|     uk|         IT|  yes|\n|   7|   adam| 37| 65000|     us|         IT|  yes|\n|   8|  chris| 16| 40000|     us|      sales|   no|\n|null|   null| 19|  null|   null|       null|   no|\n|   7|   adam| 37| 65000|     us|         IT|  yes|\n+----+-------+---+------+-------+-----------+-----+\n\n"
     ]
    }
   ],
   "source": [
    "# 1st handle null values and then when-otherwise\n",
    "\n",
    "emp_df.withColumn('age', when(col('age').isNull(), lit(19))\n",
    "                  .otherwise(col('age')))\\\n",
    "    .withColumn('adult', when(col('age')> 19, 'yes').\n",
    "                otherwise(\"no\")).show()"
   ]
  },
  {
   "cell_type": "code",
   "execution_count": 0,
   "metadata": {
    "application/vnd.databricks.v1+cell": {
     "cellMetadata": {
      "byteLimit": 2048000,
      "rowLimit": 10000
     },
     "inputWidgets": {},
     "nuid": "1e6b0465-347e-49c4-bddd-43d9a1ae8b5e",
     "showTitle": false,
     "tableResultSettingsMap": {},
     "title": ""
    }
   },
   "outputs": [
    {
     "output_type": "stream",
     "name": "stdout",
     "output_type": "stream",
     "text": [
      "+----+-------+----+------+-------+-----------+---------+\n|  id|   name| age|salary|country|       dept|age_range|\n+----+-------+----+------+-------+-----------+---------+\n|   1| manish|  26| 20000|  india|         IT|      mid|\n|   2|  rahul|null| 40000|germany|engineering|    major|\n|   3|  pawan|  12| 60000|  india|      sales|    minor|\n|   4|roshini|  44|  null|     uk|engineering|    major|\n|   5|raushan|  35| 70000|  india|      sales|    major|\n|   6|   null|  29|200000|     uk|         IT|      mid|\n|   7|   adam|  37| 65000|     us|         IT|    major|\n|   8|  chris|  16| 40000|     us|      sales|    minor|\n|null|   null|null|  null|   null|       null|    major|\n|   7|   adam|  37| 65000|     us|         IT|    major|\n+----+-------+----+------+-------+-----------+---------+\n\n"
     ]
    }
   ],
   "source": [
    "emp_df.withColumn(\"age_range\", when((col('age')>0) & (col('age')<18), 'minor')\n",
    "                  .when((col('age')>18) & (col('age') <30), 'mid')\n",
    "                  .otherwise(\"major\")).show()"
   ]
  },
  {
   "cell_type": "code",
   "execution_count": 0,
   "metadata": {
    "application/vnd.databricks.v1+cell": {
     "cellMetadata": {
      "byteLimit": 2048000,
      "rowLimit": 10000
     },
     "inputWidgets": {},
     "nuid": "b9d27244-5916-4c52-9f38-8bd68c17b22f",
     "showTitle": false,
     "tableResultSettingsMap": {},
     "title": ""
    }
   },
   "outputs": [],
   "source": [
    "emp_df.createOrReplaceTempView('emp_df_table')"
   ]
  },
  {
   "cell_type": "code",
   "execution_count": 0,
   "metadata": {
    "application/vnd.databricks.v1+cell": {
     "cellMetadata": {
      "byteLimit": 2048000,
      "rowLimit": 10000
     },
     "inputWidgets": {},
     "nuid": "dce8b0f4-026e-4c75-9b39-6ea6c75e760e",
     "showTitle": false,
     "tableResultSettingsMap": {},
     "title": ""
    }
   },
   "outputs": [
    {
     "output_type": "stream",
     "name": "stdout",
     "output_type": "stream",
     "text": [
      "+----+-------+----+------+-------+-----------+---------+\n|  id|   name| age|salary|country|       dept|age_range|\n+----+-------+----+------+-------+-----------+---------+\n|   1| manish|  26| 20000|  india|         IT|    major|\n|   2|  rahul|null| 40000|germany|engineering|      mid|\n|   3|  pawan|  12| 60000|  india|      sales|    minor|\n|   4|roshini|  44|  null|     uk|engineering|    major|\n|   5|raushan|  35| 70000|  india|      sales|    major|\n|   6|   null|  29|200000|     uk|         IT|    major|\n|   7|   adam|  37| 65000|     us|         IT|    major|\n|   8|  chris|  16| 40000|     us|      sales|    minor|\n|null|   null|null|  null|   null|       null|      mid|\n|   7|   adam|  37| 65000|     us|         IT|    major|\n+----+-------+----+------+-------+-----------+---------+\n\n"
     ]
    }
   ],
   "source": [
    "spark.sql(\"\"\"\n",
    "          select *,  case when age <18 then 'minor'\n",
    "          when age > 18 then 'major'\n",
    "          else 'mid'\n",
    "          end as age_range\n",
    "\n",
    "          from emp_df_table\n",
    "          \"\"\").show()"
   ]
  },
  {
   "cell_type": "code",
   "execution_count": 0,
   "metadata": {
    "application/vnd.databricks.v1+cell": {
     "cellMetadata": {
      "byteLimit": 2048000,
      "rowLimit": 10000
     },
     "inputWidgets": {},
     "nuid": "19a590c6-cc48-44a9-bdf4-947f7ad375ab",
     "showTitle": false,
     "tableResultSettingsMap": {},
     "title": ""
    }
   },
   "outputs": [
    {
     "output_type": "stream",
     "name": "stdout",
     "output_type": "stream",
     "text": [
      "+---+------+------+-------+\n| id|  name|salary|mang_id|\n+---+------+------+-------+\n| 10|  Anil| 50000|     18|\n| 11| Vikas| 75000|     16|\n| 12| Nisha| 40000|     18|\n| 13| Nidhi| 60000|     17|\n| 14| Priya| 80000|     18|\n| 15| Mohit| 45000|     18|\n| 16|Rajesh| 90000|     10|\n| 17| Raman| 55000|     16|\n| 18|   Sam| 65000|     17|\n| 15| Mohit| 45000|     18|\n| 13| Nidhi| 60000|     17|\n| 14| Priya| 90000|     18|\n| 18|   Sam| 65000|     17|\n+---+------+------+-------+\n\n"
     ]
    }
   ],
   "source": [
    "data1 =[(10 ,'Anil',50000, 18),\n",
    "(11 ,'Vikas',75000,  16),\n",
    "(12 ,'Nisha',40000,  18),\n",
    "(13 ,'Nidhi',60000,  17),\n",
    "(14 ,'Priya',80000,  18),\n",
    "(15 ,'Mohit',45000,  18),\n",
    "(16 ,'Rajesh',90000, 10),\n",
    "(17 ,'Raman',55000, 16),\n",
    "(18 ,'Sam',65000,   17),\n",
    "(15 ,'Mohit',45000,  18),\n",
    "(13 ,'Nidhi',60000,  17),      \n",
    "(14 ,'Priya',90000,  18),  \n",
    "(18 ,'Sam',65000,   17)]\n",
    "     \n",
    "schema1 = ['id', 'name', 'salary', 'mang_id']\n",
    "\n",
    "man_df = spark.createDataFrame(data=data1, schema=schema1)\n",
    "man_df.show()"
   ]
  },
  {
   "cell_type": "code",
   "execution_count": 0,
   "metadata": {
    "application/vnd.databricks.v1+cell": {
     "cellMetadata": {
      "byteLimit": 2048000,
      "rowLimit": 10000
     },
     "inputWidgets": {},
     "nuid": "0467cc50-60bd-4169-a943-a281dc486be6",
     "showTitle": false,
     "tableResultSettingsMap": {},
     "title": ""
    }
   },
   "outputs": [
    {
     "output_type": "stream",
     "name": "stdout",
     "output_type": "stream",
     "text": [
      "+---+------+------+-------+\n| id|  name|salary|mang_id|\n+---+------+------+-------+\n| 10|  Anil| 50000|     18|\n| 12| Nisha| 40000|     18|\n| 11| Vikas| 75000|     16|\n| 13| Nidhi| 60000|     17|\n| 15| Mohit| 45000|     18|\n| 14| Priya| 80000|     18|\n| 16|Rajesh| 90000|     10|\n| 17| Raman| 55000|     16|\n| 18|   Sam| 65000|     17|\n| 14| Priya| 90000|     18|\n+---+------+------+-------+\n\n"
     ]
    }
   ],
   "source": [
    "man_df.distinct().show()"
   ]
  },
  {
   "cell_type": "code",
   "execution_count": 0,
   "metadata": {
    "application/vnd.databricks.v1+cell": {
     "cellMetadata": {
      "byteLimit": 2048000,
      "rowLimit": 10000
     },
     "inputWidgets": {},
     "nuid": "d7cec34f-1166-496e-9505-e18068380b02",
     "showTitle": false,
     "tableResultSettingsMap": {},
     "title": ""
    }
   },
   "outputs": [
    {
     "output_type": "display_data",
     "data": {
      "text/plain": [
       "\u001B[0;31m---------------------------------------------------------------------------\u001B[0m\n",
       "\u001B[0;31mTypeError\u001B[0m                                 Traceback (most recent call last)\n",
       "File \u001B[0;32m<command-1651294913096947>:1\u001B[0m\n",
       "\u001B[0;32m----> 1\u001B[0m \u001B[43mman_df\u001B[49m\u001B[38;5;241;43m.\u001B[39;49m\u001B[43mdistinct\u001B[49m\u001B[43m(\u001B[49m\u001B[38;5;124;43m\"\u001B[39;49m\u001B[38;5;124;43mid\u001B[39;49m\u001B[38;5;124;43m\"\u001B[39;49m\u001B[43m,\u001B[49m\u001B[43m \u001B[49m\u001B[38;5;124;43m'\u001B[39;49m\u001B[38;5;124;43mname\u001B[39;49m\u001B[38;5;124;43m'\u001B[39;49m\u001B[43m)\u001B[49m\u001B[38;5;241m.\u001B[39mshow()\n",
       "\n",
       "File \u001B[0;32m/databricks/spark/python/pyspark/instrumentation_utils.py:48\u001B[0m, in \u001B[0;36m_wrap_function.<locals>.wrapper\u001B[0;34m(*args, **kwargs)\u001B[0m\n",
       "\u001B[1;32m     46\u001B[0m start \u001B[38;5;241m=\u001B[39m time\u001B[38;5;241m.\u001B[39mperf_counter()\n",
       "\u001B[1;32m     47\u001B[0m \u001B[38;5;28;01mtry\u001B[39;00m:\n",
       "\u001B[0;32m---> 48\u001B[0m     res \u001B[38;5;241m=\u001B[39m \u001B[43mfunc\u001B[49m\u001B[43m(\u001B[49m\u001B[38;5;241;43m*\u001B[39;49m\u001B[43margs\u001B[49m\u001B[43m,\u001B[49m\u001B[43m \u001B[49m\u001B[38;5;241;43m*\u001B[39;49m\u001B[38;5;241;43m*\u001B[39;49m\u001B[43mkwargs\u001B[49m\u001B[43m)\u001B[49m\n",
       "\u001B[1;32m     49\u001B[0m     logger\u001B[38;5;241m.\u001B[39mlog_success(\n",
       "\u001B[1;32m     50\u001B[0m         module_name, class_name, function_name, time\u001B[38;5;241m.\u001B[39mperf_counter() \u001B[38;5;241m-\u001B[39m start, signature\n",
       "\u001B[1;32m     51\u001B[0m     )\n",
       "\u001B[1;32m     52\u001B[0m     \u001B[38;5;28;01mreturn\u001B[39;00m res\n",
       "\n",
       "\u001B[0;31mTypeError\u001B[0m: distinct() takes 1 positional argument but 3 were given"
      ]
     },
     "metadata": {
      "application/vnd.databricks.v1+output": {
       "arguments": {},
       "data": "\u001B[0;31m---------------------------------------------------------------------------\u001B[0m\n\u001B[0;31mTypeError\u001B[0m                                 Traceback (most recent call last)\nFile \u001B[0;32m<command-1651294913096947>:1\u001B[0m\n\u001B[0;32m----> 1\u001B[0m \u001B[43mman_df\u001B[49m\u001B[38;5;241;43m.\u001B[39;49m\u001B[43mdistinct\u001B[49m\u001B[43m(\u001B[49m\u001B[38;5;124;43m\"\u001B[39;49m\u001B[38;5;124;43mid\u001B[39;49m\u001B[38;5;124;43m\"\u001B[39;49m\u001B[43m,\u001B[49m\u001B[43m \u001B[49m\u001B[38;5;124;43m'\u001B[39;49m\u001B[38;5;124;43mname\u001B[39;49m\u001B[38;5;124;43m'\u001B[39;49m\u001B[43m)\u001B[49m\u001B[38;5;241m.\u001B[39mshow()\n\nFile \u001B[0;32m/databricks/spark/python/pyspark/instrumentation_utils.py:48\u001B[0m, in \u001B[0;36m_wrap_function.<locals>.wrapper\u001B[0;34m(*args, **kwargs)\u001B[0m\n\u001B[1;32m     46\u001B[0m start \u001B[38;5;241m=\u001B[39m time\u001B[38;5;241m.\u001B[39mperf_counter()\n\u001B[1;32m     47\u001B[0m \u001B[38;5;28;01mtry\u001B[39;00m:\n\u001B[0;32m---> 48\u001B[0m     res \u001B[38;5;241m=\u001B[39m \u001B[43mfunc\u001B[49m\u001B[43m(\u001B[49m\u001B[38;5;241;43m*\u001B[39;49m\u001B[43margs\u001B[49m\u001B[43m,\u001B[49m\u001B[43m \u001B[49m\u001B[38;5;241;43m*\u001B[39;49m\u001B[38;5;241;43m*\u001B[39;49m\u001B[43mkwargs\u001B[49m\u001B[43m)\u001B[49m\n\u001B[1;32m     49\u001B[0m     logger\u001B[38;5;241m.\u001B[39mlog_success(\n\u001B[1;32m     50\u001B[0m         module_name, class_name, function_name, time\u001B[38;5;241m.\u001B[39mperf_counter() \u001B[38;5;241m-\u001B[39m start, signature\n\u001B[1;32m     51\u001B[0m     )\n\u001B[1;32m     52\u001B[0m     \u001B[38;5;28;01mreturn\u001B[39;00m res\n\n\u001B[0;31mTypeError\u001B[0m: distinct() takes 1 positional argument but 3 were given",
       "errorSummary": "<span class='ansi-red-fg'>TypeError</span>: distinct() takes 1 positional argument but 3 were given",
       "errorTraceType": "ansi",
       "metadata": {},
       "type": "ipynbError"
      }
     },
     "output_type": "display_data"
    }
   ],
   "source": [
    "man_df.distinct(\"id\", 'name').show()"
   ]
  },
  {
   "cell_type": "code",
   "execution_count": 0,
   "metadata": {
    "application/vnd.databricks.v1+cell": {
     "cellMetadata": {
      "byteLimit": 2048000,
      "rowLimit": 10000
     },
     "inputWidgets": {},
     "nuid": "999dc4f7-d272-46b5-b323-5c1a8114e02c",
     "showTitle": false,
     "tableResultSettingsMap": {},
     "title": ""
    }
   },
   "outputs": [
    {
     "output_type": "stream",
     "name": "stdout",
     "output_type": "stream",
     "text": [
      "+---+------+\n| id|  name|\n+---+------+\n| 10|  Anil|\n| 11| Vikas|\n| 12| Nisha|\n| 13| Nidhi|\n| 15| Mohit|\n| 14| Priya|\n| 17| Raman|\n| 16|Rajesh|\n| 18|   Sam|\n+---+------+\n\n"
     ]
    }
   ],
   "source": [
    "man_df.select('id', 'name').distinct().show()"
   ]
  },
  {
   "cell_type": "code",
   "execution_count": 0,
   "metadata": {
    "application/vnd.databricks.v1+cell": {
     "cellMetadata": {
      "byteLimit": 2048000,
      "rowLimit": 10000
     },
     "inputWidgets": {},
     "nuid": "fa6cafcf-6cbe-4164-8a10-1e76afbfd88a",
     "showTitle": false,
     "tableResultSettingsMap": {},
     "title": ""
    }
   },
   "outputs": [
    {
     "output_type": "stream",
     "name": "stdout",
     "output_type": "stream",
     "text": [
      "+---+------+------+-------+\n| id|  name|salary|mang_id|\n+---+------+------+-------+\n| 10|  Anil| 50000|     18|\n| 12| Nisha| 40000|     18|\n| 11| Vikas| 75000|     16|\n| 13| Nidhi| 60000|     17|\n| 15| Mohit| 45000|     18|\n| 14| Priya| 80000|     18|\n| 16|Rajesh| 90000|     10|\n| 17| Raman| 55000|     16|\n| 18|   Sam| 65000|     17|\n| 14| Priya| 90000|     18|\n+---+------+------+-------+\n\n"
     ]
    }
   ],
   "source": [
    "man_df.drop_duplicates(['id', 'name', 'salary', 'mang_id']).show()"
   ]
  },
  {
   "cell_type": "code",
   "execution_count": 0,
   "metadata": {
    "application/vnd.databricks.v1+cell": {
     "cellMetadata": {
      "byteLimit": 2048000,
      "rowLimit": 10000
     },
     "inputWidgets": {},
     "nuid": "27512588-8ac4-4ccf-b081-19b749bc0ad9",
     "showTitle": false,
     "tableResultSettingsMap": {},
     "title": ""
    }
   },
   "outputs": [
    {
     "output_type": "stream",
     "name": "stdout",
     "output_type": "stream",
     "text": [
      "+---+------+------+-------+\n| id|  name|salary|mang_id|\n+---+------+------+-------+\n| 12| Nisha| 40000|     18|\n| 15| Mohit| 45000|     18|\n| 15| Mohit| 45000|     18|\n| 10|  Anil| 50000|     18|\n| 17| Raman| 55000|     16|\n| 13| Nidhi| 60000|     17|\n| 13| Nidhi| 60000|     17|\n| 18|   Sam| 65000|     17|\n| 18|   Sam| 65000|     17|\n| 11| Vikas| 75000|     16|\n| 14| Priya| 80000|     18|\n| 16|Rajesh| 90000|     10|\n| 14| Priya| 90000|     18|\n+---+------+------+-------+\n\n"
     ]
    }
   ],
   "source": [
    "man_df.sort('salary').show()"
   ]
  },
  {
   "cell_type": "code",
   "execution_count": 0,
   "metadata": {
    "application/vnd.databricks.v1+cell": {
     "cellMetadata": {
      "byteLimit": 2048000,
      "rowLimit": 10000
     },
     "inputWidgets": {},
     "nuid": "945ffc7b-af5b-4107-adb2-27df6da9577e",
     "showTitle": false,
     "tableResultSettingsMap": {},
     "title": ""
    }
   },
   "outputs": [
    {
     "output_type": "display_data",
     "data": {
      "text/plain": [
       "\u001B[0;31m---------------------------------------------------------------------------\u001B[0m\n",
       "\u001B[0;31mAttributeError\u001B[0m                            Traceback (most recent call last)\n",
       "File \u001B[0;32m<command-2027943363197537>:1\u001B[0m\n",
       "\u001B[0;32m----> 1\u001B[0m man_df\u001B[38;5;241m.\u001B[39msort(\u001B[38;5;124;43m'\u001B[39;49m\u001B[38;5;124;43msalary\u001B[39;49m\u001B[38;5;124;43m'\u001B[39;49m\u001B[38;5;241;43m.\u001B[39;49m\u001B[43mdesc\u001B[49m())\u001B[38;5;241m.\u001B[39mshow()\n",
       "\n",
       "\u001B[0;31mAttributeError\u001B[0m: 'str' object has no attribute 'desc'"
      ]
     },
     "metadata": {
      "application/vnd.databricks.v1+output": {
       "arguments": {},
       "data": "\u001B[0;31m---------------------------------------------------------------------------\u001B[0m\n\u001B[0;31mAttributeError\u001B[0m                            Traceback (most recent call last)\nFile \u001B[0;32m<command-2027943363197537>:1\u001B[0m\n\u001B[0;32m----> 1\u001B[0m man_df\u001B[38;5;241m.\u001B[39msort(\u001B[38;5;124;43m'\u001B[39;49m\u001B[38;5;124;43msalary\u001B[39;49m\u001B[38;5;124;43m'\u001B[39;49m\u001B[38;5;241;43m.\u001B[39;49m\u001B[43mdesc\u001B[49m())\u001B[38;5;241m.\u001B[39mshow()\n\n\u001B[0;31mAttributeError\u001B[0m: 'str' object has no attribute 'desc'",
       "errorSummary": "<span class='ansi-red-fg'>AttributeError</span>: 'str' object has no attribute 'desc'",
       "errorTraceType": "ansi",
       "metadata": {},
       "type": "ipynbError"
      }
     },
     "output_type": "display_data"
    }
   ],
   "source": [
    "man_df.sort('salary'.desc()).show()"
   ]
  },
  {
   "cell_type": "code",
   "execution_count": 0,
   "metadata": {
    "application/vnd.databricks.v1+cell": {
     "cellMetadata": {
      "byteLimit": 2048000,
      "rowLimit": 10000
     },
     "inputWidgets": {},
     "nuid": "27706f22-5e39-48e7-a55f-ec66913fb252",
     "showTitle": false,
     "tableResultSettingsMap": {},
     "title": ""
    }
   },
   "outputs": [
    {
     "output_type": "stream",
     "name": "stdout",
     "output_type": "stream",
     "text": [
      "+---+------+------+-------+\n| id|  name|salary|mang_id|\n+---+------+------+-------+\n| 16|Rajesh| 90000|     10|\n| 14| Priya| 90000|     18|\n| 14| Priya| 80000|     18|\n| 11| Vikas| 75000|     16|\n| 18|   Sam| 65000|     17|\n| 18|   Sam| 65000|     17|\n| 13| Nidhi| 60000|     17|\n| 13| Nidhi| 60000|     17|\n| 17| Raman| 55000|     16|\n| 10|  Anil| 50000|     18|\n| 15| Mohit| 45000|     18|\n| 15| Mohit| 45000|     18|\n| 12| Nisha| 40000|     18|\n+---+------+------+-------+\n\n"
     ]
    }
   ],
   "source": [
    "man_df.sort(col('salary').desc()).show()"
   ]
  },
  {
   "cell_type": "code",
   "execution_count": 0,
   "metadata": {
    "application/vnd.databricks.v1+cell": {
     "cellMetadata": {
      "byteLimit": 2048000,
      "rowLimit": 10000
     },
     "inputWidgets": {},
     "nuid": "1b62474d-f46d-4e98-bfb4-29a3edbe89b5",
     "showTitle": false,
     "tableResultSettingsMap": {},
     "title": ""
    }
   },
   "outputs": [
    {
     "output_type": "stream",
     "name": "stdout",
     "output_type": "stream",
     "text": [
      "+---+------+------+-------+\n| id|  name|salary|mang_id|\n+---+------+------+-------+\n| 16|Rajesh| 90000|     10|\n| 14| Priya| 90000|     18|\n| 14| Priya| 80000|     18|\n| 11| Vikas| 75000|     16|\n| 18|   Sam| 65000|     17|\n| 18|   Sam| 65000|     17|\n| 13| Nidhi| 60000|     17|\n| 13| Nidhi| 60000|     17|\n| 17| Raman| 55000|     16|\n| 10|  Anil| 50000|     18|\n| 15| Mohit| 45000|     18|\n| 15| Mohit| 45000|     18|\n| 12| Nisha| 40000|     18|\n+---+------+------+-------+\n\n"
     ]
    }
   ],
   "source": [
    "man_df.sort(col('salary').desc(), col('name').desc()).show()"
   ]
  },
  {
   "cell_type": "code",
   "execution_count": 0,
   "metadata": {
    "application/vnd.databricks.v1+cell": {
     "cellMetadata": {
      "byteLimit": 2048000,
      "rowLimit": 10000
     },
     "inputWidgets": {},
     "nuid": "ca6c8098-3a2c-49f8-8eff-bd18380a73eb",
     "showTitle": false,
     "tableResultSettingsMap": {},
     "title": ""
    }
   },
   "outputs": [
    {
     "output_type": "stream",
     "name": "stdout",
     "output_type": "stream",
     "text": [
      "+---+----+------+\n| id|name|ref_id|\n+---+----+------+\n|  1|Will|  null|\n|  2|Jane|  null|\n|  3|Alex|     2|\n|  4|Bill|  null|\n|  5|Zack|     1|\n|  6|Mark|     2|\n+---+----+------+\n\n"
     ]
    }
   ],
   "source": [
    "# find names which are not referred by id 2\n",
    "\n",
    "leet_code_data = [\n",
    "    (1, 'Will', None),\n",
    "    (2, 'Jane', None),\n",
    "    (3, 'Alex', 2),\n",
    "    (4, 'Bill', None),\n",
    "    (5, 'Zack', 1),\n",
    "    (6, 'Mark', 2)\n",
    "]\n",
    "\n",
    "schema1 = ['id', 'name', 'ref_id']\n",
    "\n",
    "leet_df = spark.createDataFrame(data=leet_code_data, schema=schema1)\n",
    "leet_df.show()"
   ]
  },
  {
   "cell_type": "code",
   "execution_count": 0,
   "metadata": {
    "application/vnd.databricks.v1+cell": {
     "cellMetadata": {
      "byteLimit": 2048000,
      "rowLimit": 10000
     },
     "inputWidgets": {},
     "nuid": "0050263c-daf1-4228-8ff6-bf6d4499c195",
     "showTitle": false,
     "tableResultSettingsMap": {},
     "title": ""
    }
   },
   "outputs": [
    {
     "output_type": "stream",
     "name": "stdout",
     "output_type": "stream",
     "text": [
      "+----+\n|name|\n+----+\n|Will|\n|Jane|\n|Bill|\n|Zack|\n+----+\n\n"
     ]
    }
   ],
   "source": [
    "leet_df.select('name').where((col('ref_id') !=2) | (col('ref_id').isNull())).show()"
   ]
  },
  {
   "cell_type": "code",
   "execution_count": 0,
   "metadata": {
    "application/vnd.databricks.v1+cell": {
     "cellMetadata": {
      "byteLimit": 2048000,
      "rowLimit": 10000
     },
     "inputWidgets": {},
     "nuid": "b3ab82aa-3ed6-48e4-b853-b94aa831b946",
     "showTitle": false,
     "tableResultSettingsMap": {},
     "title": ""
    }
   },
   "outputs": [],
   "source": [
    "leet_df.createOrReplaceTempView('leet_table')"
   ]
  },
  {
   "cell_type": "code",
   "execution_count": 0,
   "metadata": {
    "application/vnd.databricks.v1+cell": {
     "cellMetadata": {
      "byteLimit": 2048000,
      "rowLimit": 10000
     },
     "inputWidgets": {},
     "nuid": "5aba65f8-f1d2-4d29-94eb-0eb1a400f351",
     "showTitle": false,
     "tableResultSettingsMap": {},
     "title": ""
    }
   },
   "outputs": [
    {
     "output_type": "stream",
     "name": "stdout",
     "output_type": "stream",
     "text": [
      "+----+\n|name|\n+----+\n|Will|\n|Jane|\n|Bill|\n|Zack|\n+----+\n\n"
     ]
    }
   ],
   "source": [
    "spark.sql(\"\"\"\n",
    "          select name from leet_table where ref_id not in (2) or ref_id is null\n",
    "          \"\"\").show()"
   ]
  },
  {
   "cell_type": "code",
   "execution_count": 0,
   "metadata": {
    "application/vnd.databricks.v1+cell": {
     "cellMetadata": {
      "byteLimit": 2048000,
      "rowLimit": 10000
     },
     "inputWidgets": {},
     "nuid": "f3692bf9-5e5c-4a99-9f42-33ced8b5add6",
     "showTitle": false,
     "tableResultSettingsMap": {},
     "title": ""
    }
   },
   "outputs": [
    {
     "output_type": "stream",
     "name": "stdout",
     "output_type": "stream",
     "text": [
      "+----+-------+----+------+-------+-----------+\n|  id|   name| age|salary|country|       dept|\n+----+-------+----+------+-------+-----------+\n|   1| manish|  26| 20000|  india|         IT|\n|   2|  rahul|null| 40000|germany|engineering|\n|   3|  pawan|  12| 60000|  india|      sales|\n|   4|roshini|  44|  null|     uk|engineering|\n|   5|raushan|  35| 70000|  india|      sales|\n|   6|   null|  29|200000|     uk|         IT|\n|   7|   adam|  37| 65000|     us|         IT|\n|   8|  chris|  16| 40000|     us|      sales|\n|null|   null|null|  null|   null|       null|\n|   7|   adam|  37| 65000|     us|         IT|\n+----+-------+----+------+-------+-----------+\n\n"
     ]
    }
   ],
   "source": [
    "emp_d = [\n",
    "(1,'manish',26,20000,'india','IT'),\n",
    "(2,'rahul',None,40000,'germany','engineering'),\n",
    "(3,'pawan',12,60000,'india','sales'),\n",
    "(4,'roshini',44,None,'uk','engineering'),\n",
    "(5,'raushan',35,70000,'india','sales'),\n",
    "(6,None,29,200000,'uk','IT'),\n",
    "(7,'adam',37,65000,'us','IT'),\n",
    "(8,'chris',16,40000,'us','sales'),\n",
    "(None,None,None,None,None,None),\n",
    "(7,'adam',37,65000,'us','IT')\n",
    "]\n",
    "\n",
    "sch1 = ['id', 'name', 'age', 'salary', 'country', 'dept']\n",
    "\n",
    "dept_df = spark.createDataFrame(data=emp_d, schema=sch1)\n",
    "dept_df.show()"
   ]
  },
  {
   "cell_type": "code",
   "execution_count": 0,
   "metadata": {
    "application/vnd.databricks.v1+cell": {
     "cellMetadata": {
      "byteLimit": 2048000,
      "rowLimit": 10000
     },
     "inputWidgets": {},
     "nuid": "6861a7e3-8c16-4b88-9d12-2aa34bee383a",
     "showTitle": false,
     "tableResultSettingsMap": {},
     "title": ""
    }
   },
   "outputs": [
    {
     "output_type": "stream",
     "name": "stdout",
     "output_type": "stream",
     "text": [
      "Out[59]: 10"
     ]
    }
   ],
   "source": [
    "dept_df.count()"
   ]
  },
  {
   "cell_type": "code",
   "execution_count": 0,
   "metadata": {
    "application/vnd.databricks.v1+cell": {
     "cellMetadata": {
      "byteLimit": 2048000,
      "rowLimit": 10000
     },
     "inputWidgets": {},
     "nuid": "b9ea4a5c-876a-4fc2-98d1-dbbcdf352904",
     "showTitle": false,
     "tableResultSettingsMap": {},
     "title": ""
    }
   },
   "outputs": [
    {
     "output_type": "stream",
     "name": "stdout",
     "output_type": "stream",
     "text": [
      "+---------+\n|count(id)|\n+---------+\n|        9|\n+---------+\n\n"
     ]
    }
   ],
   "source": [
    "dept_df.select(count('id')).show()"
   ]
  },
  {
   "cell_type": "code",
   "execution_count": 0,
   "metadata": {
    "application/vnd.databricks.v1+cell": {
     "cellMetadata": {
      "byteLimit": 2048000,
      "rowLimit": 10000
     },
     "inputWidgets": {},
     "nuid": "f5433d81-9d14-4c9f-b63b-30887a18d648",
     "showTitle": false,
     "tableResultSettingsMap": {},
     "title": ""
    }
   },
   "outputs": [
    {
     "output_type": "stream",
     "name": "stdout",
     "output_type": "stream",
     "text": [
      "+-----------+\n|count(name)|\n+-----------+\n|          8|\n+-----------+\n\n"
     ]
    }
   ],
   "source": [
    "dept_df.select(count('name')).show()     # transformation => show is an action"
   ]
  },
  {
   "cell_type": "code",
   "execution_count": 0,
   "metadata": {
    "application/vnd.databricks.v1+cell": {
     "cellMetadata": {
      "byteLimit": 2048000,
      "rowLimit": 10000
     },
     "inputWidgets": {},
     "nuid": "e55ee0fa-97bf-4a36-87c5-6951ab1234a5",
     "showTitle": false,
     "tableResultSettingsMap": {},
     "title": ""
    }
   },
   "outputs": [
    {
     "output_type": "stream",
     "name": "stdout",
     "output_type": "stream",
     "text": [
      "+--------+\n|count(1)|\n+--------+\n|      10|\n+--------+\n\n"
     ]
    }
   ],
   "source": [
    "dept_df.select(count('*')).show() "
   ]
  },
  {
   "cell_type": "code",
   "execution_count": 0,
   "metadata": {
    "application/vnd.databricks.v1+cell": {
     "cellMetadata": {
      "byteLimit": 2048000,
      "rowLimit": 10000
     },
     "inputWidgets": {},
     "nuid": "20935874-6e00-45f1-8c9f-addff7f3bae0",
     "showTitle": false,
     "tableResultSettingsMap": {},
     "title": ""
    }
   },
   "outputs": [
    {
     "output_type": "stream",
     "name": "stdout",
     "output_type": "stream",
     "text": [
      "+-----------+-----------+-----------+\n|sum(salary)|min(salary)|max(salary)|\n+-----------+-----------+-----------+\n|     560000|      20000|     200000|\n+-----------+-----------+-----------+\n\n"
     ]
    }
   ],
   "source": [
    "dept_df.select(sum('salary'), min('salary'), max('salary')).show() "
   ]
  },
  {
   "cell_type": "code",
   "execution_count": 0,
   "metadata": {
    "application/vnd.databricks.v1+cell": {
     "cellMetadata": {
      "byteLimit": 2048000,
      "rowLimit": 10000
     },
     "inputWidgets": {},
     "nuid": "9730a15b-559d-470c-bef6-fe0c0ccfe595",
     "showTitle": false,
     "tableResultSettingsMap": {},
     "title": ""
    }
   },
   "outputs": [
    {
     "output_type": "stream",
     "name": "stdout",
     "output_type": "stream",
     "text": [
      "+---------+-------+-------+\n|total_sal|min_sal|max_sal|\n+---------+-------+-------+\n|   560000|  20000| 200000|\n+---------+-------+-------+\n\n"
     ]
    }
   ],
   "source": [
    "dept_df.select(sum('salary').alias('total_sal'), min('salary').alias('min_sal'), max('salary').alias('max_sal')).show() "
   ]
  },
  {
   "cell_type": "code",
   "execution_count": 0,
   "metadata": {
    "application/vnd.databricks.v1+cell": {
     "cellMetadata": {
      "byteLimit": 2048000,
      "rowLimit": 10000
     },
     "inputWidgets": {},
     "nuid": "364053f6-3a5a-4cbd-8c49-23a295450c51",
     "showTitle": false,
     "tableResultSettingsMap": {},
     "title": ""
    }
   },
   "outputs": [
    {
     "output_type": "stream",
     "name": "stdout",
     "output_type": "stream",
     "text": [
      "+-----------+-----------+-------------+\n|avg(salary)|sum(salary)|count(salary)|\n+-----------+-----------+-------------+\n|    70000.0|     560000|            8|\n+-----------+-----------+-------------+\n\n"
     ]
    }
   ],
   "source": [
    "dept_df.select(avg('salary'), sum('salary'), count('salary')).show()"
   ]
  },
  {
   "cell_type": "code",
   "execution_count": 0,
   "metadata": {
    "application/vnd.databricks.v1+cell": {
     "cellMetadata": {
      "byteLimit": 2048000,
      "rowLimit": 10000
     },
     "inputWidgets": {},
     "nuid": "8610d5ed-0316-401d-8b02-67fb576ccae5",
     "showTitle": false,
     "tableResultSettingsMap": {},
     "title": ""
    }
   },
   "outputs": [
    {
     "output_type": "stream",
     "name": "stdout",
     "output_type": "stream",
     "text": [
      "+------------------------+-----------+-------------+\n|CAST(avg(salary) AS INT)|sum(salary)|count(salary)|\n+------------------------+-----------+-------------+\n|                   70000|     560000|            8|\n+------------------------+-----------+-------------+\n\n"
     ]
    }
   ],
   "source": [
    "dept_df.select(avg('salary').cast('int'), sum('salary'), count('salary')).show()"
   ]
  },
  {
   "cell_type": "code",
   "execution_count": 0,
   "metadata": {
    "application/vnd.databricks.v1+cell": {
     "cellMetadata": {
      "byteLimit": 2048000,
      "rowLimit": 10000
     },
     "inputWidgets": {},
     "nuid": "39282bb9-2839-487f-9ba4-6b0b56964260",
     "showTitle": false,
     "tableResultSettingsMap": {},
     "title": ""
    }
   },
   "outputs": [
    {
     "output_type": "stream",
     "name": "stdout",
     "output_type": "stream",
     "text": [
      "+-------+-----------+-------------+\n|avg_sal|sum(salary)|count(salary)|\n+-------+-----------+-------------+\n|  70000|     560000|            8|\n+-------+-----------+-------------+\n\n"
     ]
    }
   ],
   "source": [
    "dept_df.select(avg('salary').cast('int').alias('avg_sal'), sum('salary'), count('salary')).show()"
   ]
  },
  {
   "cell_type": "code",
   "execution_count": 0,
   "metadata": {
    "application/vnd.databricks.v1+cell": {
     "cellMetadata": {
      "byteLimit": 2048000,
      "rowLimit": 10000
     },
     "inputWidgets": {},
     "nuid": "e63da6f0-d084-4fd7-985f-b31e7fab4bd4",
     "showTitle": false,
     "tableResultSettingsMap": {},
     "title": ""
    }
   },
   "outputs": [
    {
     "output_type": "stream",
     "name": "stdout",
     "output_type": "stream",
     "text": [
      "+-----------+-----------+\n|       dept|sum(salary)|\n+-----------+-----------+\n|         IT|     350000|\n|engineering|      40000|\n|      sales|     170000|\n|       null|       null|\n+-----------+-----------+\n\n"
     ]
    }
   ],
   "source": [
    "dept_df.groupBy('dept').agg(sum('salary')).show()"
   ]
  },
  {
   "cell_type": "code",
   "execution_count": 0,
   "metadata": {
    "application/vnd.databricks.v1+cell": {
     "cellMetadata": {
      "byteLimit": 2048000,
      "rowLimit": 10000
     },
     "inputWidgets": {},
     "nuid": "edd45d57-657f-4282-8650-aaf65c199b6f",
     "showTitle": false,
     "tableResultSettingsMap": {},
     "title": ""
    }
   },
   "outputs": [
    {
     "output_type": "stream",
     "name": "stdout",
     "output_type": "stream",
     "text": [
      "+-----------+-----------+\n|       dept|sum(salary)|\n+-----------+-----------+\n|         IT|     350000|\n|engineering|      40000|\n|      sales|     170000|\n|       null|       null|\n+-----------+-----------+\n\n"
     ]
    }
   ],
   "source": [
    "spark.sql(\"\"\"\n",
    "          select dept, sum(salary) from emp_df_table group by dept\n",
    "          \"\"\").show()"
   ]
  },
  {
   "cell_type": "code",
   "execution_count": 0,
   "metadata": {
    "application/vnd.databricks.v1+cell": {
     "cellMetadata": {},
     "inputWidgets": {},
     "nuid": "6ed137cf-62aa-46a4-91d9-d71029c0c064",
     "showTitle": false,
     "tableResultSettingsMap": {},
     "title": ""
    }
   },
   "outputs": [],
   "source": []
  }
 ],
 "metadata": {
  "application/vnd.databricks.v1+notebook": {
   "computePreferences": null,
   "dashboards": [],
   "environmentMetadata": {
    "base_environment": "",
    "environment_version": "1"
   },
   "inputWidgetPreferences": null,
   "language": "python",
   "notebookMetadata": {
    "pythonIndentUnit": 4
   },
   "notebookName": "if-else unique aggr group by",
   "widgets": {}
  }
 },
 "nbformat": 4,
 "nbformat_minor": 0
}